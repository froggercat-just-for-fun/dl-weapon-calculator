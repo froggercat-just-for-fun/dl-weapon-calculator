{
 "metadata": {
  "language_info": {
   "codemirror_mode": {
    "name": "ipython",
    "version": 3
   },
   "file_extension": ".py",
   "mimetype": "text/x-python",
   "name": "python",
   "nbconvert_exporter": "python",
   "pygments_lexer": "ipython3",
   "version": "3.6.10-final"
  },
  "orig_nbformat": 2,
  "kernelspec": {
   "name": "python3",
   "display_name": "Python 3",
   "language": "python"
  }
 },
 "nbformat": 4,
 "nbformat_minor": 2,
 "cells": [
  {
   "cell_type": "code",
   "execution_count": 15,
   "metadata": {},
   "outputs": [],
   "source": [
    "import pandas as pd\n",
    "import os\n",
    "import concurrent.futures\n",
    "\n",
    "pd.set_option('display.max_rows', 1000)"
   ]
  },
  {
   "cell_type": "code",
   "execution_count": 7,
   "metadata": {},
   "outputs": [],
   "source": [
    "summary_file = os.path.join(\"data\", \"summary\")\n",
    "summary = pd.read_csv(summary_file)"
   ]
  },
  {
   "cell_type": "code",
   "execution_count": 37,
   "metadata": {},
   "outputs": [
    {
     "output_type": "execute_result",
     "data": {
      "text/plain": [
       "0               ABRCharacter\n",
       "1                  ABRDragon\n",
       "2                  Abilities\n",
       "3               AbilityGroup\n",
       "4        AbilityLimitedGroup\n",
       "5                Adventurers\n",
       "6              AffinityBonus\n",
       "7                        Art\n",
       "8       CampaignQuestHeaders\n",
       "9                  CargoTest\n",
       "10             CastleStories\n",
       "11          ChainCoAbilities\n",
       "12           CharaLimitBreak\n",
       "13               CoAbilities\n",
       "14                    Comics\n",
       "15                Conditions\n",
       "16               Consumables\n",
       "17          DailyRewardChest\n",
       "18                   Dragons\n",
       "19               DropRewards\n",
       "20              EndeavorSets\n",
       "21           EndeavorSetsRow\n",
       "22          EndeavorSetsTest\n",
       "23               EnemiesTest\n",
       "24            EnemyPageLinks\n",
       "25         EventQuestHeaders\n",
       "26                    Events\n",
       "27                Facilities\n",
       "28                     Gifts\n",
       "29               LoadingTips\n",
       "30               MCMaterials\n",
       "31                MCNodeType\n",
       "32                   MCNodes\n",
       "33        MaintenanceNotices\n",
       "34           ManaCircleNodes\n",
       "35          ManaPieceElement\n",
       "36                 Materials\n",
       "37                      NPCs\n",
       "38                      News\n",
       "39                    Quests\n",
       "40           SecondaryEvents\n",
       "41                    Skills\n",
       "42                   Stories\n",
       "43                StoryLines\n",
       "44            SummonShowcase\n",
       "45              TestingTable\n",
       "46         VersionChangelogs\n",
       "47    WeaponBodyBuildupGroup\n",
       "48    WeaponBodyBuildupLevel\n",
       "49          WeaponBodyRarity\n",
       "50      WeaponPassiveAbility\n",
       "51                WeaponSkin\n",
       "52                   Weapons\n",
       "53                 Weaponsv1\n",
       "54     WyrmprintBuildupGroup\n",
       "55     WyrmprintBuildupLevel\n",
       "56           WyrmprintRarity\n",
       "57            WyrmprintTrade\n",
       "58                Wyrmprints\n",
       "59              Wyrmprintsv1\n",
       "60                 _pageData\n",
       "Name: name, dtype: object"
      ]
     },
     "metadata": {},
     "execution_count": 37
    }
   ],
   "source": [
    "summary.name"
   ]
  },
  {
   "cell_type": "code",
   "execution_count": 32,
   "metadata": {},
   "outputs": [
    {
     "output_type": "execute_result",
     "data": {
      "text/plain": [
       "                      name  records_pulled    start_time      end_time  \\\n",
       "53               Weaponsv1            1139  1.609973e+09  1.609973e+09   \n",
       "47  WeaponBodyBuildupGroup            1085  1.609973e+09  1.609973e+09   \n",
       "51              WeaponSkin             695  1.609973e+09  1.609973e+09   \n",
       "50    WeaponPassiveAbility             415  1.609973e+09  1.609973e+09   \n",
       "36               Materials             354  1.609973e+09  1.609973e+09   \n",
       "52                 Weapons             262  1.609973e+09  1.609973e+09   \n",
       "48  WeaponBodyBuildupLevel             220  1.609973e+09  1.609973e+09   \n",
       "49        WeaponBodyRarity               6  1.609973e+09  1.609973e+09   \n",
       "\n",
       "    duration                                                url  errors  \n",
       "53  0.848851  https://dragalialost.gamepedia.com/Special:Car...     NaN  \n",
       "47  0.392264  https://dragalialost.gamepedia.com/Special:Car...     NaN  \n",
       "51  0.498649  https://dragalialost.gamepedia.com/Special:Car...     NaN  \n",
       "50  0.335351  https://dragalialost.gamepedia.com/Special:Car...     NaN  \n",
       "36  0.295614  https://dragalialost.gamepedia.com/Special:Car...     NaN  \n",
       "52  0.605974  https://dragalialost.gamepedia.com/Special:Car...     NaN  \n",
       "48  0.217645  https://dragalialost.gamepedia.com/Special:Car...     NaN  \n",
       "49  0.229509  https://dragalialost.gamepedia.com/Special:Car...     NaN  "
      ],
      "text/html": "<div>\n<style scoped>\n    .dataframe tbody tr th:only-of-type {\n        vertical-align: middle;\n    }\n\n    .dataframe tbody tr th {\n        vertical-align: top;\n    }\n\n    .dataframe thead th {\n        text-align: right;\n    }\n</style>\n<table border=\"1\" class=\"dataframe\">\n  <thead>\n    <tr style=\"text-align: right;\">\n      <th></th>\n      <th>name</th>\n      <th>records_pulled</th>\n      <th>start_time</th>\n      <th>end_time</th>\n      <th>duration</th>\n      <th>url</th>\n      <th>errors</th>\n    </tr>\n  </thead>\n  <tbody>\n    <tr>\n      <th>53</th>\n      <td>Weaponsv1</td>\n      <td>1139</td>\n      <td>1.609973e+09</td>\n      <td>1.609973e+09</td>\n      <td>0.848851</td>\n      <td>https://dragalialost.gamepedia.com/Special:Car...</td>\n      <td>NaN</td>\n    </tr>\n    <tr>\n      <th>47</th>\n      <td>WeaponBodyBuildupGroup</td>\n      <td>1085</td>\n      <td>1.609973e+09</td>\n      <td>1.609973e+09</td>\n      <td>0.392264</td>\n      <td>https://dragalialost.gamepedia.com/Special:Car...</td>\n      <td>NaN</td>\n    </tr>\n    <tr>\n      <th>51</th>\n      <td>WeaponSkin</td>\n      <td>695</td>\n      <td>1.609973e+09</td>\n      <td>1.609973e+09</td>\n      <td>0.498649</td>\n      <td>https://dragalialost.gamepedia.com/Special:Car...</td>\n      <td>NaN</td>\n    </tr>\n    <tr>\n      <th>50</th>\n      <td>WeaponPassiveAbility</td>\n      <td>415</td>\n      <td>1.609973e+09</td>\n      <td>1.609973e+09</td>\n      <td>0.335351</td>\n      <td>https://dragalialost.gamepedia.com/Special:Car...</td>\n      <td>NaN</td>\n    </tr>\n    <tr>\n      <th>36</th>\n      <td>Materials</td>\n      <td>354</td>\n      <td>1.609973e+09</td>\n      <td>1.609973e+09</td>\n      <td>0.295614</td>\n      <td>https://dragalialost.gamepedia.com/Special:Car...</td>\n      <td>NaN</td>\n    </tr>\n    <tr>\n      <th>52</th>\n      <td>Weapons</td>\n      <td>262</td>\n      <td>1.609973e+09</td>\n      <td>1.609973e+09</td>\n      <td>0.605974</td>\n      <td>https://dragalialost.gamepedia.com/Special:Car...</td>\n      <td>NaN</td>\n    </tr>\n    <tr>\n      <th>48</th>\n      <td>WeaponBodyBuildupLevel</td>\n      <td>220</td>\n      <td>1.609973e+09</td>\n      <td>1.609973e+09</td>\n      <td>0.217645</td>\n      <td>https://dragalialost.gamepedia.com/Special:Car...</td>\n      <td>NaN</td>\n    </tr>\n    <tr>\n      <th>49</th>\n      <td>WeaponBodyRarity</td>\n      <td>6</td>\n      <td>1.609973e+09</td>\n      <td>1.609973e+09</td>\n      <td>0.229509</td>\n      <td>https://dragalialost.gamepedia.com/Special:Car...</td>\n      <td>NaN</td>\n    </tr>\n  </tbody>\n</table>\n</div>"
     },
     "metadata": {},
     "execution_count": 32
    }
   ],
   "source": [
    "weapon_tables = summary[(summary.name.str.contains(\"Weapon\")) | (summary.name == \"Materials\")].sort_values(\"records_pulled\",ascending=False)\n",
    "weapon_tables"
   ]
  },
  {
   "cell_type": "code",
   "execution_count": 33,
   "metadata": {},
   "outputs": [
    {
     "output_type": "execute_result",
     "data": {
      "text/plain": [
       "dict_keys(['Weaponsv1', 'WeaponBodyBuildupGroup', 'WeaponSkin', 'WeaponPassiveAbility', 'Materials', 'Weapons', 'WeaponBodyBuildupLevel', 'WeaponBodyRarity'])"
      ]
     },
     "metadata": {},
     "execution_count": 33
    }
   ],
   "source": [
    "wep_table_list = weapon_tables.name.to_list()\n",
    "\n",
    "def get_file(table):\n",
    "    filename = os.path.join(\"data\", f\"{table}.csv\")\n",
    "    return {table: pd.read_csv(filename)}\n",
    "\n",
    "with concurrent.futures.ThreadPoolExecutor() as executor:\n",
    "    futures = [executor.submit(get_file, table) for table in wep_table_list]\n",
    "    weapon_dfs = [f.result() for f in futures]\n",
    "    weapon_dfs = {k: v for d in weapon_dfs for k,v in d.items()}\n",
    "\n",
    "weapon_dfs.keys()"
   ]
  },
  {
   "cell_type": "code",
   "execution_count": 36,
   "metadata": {},
   "outputs": [
    {
     "output_type": "stream",
     "name": "stdout",
     "text": [
      "Weaponsv1:\n['Id', 'BaseId', 'FormId', 'TypeId', 'ElementalTypeId', 'VariationId', 'CraftNodeId', 'ParentCraftNodeId', 'CraftGroupId', 'MainWeaponId', 'AcquiredWeaponId1', 'AcquiredWeaponId2', 'AvailabilityId']\n\nWeaponBodyBuildupGroup:\n['Id', 'WeaponBodyBuildupGroupId', 'BuildupPieceTypeId', 'BuildupMaterialId1', 'BuildupMaterialId2', 'BuildupMaterialId3', 'BuildupMaterialId4', 'BuildupMaterialId5', 'BuildupMaterialId6', 'BuildupMaterialId7', 'BuildupMaterialId8', 'BuildupMaterialId9', 'BuildupMaterialId10']\n\nWeaponSkin:\n['Id', 'WeaponTypeId', 'ElementalTypeId', 'BaseId', 'VariationId', 'FormId', 'DecBaseId', 'DecVariationId', 'BulletBaseId', 'BulletVariationId']\n\nWeaponPassiveAbility:\n['Id', 'WeaponPassiveAbilityGroupId', 'WeaponTypeId', 'ElementalTypeId', 'SortId', 'AbilityId', 'RewardWeaponSkinId1', 'RewardWeaponSkinId2', 'UnlockMaterialId1', 'UnlockMaterialId2', 'UnlockMaterialId3', 'UnlockMaterialId4', 'UnlockMaterialId5']\n\nMaterials:\n['Id', 'QuestEventId', 'SortId']\n\nWeapons:\n['Id', 'WeaponSeriesId', 'WeaponSkinId', 'WeaponTypeId', 'ElementalTypeId', 'ChangeSkillId1', 'ChangeSkillId2', 'ChangeSkillId3', 'NeedCreateWeaponBodyId1', 'NeedCreateWeaponBodyId2', 'NeedAllUnlockWeaponBodyId1', 'WeaponPassiveAbilityGroupId', 'WeaponBodyBuildupGroupId', 'RewardWeaponSkinId1', 'RewardWeaponSkinId2', 'RewardWeaponSkinId3', 'RewardWeaponSkinId4', 'RewardWeaponSkinId5']\n\nWeaponBodyBuildupLevel:\n['Id', 'BuildupMaterialId1', 'BuildupMaterialId2', 'BuildupMaterialId3']\n\nWeaponBodyRarity:\n['Id']\n\n"
     ]
    }
   ],
   "source": [
    "for table, df in weapon_dfs.items():\n",
    "    print(f\"{table}:\\n{[i for i in df.columns if 'Id' in i]}\\n\")"
   ]
  },
  {
   "cell_type": "code",
   "execution_count": null,
   "metadata": {},
   "outputs": [],
   "source": []
  }
 ]
}