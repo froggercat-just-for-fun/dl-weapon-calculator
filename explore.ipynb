{
 "cells": [
  {
   "cell_type": "code",
   "execution_count": 141,
   "metadata": {},
   "outputs": [],
   "source": [
    "import pandas as pd\n",
    "import os\n",
    "import concurrent.futures\n",
    "import numpy as np\n",
    "from ipysheet import from_dataframe, to_dataframe\n",
    "\n",
    "pd.set_option('display.max_rows', 1000)"
   ]
  },
  {
   "cell_type": "markdown",
   "metadata": {},
   "source": [
    "# Load Metadata"
   ]
  },
  {
   "cell_type": "code",
   "execution_count": 142,
   "metadata": {},
   "outputs": [],
   "source": [
    "summary_file = os.path.join(\"data\", \"summary\")\n",
    "summary = pd.read_csv(summary_file)"
   ]
  },
  {
   "cell_type": "code",
   "execution_count": 143,
   "metadata": {},
   "outputs": [
    {
     "data": {
      "text/plain": "0               ABRCharacter\n1                  ABRDragon\n2                  Abilities\n3               AbilityGroup\n4        AbilityLimitedGroup\n5                Adventurers\n6              AffinityBonus\n7                        Art\n8       CampaignQuestHeaders\n9                  CargoTest\n10             CastleStories\n11          ChainCoAbilities\n12           CharaLimitBreak\n13               CoAbilities\n14                    Comics\n15                Conditions\n16               Consumables\n17          DailyRewardChest\n18                   Dragons\n19               DropRewards\n20              EndeavorSets\n21           EndeavorSetsRow\n22          EndeavorSetsTest\n23               EnemiesTest\n24            EnemyPageLinks\n25         EventQuestHeaders\n26                    Events\n27                Facilities\n28                     Gifts\n29               LoadingTips\n30               MCMaterials\n31                MCNodeType\n32                   MCNodes\n33        MaintenanceNotices\n34           ManaCircleNodes\n35          ManaPieceElement\n36                 Materials\n37                      NPCs\n38                      News\n39                    Quests\n40           SecondaryEvents\n41                    Skills\n42                   Stories\n43                StoryLines\n44            SummonShowcase\n45              TestingTable\n46         VersionChangelogs\n47    WeaponBodyBuildupGroup\n48    WeaponBodyBuildupLevel\n49          WeaponBodyRarity\n50      WeaponPassiveAbility\n51                WeaponSkin\n52                   Weapons\n53                 Weaponsv1\n54     WyrmprintBuildupGroup\n55     WyrmprintBuildupLevel\n56           WyrmprintRarity\n57            WyrmprintTrade\n58                Wyrmprints\n59              Wyrmprintsv1\n60                 _pageData\nName: name, dtype: object"
     },
     "execution_count": 143,
     "metadata": {},
     "output_type": "execute_result"
    }
   ],
   "source": [
    "summary.name"
   ]
  },
  {
   "cell_type": "markdown",
   "metadata": {},
   "source": [
    "# Weapon Calculations"
   ]
  },
  {
   "cell_type": "markdown",
   "metadata": {},
   "source": [
    "## Exploring Columns"
   ]
  },
  {
   "cell_type": "code",
   "execution_count": 144,
   "metadata": {},
   "outputs": [
    {
     "data": {
      "text/html": "<div>\n<style scoped>\n    .dataframe tbody tr th:only-of-type {\n        vertical-align: middle;\n    }\n\n    .dataframe tbody tr th {\n        vertical-align: top;\n    }\n\n    .dataframe thead th {\n        text-align: right;\n    }\n</style>\n<table border=\"1\" class=\"dataframe\">\n  <thead>\n    <tr style=\"text-align: right;\">\n      <th></th>\n      <th>name</th>\n      <th>records_pulled</th>\n      <th>start_time</th>\n      <th>end_time</th>\n      <th>duration</th>\n      <th>url</th>\n      <th>errors</th>\n    </tr>\n  </thead>\n  <tbody>\n    <tr>\n      <th>53</th>\n      <td>Weaponsv1</td>\n      <td>1139</td>\n      <td>1.609973e+09</td>\n      <td>1.609973e+09</td>\n      <td>0.848851</td>\n      <td>https://dragalialost.gamepedia.com/Special:Car...</td>\n      <td>NaN</td>\n    </tr>\n    <tr>\n      <th>47</th>\n      <td>WeaponBodyBuildupGroup</td>\n      <td>1085</td>\n      <td>1.609973e+09</td>\n      <td>1.609973e+09</td>\n      <td>0.392264</td>\n      <td>https://dragalialost.gamepedia.com/Special:Car...</td>\n      <td>NaN</td>\n    </tr>\n    <tr>\n      <th>51</th>\n      <td>WeaponSkin</td>\n      <td>695</td>\n      <td>1.609973e+09</td>\n      <td>1.609973e+09</td>\n      <td>0.498649</td>\n      <td>https://dragalialost.gamepedia.com/Special:Car...</td>\n      <td>NaN</td>\n    </tr>\n    <tr>\n      <th>50</th>\n      <td>WeaponPassiveAbility</td>\n      <td>415</td>\n      <td>1.609973e+09</td>\n      <td>1.609973e+09</td>\n      <td>0.335351</td>\n      <td>https://dragalialost.gamepedia.com/Special:Car...</td>\n      <td>NaN</td>\n    </tr>\n    <tr>\n      <th>36</th>\n      <td>Materials</td>\n      <td>354</td>\n      <td>1.609973e+09</td>\n      <td>1.609973e+09</td>\n      <td>0.295614</td>\n      <td>https://dragalialost.gamepedia.com/Special:Car...</td>\n      <td>NaN</td>\n    </tr>\n    <tr>\n      <th>52</th>\n      <td>Weapons</td>\n      <td>262</td>\n      <td>1.609973e+09</td>\n      <td>1.609973e+09</td>\n      <td>0.605974</td>\n      <td>https://dragalialost.gamepedia.com/Special:Car...</td>\n      <td>NaN</td>\n    </tr>\n    <tr>\n      <th>48</th>\n      <td>WeaponBodyBuildupLevel</td>\n      <td>220</td>\n      <td>1.609973e+09</td>\n      <td>1.609973e+09</td>\n      <td>0.217645</td>\n      <td>https://dragalialost.gamepedia.com/Special:Car...</td>\n      <td>NaN</td>\n    </tr>\n    <tr>\n      <th>49</th>\n      <td>WeaponBodyRarity</td>\n      <td>6</td>\n      <td>1.609973e+09</td>\n      <td>1.609973e+09</td>\n      <td>0.229509</td>\n      <td>https://dragalialost.gamepedia.com/Special:Car...</td>\n      <td>NaN</td>\n    </tr>\n  </tbody>\n</table>\n</div>",
      "text/plain": "                      name  records_pulled    start_time      end_time  \\\n53               Weaponsv1            1139  1.609973e+09  1.609973e+09   \n47  WeaponBodyBuildupGroup            1085  1.609973e+09  1.609973e+09   \n51              WeaponSkin             695  1.609973e+09  1.609973e+09   \n50    WeaponPassiveAbility             415  1.609973e+09  1.609973e+09   \n36               Materials             354  1.609973e+09  1.609973e+09   \n52                 Weapons             262  1.609973e+09  1.609973e+09   \n48  WeaponBodyBuildupLevel             220  1.609973e+09  1.609973e+09   \n49        WeaponBodyRarity               6  1.609973e+09  1.609973e+09   \n\n    duration                                                url  errors  \n53  0.848851  https://dragalialost.gamepedia.com/Special:Car...     NaN  \n47  0.392264  https://dragalialost.gamepedia.com/Special:Car...     NaN  \n51  0.498649  https://dragalialost.gamepedia.com/Special:Car...     NaN  \n50  0.335351  https://dragalialost.gamepedia.com/Special:Car...     NaN  \n36  0.295614  https://dragalialost.gamepedia.com/Special:Car...     NaN  \n52  0.605974  https://dragalialost.gamepedia.com/Special:Car...     NaN  \n48  0.217645  https://dragalialost.gamepedia.com/Special:Car...     NaN  \n49  0.229509  https://dragalialost.gamepedia.com/Special:Car...     NaN  "
     },
     "execution_count": 144,
     "metadata": {},
     "output_type": "execute_result"
    }
   ],
   "source": [
    "weapon_tables = summary[(summary.name.str.contains(\"Weapon\")) | (summary.name == \"Materials\")].sort_values(\"records_pulled\",ascending=False)\n",
    "weapon_tables"
   ]
  },
  {
   "cell_type": "code",
   "execution_count": 145,
   "metadata": {},
   "outputs": [
    {
     "data": {
      "text/plain": "dict_keys(['Weaponsv1', 'WeaponBodyBuildupGroup', 'WeaponSkin', 'WeaponPassiveAbility', 'Materials', 'Weapons', 'WeaponBodyBuildupLevel', 'WeaponBodyRarity'])"
     },
     "execution_count": 145,
     "metadata": {},
     "output_type": "execute_result"
    }
   ],
   "source": [
    "wep_table_list = weapon_tables.name.to_list()\n",
    "\n",
    "def get_file(table):\n",
    "    filename = os.path.join(\"data\", f\"{table}.csv\")\n",
    "    return {table: pd.read_csv(filename)}\n",
    "\n",
    "with concurrent.futures.ThreadPoolExecutor() as executor:\n",
    "    futures = [executor.submit(get_file, table) for table in wep_table_list]\n",
    "    weapon_dfs = [f.result() for f in futures]\n",
    "    weapon_dfs = {k: v for d in weapon_dfs for k,v in d.items()}\n",
    "\n",
    "weapon_dfs.keys()"
   ]
  },
  {
   "cell_type": "code",
   "execution_count": 146,
   "metadata": {},
   "outputs": [
    {
     "name": "stdout",
     "output_type": "stream",
     "text": [
      "Weaponsv1:\n",
      "['Id', 'BaseId', 'FormId', 'TypeId', 'ElementalTypeId', 'VariationId', 'CraftNodeId', 'ParentCraftNodeId', 'CraftGroupId', 'MainWeaponId', 'AcquiredWeaponId1', 'AcquiredWeaponId2', 'AvailabilityId']\n",
      "\n",
      "WeaponBodyBuildupGroup:\n",
      "['Id', 'WeaponBodyBuildupGroupId', 'BuildupPieceTypeId', 'BuildupMaterialId1', 'BuildupMaterialId2', 'BuildupMaterialId3', 'BuildupMaterialId4', 'BuildupMaterialId5', 'BuildupMaterialId6', 'BuildupMaterialId7', 'BuildupMaterialId8', 'BuildupMaterialId9', 'BuildupMaterialId10']\n",
      "\n",
      "WeaponSkin:\n",
      "['Id', 'WeaponTypeId', 'ElementalTypeId', 'BaseId', 'VariationId', 'FormId', 'DecBaseId', 'DecVariationId', 'BulletBaseId', 'BulletVariationId']\n",
      "\n",
      "WeaponPassiveAbility:\n",
      "['Id', 'WeaponPassiveAbilityGroupId', 'WeaponTypeId', 'ElementalTypeId', 'SortId', 'AbilityId', 'RewardWeaponSkinId1', 'RewardWeaponSkinId2', 'UnlockMaterialId1', 'UnlockMaterialId2', 'UnlockMaterialId3', 'UnlockMaterialId4', 'UnlockMaterialId5']\n",
      "\n",
      "Materials:\n",
      "['Id', 'QuestEventId', 'SortId']\n",
      "\n",
      "Weapons:\n",
      "['Id', 'WeaponSeriesId', 'WeaponSkinId', 'WeaponTypeId', 'ElementalTypeId', 'ChangeSkillId1', 'ChangeSkillId2', 'ChangeSkillId3', 'NeedCreateWeaponBodyId1', 'NeedCreateWeaponBodyId2', 'NeedAllUnlockWeaponBodyId1', 'WeaponPassiveAbilityGroupId', 'WeaponBodyBuildupGroupId', 'RewardWeaponSkinId1', 'RewardWeaponSkinId2', 'RewardWeaponSkinId3', 'RewardWeaponSkinId4', 'RewardWeaponSkinId5']\n",
      "\n",
      "WeaponBodyBuildupLevel:\n",
      "['Id', 'BuildupMaterialId1', 'BuildupMaterialId2', 'BuildupMaterialId3']\n",
      "\n",
      "WeaponBodyRarity:\n",
      "['Id']\n",
      "\n"
     ]
    }
   ],
   "source": [
    "for table, df in weapon_dfs.items():\n",
    "    print(f\"{table}:\\n{[i for i in df.columns if 'Id' in i]}\\n\")"
   ]
  },
  {
   "cell_type": "markdown",
   "metadata": {},
   "source": [
    "## Querying Weapons (Exploration)"
   ]
  },
  {
   "cell_type": "code",
   "execution_count": 147,
   "metadata": {},
   "outputs": [
    {
     "name": "stdout",
     "output_type": "stream",
     "text": [
      "Index(['Abilities11', 'Abilities12', 'Abilities13', 'Abilities21',\n",
      "       'Abilities22', 'Abilities23', 'BaseAtk', 'BaseHp', 'ChangeSkillId1',\n",
      "       'ChangeSkillId2', 'ChangeSkillId3', 'CreateCoin', 'CreateEntity1',\n",
      "       'CreateEntity2', 'CreateEntity3', 'CreateEntity4', 'CreateEntity5',\n",
      "       'CreateEntityQuantity1', 'CreateEntityQuantity2',\n",
      "       'CreateEntityQuantity3', 'CreateEntityQuantity4',\n",
      "       'CreateEntityQuantity5', 'CreateStartDate',\n",
      "       'CreateStartDate__precision', 'CrestSlotType1BaseCount',\n",
      "       'CrestSlotType1MaxCount', 'CrestSlotType2BaseCount',\n",
      "       'CrestSlotType2MaxCount', 'DuplicateEntity', 'DuplicateEntityQuantity',\n",
      "       'ElementalType', 'ElementalTypeId', 'Id', 'IsPlayable',\n",
      "       'LimitOverCountPartyPower1', 'LimitOverCountPartyPower2', 'MaxAtk1',\n",
      "       'MaxAtk2', 'MaxAtk3', 'MaxHp1', 'MaxHp2', 'MaxHp3', 'MaxLimitOverCount',\n",
      "       'MaxWeaponPassiveCharaCount', 'Name', 'NameJP',\n",
      "       'NeedAllUnlockWeaponBodyId1', 'NeedCreateWeaponBodyId1',\n",
      "       'NeedCreateWeaponBodyId2', 'NeedFortCraftLevel', 'Obtain', 'Rarity',\n",
      "       'RewardWeaponSkinId1', 'RewardWeaponSkinId2', 'RewardWeaponSkinId3',\n",
      "       'RewardWeaponSkinId4', 'RewardWeaponSkinId5', 'Text',\n",
      "       'WeaponBodyBuildupGroupId', 'WeaponPassiveAbilityGroupId',\n",
      "       'WeaponPassiveEffAtk', 'WeaponPassiveEffHp', 'WeaponSeries',\n",
      "       'WeaponSeriesId', 'WeaponSkinId', 'WeaponType', 'WeaponTypeId', '_ID',\n",
      "       '_pageID', '_pageName', '_pageNamespace', '_pageTitle'],\n",
      "      dtype='object')\n"
     ]
    },
    {
     "data": {
      "text/html": "<div>\n<style scoped>\n    .dataframe tbody tr th:only-of-type {\n        vertical-align: middle;\n    }\n\n    .dataframe tbody tr th {\n        vertical-align: top;\n    }\n\n    .dataframe thead th {\n        text-align: right;\n    }\n</style>\n<table border=\"1\" class=\"dataframe\">\n  <thead>\n    <tr style=\"text-align: right;\">\n      <th></th>\n      <th>Id</th>\n      <th>Name</th>\n      <th>NameJP</th>\n      <th>WeaponSeries</th>\n      <th>WeaponSeriesId</th>\n      <th>WeaponSkinId</th>\n      <th>WeaponType</th>\n      <th>WeaponTypeId</th>\n      <th>Rarity</th>\n      <th>ElementalType</th>\n      <th>...</th>\n      <th>RewardWeaponSkinId2</th>\n      <th>RewardWeaponSkinId3</th>\n      <th>RewardWeaponSkinId4</th>\n      <th>RewardWeaponSkinId5</th>\n      <th>_pageName</th>\n      <th>_pageTitle</th>\n      <th>_pageNamespace</th>\n      <th>_pageID</th>\n      <th>_ID</th>\n      <th>CreateStartDate__precision</th>\n    </tr>\n  </thead>\n  <tbody>\n    <tr>\n      <th>117</th>\n      <td>30460101</td>\n      <td>Mjölnir</td>\n      <td>ミョルニル</td>\n      <td>Agito</td>\n      <td>4</td>\n      <td>30460101</td>\n      <td>Axe</td>\n      <td>4</td>\n      <td>6</td>\n      <td>Flame</td>\n      <td>...</td>\n      <td>0</td>\n      <td>0</td>\n      <td>0</td>\n      <td>0</td>\n      <td>Mjölnir</td>\n      <td>Mjölnir</td>\n      <td>0</td>\n      <td>15249</td>\n      <td>172</td>\n      <td>0</td>\n    </tr>\n    <tr>\n      <th>120</th>\n      <td>30460401</td>\n      <td>Rog Mol</td>\n      <td>ローグ・モル</td>\n      <td>Agito</td>\n      <td>4</td>\n      <td>30460401</td>\n      <td>Axe</td>\n      <td>4</td>\n      <td>6</td>\n      <td>Light</td>\n      <td>...</td>\n      <td>0</td>\n      <td>0</td>\n      <td>0</td>\n      <td>0</td>\n      <td>Rog Mol</td>\n      <td>Rog Mol</td>\n      <td>0</td>\n      <td>22392</td>\n      <td>238</td>\n      <td>0</td>\n    </tr>\n    <tr>\n      <th>121</th>\n      <td>30460501</td>\n      <td>Fangtian Huaji</td>\n      <td>方天画戟</td>\n      <td>Agito</td>\n      <td>4</td>\n      <td>30460501</td>\n      <td>Axe</td>\n      <td>4</td>\n      <td>6</td>\n      <td>Shadow</td>\n      <td>...</td>\n      <td>0</td>\n      <td>0</td>\n      <td>0</td>\n      <td>0</td>\n      <td>Fangtian Huaji</td>\n      <td>Fangtian Huaji</td>\n      <td>0</td>\n      <td>17005</td>\n      <td>198</td>\n      <td>0</td>\n    </tr>\n    <tr>\n      <th>118</th>\n      <td>30460201</td>\n      <td>Ohohagari</td>\n      <td>大葉刈</td>\n      <td>Agito</td>\n      <td>4</td>\n      <td>30460201</td>\n      <td>Axe</td>\n      <td>4</td>\n      <td>6</td>\n      <td>Water</td>\n      <td>...</td>\n      <td>0</td>\n      <td>0</td>\n      <td>0</td>\n      <td>0</td>\n      <td>Ohohagari</td>\n      <td>Ohohagari</td>\n      <td>0</td>\n      <td>20310</td>\n      <td>221</td>\n      <td>0</td>\n    </tr>\n    <tr>\n      <th>119</th>\n      <td>30460301</td>\n      <td>Marmyadose</td>\n      <td>マルミアドワーズ</td>\n      <td>Agito</td>\n      <td>4</td>\n      <td>30460301</td>\n      <td>Axe</td>\n      <td>4</td>\n      <td>6</td>\n      <td>Wind</td>\n      <td>...</td>\n      <td>0</td>\n      <td>0</td>\n      <td>0</td>\n      <td>0</td>\n      <td>Marmyadose</td>\n      <td>Marmyadose</td>\n      <td>0</td>\n      <td>18628</td>\n      <td>209</td>\n      <td>0</td>\n    </tr>\n  </tbody>\n</table>\n<p>5 rows × 72 columns</p>\n</div>",
      "text/plain": "           Id            Name    NameJP WeaponSeries  WeaponSeriesId  \\\n117  30460101         Mjölnir     ミョルニル        Agito               4   \n120  30460401         Rog Mol    ローグ・モル        Agito               4   \n121  30460501  Fangtian Huaji      方天画戟        Agito               4   \n118  30460201       Ohohagari       大葉刈        Agito               4   \n119  30460301      Marmyadose  マルミアドワーズ        Agito               4   \n\n     WeaponSkinId WeaponType  WeaponTypeId  Rarity ElementalType  ...  \\\n117      30460101        Axe             4       6         Flame  ...   \n120      30460401        Axe             4       6         Light  ...   \n121      30460501        Axe             4       6        Shadow  ...   \n118      30460201        Axe             4       6         Water  ...   \n119      30460301        Axe             4       6          Wind  ...   \n\n     RewardWeaponSkinId2 RewardWeaponSkinId3  RewardWeaponSkinId4  \\\n117                    0                   0                    0   \n120                    0                   0                    0   \n121                    0                   0                    0   \n118                    0                   0                    0   \n119                    0                   0                    0   \n\n     RewardWeaponSkinId5       _pageName      _pageTitle  _pageNamespace  \\\n117                    0         Mjölnir         Mjölnir               0   \n120                    0         Rog Mol         Rog Mol               0   \n121                    0  Fangtian Huaji  Fangtian Huaji               0   \n118                    0       Ohohagari       Ohohagari               0   \n119                    0      Marmyadose      Marmyadose               0   \n\n     _pageID  _ID  CreateStartDate__precision  \n117    15249  172                           0  \n120    22392  238                           0  \n121    17005  198                           0  \n118    20310  221                           0  \n119    18628  209                           0  \n\n[5 rows x 72 columns]"
     },
     "execution_count": 147,
     "metadata": {},
     "output_type": "execute_result"
    }
   ],
   "source": [
    "df_weapons = weapon_dfs[\"Weapons\"]\n",
    "print(df_weapons.columns.sort_values())\n",
    "df_weapons[df_weapons.WeaponSeries=='Agito'].sort_values([\"WeaponType\", \"ElementalType\"]).head()"
   ]
  },
  {
   "cell_type": "code",
   "execution_count": 148,
   "metadata": {},
   "outputs": [
    {
     "name": "stdout",
     "output_type": "stream",
     "text": [
      "Index(['Id', 'WeaponBodyBuildupGroupId', 'BuildupPieceTypeId',\n",
      "       'BuildupPieceType', 'Step', 'UnlockConditionLevel',\n",
      "       'UnlockConditionLimitBreakCount', 'UnlockConditionLimitOverCount',\n",
      "       'RewardWeaponSkinNo', 'BuildupCoin', 'BuildupMaterialId1',\n",
      "       'BuildupMaterialQuantity1', 'BuildupMaterialId2',\n",
      "       'BuildupMaterialQuantity2', 'BuildupMaterialId3',\n",
      "       'BuildupMaterialQuantity3', 'BuildupMaterialId4',\n",
      "       'BuildupMaterialQuantity4', 'BuildupMaterialId5',\n",
      "       'BuildupMaterialQuantity5', 'BuildupMaterialId6',\n",
      "       'BuildupMaterialQuantity6', 'BuildupMaterialId7',\n",
      "       'BuildupMaterialQuantity7', 'BuildupMaterialId8',\n",
      "       'BuildupMaterialQuantity8', 'BuildupMaterialId9',\n",
      "       'BuildupMaterialQuantity9', 'BuildupMaterialId10',\n",
      "       'BuildupMaterialQuantity10', '_pageName', '_pageTitle',\n",
      "       '_pageNamespace', '_pageID', '_ID'],\n",
      "      dtype='object')\n"
     ]
    },
    {
     "data": {
      "text/html": "<div>\n<style scoped>\n    .dataframe tbody tr th:only-of-type {\n        vertical-align: middle;\n    }\n\n    .dataframe tbody tr th {\n        vertical-align: top;\n    }\n\n    .dataframe thead th {\n        text-align: right;\n    }\n</style>\n<table border=\"1\" class=\"dataframe\">\n  <thead>\n    <tr style=\"text-align: right;\">\n      <th></th>\n      <th>Id</th>\n      <th>WeaponBodyBuildupGroupId</th>\n      <th>BuildupPieceTypeId</th>\n      <th>BuildupPieceType</th>\n      <th>Step</th>\n      <th>UnlockConditionLevel</th>\n      <th>UnlockConditionLimitBreakCount</th>\n      <th>UnlockConditionLimitOverCount</th>\n      <th>RewardWeaponSkinNo</th>\n      <th>BuildupCoin</th>\n      <th>...</th>\n      <th>BuildupMaterialQuantity8</th>\n      <th>BuildupMaterialId9</th>\n      <th>BuildupMaterialQuantity9</th>\n      <th>BuildupMaterialId10</th>\n      <th>BuildupMaterialQuantity10</th>\n      <th>_pageName</th>\n      <th>_pageTitle</th>\n      <th>_pageNamespace</th>\n      <th>_pageID</th>\n      <th>_ID</th>\n    </tr>\n  </thead>\n  <tbody>\n    <tr>\n      <th>0</th>\n      <td>10000101</td>\n      <td>1000</td>\n      <td>1</td>\n      <td>Unbind</td>\n      <td>1</td>\n      <td>0</td>\n      <td>0</td>\n      <td>0</td>\n      <td>0</td>\n      <td>1000</td>\n      <td>...</td>\n      <td>0</td>\n      <td>0</td>\n      <td>0</td>\n      <td>0</td>\n      <td>0</td>\n      <td>Template:WeaponBodyBuildupGroup/Data</td>\n      <td>WeaponBodyBuildupGroup/Data</td>\n      <td>10</td>\n      <td>24278</td>\n      <td>7387</td>\n    </tr>\n    <tr>\n      <th>1</th>\n      <td>10000102</td>\n      <td>1000</td>\n      <td>1</td>\n      <td>Unbind</td>\n      <td>2</td>\n      <td>0</td>\n      <td>0</td>\n      <td>0</td>\n      <td>0</td>\n      <td>2000</td>\n      <td>...</td>\n      <td>0</td>\n      <td>0</td>\n      <td>0</td>\n      <td>0</td>\n      <td>0</td>\n      <td>Template:WeaponBodyBuildupGroup/Data</td>\n      <td>WeaponBodyBuildupGroup/Data</td>\n      <td>10</td>\n      <td>24278</td>\n      <td>7388</td>\n    </tr>\n    <tr>\n      <th>2</th>\n      <td>10000103</td>\n      <td>1000</td>\n      <td>1</td>\n      <td>Unbind</td>\n      <td>3</td>\n      <td>0</td>\n      <td>0</td>\n      <td>0</td>\n      <td>0</td>\n      <td>3000</td>\n      <td>...</td>\n      <td>0</td>\n      <td>0</td>\n      <td>0</td>\n      <td>0</td>\n      <td>0</td>\n      <td>Template:WeaponBodyBuildupGroup/Data</td>\n      <td>WeaponBodyBuildupGroup/Data</td>\n      <td>10</td>\n      <td>24278</td>\n      <td>7389</td>\n    </tr>\n    <tr>\n      <th>3</th>\n      <td>10000104</td>\n      <td>1000</td>\n      <td>1</td>\n      <td>Unbind</td>\n      <td>4</td>\n      <td>0</td>\n      <td>0</td>\n      <td>0</td>\n      <td>0</td>\n      <td>4000</td>\n      <td>...</td>\n      <td>0</td>\n      <td>0</td>\n      <td>0</td>\n      <td>0</td>\n      <td>0</td>\n      <td>Template:WeaponBodyBuildupGroup/Data</td>\n      <td>WeaponBodyBuildupGroup/Data</td>\n      <td>10</td>\n      <td>24278</td>\n      <td>7390</td>\n    </tr>\n    <tr>\n      <th>4</th>\n      <td>11000101</td>\n      <td>1100</td>\n      <td>1</td>\n      <td>Unbind</td>\n      <td>1</td>\n      <td>0</td>\n      <td>0</td>\n      <td>0</td>\n      <td>0</td>\n      <td>1000</td>\n      <td>...</td>\n      <td>0</td>\n      <td>0</td>\n      <td>0</td>\n      <td>0</td>\n      <td>0</td>\n      <td>Template:WeaponBodyBuildupGroup/Data</td>\n      <td>WeaponBodyBuildupGroup/Data</td>\n      <td>10</td>\n      <td>24278</td>\n      <td>7391</td>\n    </tr>\n  </tbody>\n</table>\n<p>5 rows × 35 columns</p>\n</div>",
      "text/plain": "         Id  WeaponBodyBuildupGroupId  BuildupPieceTypeId BuildupPieceType  \\\n0  10000101                      1000                   1           Unbind   \n1  10000102                      1000                   1           Unbind   \n2  10000103                      1000                   1           Unbind   \n3  10000104                      1000                   1           Unbind   \n4  11000101                      1100                   1           Unbind   \n\n   Step  UnlockConditionLevel  UnlockConditionLimitBreakCount  \\\n0     1                     0                               0   \n1     2                     0                               0   \n2     3                     0                               0   \n3     4                     0                               0   \n4     1                     0                               0   \n\n   UnlockConditionLimitOverCount  RewardWeaponSkinNo  BuildupCoin  ...  \\\n0                              0                   0         1000  ...   \n1                              0                   0         2000  ...   \n2                              0                   0         3000  ...   \n3                              0                   0         4000  ...   \n4                              0                   0         1000  ...   \n\n   BuildupMaterialQuantity8  BuildupMaterialId9  BuildupMaterialQuantity9  \\\n0                         0                   0                         0   \n1                         0                   0                         0   \n2                         0                   0                         0   \n3                         0                   0                         0   \n4                         0                   0                         0   \n\n   BuildupMaterialId10  BuildupMaterialQuantity10  \\\n0                    0                          0   \n1                    0                          0   \n2                    0                          0   \n3                    0                          0   \n4                    0                          0   \n\n                              _pageName                   _pageTitle  \\\n0  Template:WeaponBodyBuildupGroup/Data  WeaponBodyBuildupGroup/Data   \n1  Template:WeaponBodyBuildupGroup/Data  WeaponBodyBuildupGroup/Data   \n2  Template:WeaponBodyBuildupGroup/Data  WeaponBodyBuildupGroup/Data   \n3  Template:WeaponBodyBuildupGroup/Data  WeaponBodyBuildupGroup/Data   \n4  Template:WeaponBodyBuildupGroup/Data  WeaponBodyBuildupGroup/Data   \n\n   _pageNamespace  _pageID   _ID  \n0              10    24278  7387  \n1              10    24278  7388  \n2              10    24278  7389  \n3              10    24278  7390  \n4              10    24278  7391  \n\n[5 rows x 35 columns]"
     },
     "execution_count": 148,
     "metadata": {},
     "output_type": "execute_result"
    }
   ],
   "source": [
    "df_weaponCost = weapon_dfs[\"WeaponBodyBuildupGroup\"]\n",
    "print(df_weaponCost.columns)\n",
    "df_weaponCost.head()"
   ]
  },
  {
   "cell_type": "code",
   "execution_count": 149,
   "metadata": {},
   "outputs": [
    {
     "name": "stdout",
     "output_type": "stream",
     "text": [
      "Index(['Id', 'Name', 'Description', 'Rarity', 'QuestEventId', 'Category',\n",
      "       'SortId', 'Obtain', 'Uses', 'MoveQuest1', 'MoveQuest2', 'MoveQuest3',\n",
      "       'MoveQuest4', 'MoveQuest5', 'PouchRarity', 'Exp', 'MaterialType',\n",
      "       '_pageName', '_pageTitle', '_pageNamespace', '_pageID', '_ID'],\n",
      "      dtype='object')\n",
      "Id                float64\n",
      "Name               object\n",
      "Description        object\n",
      "Rarity            float64\n",
      "QuestEventId      float64\n",
      "Category           object\n",
      "SortId             object\n",
      "Obtain             object\n",
      "Uses               object\n",
      "MoveQuest1        float64\n",
      "MoveQuest2        float64\n",
      "MoveQuest3        float64\n",
      "MoveQuest4        float64\n",
      "MoveQuest5        float64\n",
      "PouchRarity       float64\n",
      "Exp               float64\n",
      "MaterialType      float64\n",
      "_pageName          object\n",
      "_pageTitle         object\n",
      "_pageNamespace      int64\n",
      "_pageID             int64\n",
      "_ID                 int64\n",
      "dtype: object\n"
     ]
    }
   ],
   "source": [
    "df_materials = weapon_dfs[\"Materials\"]\n",
    "df_materials[\"Id\"] = pd.to_numeric(df_materials[\"Id\"], errors=\"coerce\", downcast=\"integer\")\n",
    "print(df_materials.columns)\n",
    "print(df_materials.dtypes)"
   ]
  },
  {
   "cell_type": "code",
   "execution_count": 150,
   "metadata": {},
   "outputs": [
    {
     "name": "stdout",
     "output_type": "stream",
     "text": [
      "Id                                 int64\n",
      "WeaponBodyBuildupGroupId           int64\n",
      "BuildupPieceTypeId                 int64\n",
      "BuildupPieceType                  object\n",
      "Step                               int64\n",
      "UnlockConditionLevel               int64\n",
      "UnlockConditionLimitBreakCount     int64\n",
      "UnlockConditionLimitOverCount      int64\n",
      "RewardWeaponSkinNo                 int64\n",
      "BuildupCoin                        int64\n",
      "BuildupMaterialId1                 int64\n",
      "BuildupMaterialQuantity1           int64\n",
      "BuildupMaterialId2                 int64\n",
      "BuildupMaterialQuantity2           int64\n",
      "BuildupMaterialId3                 int64\n",
      "BuildupMaterialQuantity3           int64\n",
      "BuildupMaterialId4                 int64\n",
      "BuildupMaterialQuantity4           int64\n",
      "BuildupMaterialId5                 int64\n",
      "BuildupMaterialQuantity5           int64\n",
      "BuildupMaterialId6                 int64\n",
      "BuildupMaterialQuantity6           int64\n",
      "BuildupMaterialId7                 int64\n",
      "BuildupMaterialQuantity7           int64\n",
      "BuildupMaterialId8                 int64\n",
      "BuildupMaterialQuantity8           int64\n",
      "BuildupMaterialId9                 int64\n",
      "BuildupMaterialQuantity9           int64\n",
      "BuildupMaterialId10                int64\n",
      "BuildupMaterialQuantity10          int64\n",
      "_pageName                         object\n",
      "_pageTitle                        object\n",
      "_pageNamespace                     int64\n",
      "_pageID                            int64\n",
      "_ID                                int64\n",
      "dtype: object\n"
     ]
    }
   ],
   "source": [
    "print(df_weaponCost.dtypes)"
   ]
  },
  {
   "cell_type": "code",
   "execution_count": 151,
   "metadata": {},
   "outputs": [
    {
     "data": {
      "text/plain": "['Id',\n 'Name',\n 'NameJP',\n 'WeaponSeries',\n 'WeaponSeriesId',\n 'WeaponSkinId',\n 'WeaponType',\n 'WeaponTypeId',\n 'Rarity',\n 'ElementalType',\n 'ElementalTypeId',\n 'Obtain',\n 'MaxLimitOverCount',\n 'BaseHp',\n 'MaxHp1',\n 'MaxHp2',\n 'MaxHp3',\n 'BaseAtk',\n 'MaxAtk1',\n 'MaxAtk2',\n 'MaxAtk3',\n 'LimitOverCountPartyPower1',\n 'LimitOverCountPartyPower2',\n 'CrestSlotType1BaseCount',\n 'CrestSlotType1MaxCount',\n 'CrestSlotType2BaseCount',\n 'CrestSlotType2MaxCount',\n 'ChangeSkillId1',\n 'ChangeSkillId2',\n 'ChangeSkillId3',\n 'Abilities11',\n 'Abilities12',\n 'Abilities13',\n 'Abilities21',\n 'Abilities22',\n 'Abilities23',\n 'IsPlayable',\n 'Text',\n 'CreateStartDate',\n 'NeedFortCraftLevel',\n 'NeedCreateWeaponBodyId1',\n 'NeedCreateWeaponBodyId2',\n 'NeedAllUnlockWeaponBodyId1',\n 'CreateCoin',\n 'CreateEntity1',\n 'CreateEntityQuantity1',\n 'CreateEntity2',\n 'CreateEntityQuantity2',\n 'CreateEntity3',\n 'CreateEntityQuantity3',\n 'CreateEntity4',\n 'CreateEntityQuantity4',\n 'CreateEntity5',\n 'CreateEntityQuantity5',\n 'DuplicateEntity',\n 'DuplicateEntityQuantity',\n 'WeaponPassiveAbilityGroupId',\n 'WeaponBodyBuildupGroupId',\n 'MaxWeaponPassiveCharaCount',\n 'WeaponPassiveEffHp',\n 'WeaponPassiveEffAtk',\n 'RewardWeaponSkinId1',\n 'RewardWeaponSkinId2',\n 'RewardWeaponSkinId3',\n 'RewardWeaponSkinId4',\n 'RewardWeaponSkinId5',\n '_pageName',\n '_pageTitle',\n '_pageNamespace',\n '_pageID',\n '_ID',\n 'CreateStartDate__precision',\n 'Id_buildUp',\n 'BuildupPieceTypeId',\n 'BuildupPieceType',\n 'Step',\n 'UnlockConditionLevel',\n 'UnlockConditionLimitBreakCount',\n 'UnlockConditionLimitOverCount',\n 'RewardWeaponSkinNo',\n 'BuildupCoin',\n 'BuildupMaterialId1',\n 'BuildupMaterialQuantity1',\n 'BuildupMaterialId2',\n 'BuildupMaterialQuantity2',\n 'BuildupMaterialId3',\n 'BuildupMaterialQuantity3',\n 'BuildupMaterialId4',\n 'BuildupMaterialQuantity4',\n 'BuildupMaterialId5',\n 'BuildupMaterialQuantity5',\n 'BuildupMaterialId6',\n 'BuildupMaterialQuantity6',\n 'BuildupMaterialId7',\n 'BuildupMaterialQuantity7',\n 'BuildupMaterialId8',\n 'BuildupMaterialQuantity8',\n 'BuildupMaterialId9',\n 'BuildupMaterialQuantity9',\n 'BuildupMaterialId10',\n 'BuildupMaterialQuantity10',\n '_pageName_buildUp',\n '_pageTitle_buildUp',\n '_pageNamespace_buildUp',\n '_pageID_buildUp',\n '_ID_buildUp',\n 'Id_1',\n 'Name_1',\n 'Description_1',\n 'Rarity_1',\n 'QuestEventId_1',\n 'Category_1',\n 'SortId_1',\n 'Obtain_1',\n 'Uses_1',\n 'MoveQuest1_1',\n 'MoveQuest2_1',\n 'MoveQuest3_1',\n 'MoveQuest4_1',\n 'MoveQuest5_1',\n 'PouchRarity_1',\n 'Exp_1',\n 'MaterialType_1',\n '_pageName_1',\n '_pageTitle_1',\n '_pageNamespace_1',\n '_pageID_1',\n '_ID_1',\n 'Id_2',\n 'Name_2',\n 'Description_2',\n 'Rarity_2',\n 'QuestEventId_2',\n 'Category_2',\n 'SortId_2',\n 'Obtain_2',\n 'Uses_2',\n 'MoveQuest1_2',\n 'MoveQuest2_2',\n 'MoveQuest3_2',\n 'MoveQuest4_2',\n 'MoveQuest5_2',\n 'PouchRarity_2',\n 'Exp_2',\n 'MaterialType_2',\n '_pageName_2',\n '_pageTitle_2',\n '_pageNamespace_2',\n '_pageID_2',\n '_ID_2',\n 'Id_3',\n 'Name_3',\n 'Description_3',\n 'Rarity_3',\n 'QuestEventId_3',\n 'Category_3',\n 'SortId_3',\n 'Obtain_3',\n 'Uses_3',\n 'MoveQuest1_3',\n 'MoveQuest2_3',\n 'MoveQuest3_3',\n 'MoveQuest4_3',\n 'MoveQuest5_3',\n 'PouchRarity_3',\n 'Exp_3',\n 'MaterialType_3',\n '_pageName_3',\n '_pageTitle_3',\n '_pageNamespace_3',\n '_pageID_3',\n '_ID_3',\n 'Id_4',\n 'Name_4',\n 'Description_4',\n 'Rarity_4',\n 'QuestEventId_4',\n 'Category_4',\n 'SortId_4',\n 'Obtain_4',\n 'Uses_4',\n 'MoveQuest1_4',\n 'MoveQuest2_4',\n 'MoveQuest3_4',\n 'MoveQuest4_4',\n 'MoveQuest5_4',\n 'PouchRarity_4',\n 'Exp_4',\n 'MaterialType_4',\n '_pageName_4',\n '_pageTitle_4',\n '_pageNamespace_4',\n '_pageID_4',\n '_ID_4',\n 'Id_5',\n 'Name_5',\n 'Description_5',\n 'Rarity_5',\n 'QuestEventId_5',\n 'Category_5',\n 'SortId_5',\n 'Obtain_5',\n 'Uses_5',\n 'MoveQuest1_5',\n 'MoveQuest2_5',\n 'MoveQuest3_5',\n 'MoveQuest4_5',\n 'MoveQuest5_5',\n 'PouchRarity_5',\n 'Exp_5',\n 'MaterialType_5',\n '_pageName_5',\n '_pageTitle_5',\n '_pageNamespace_5',\n '_pageID_5',\n '_ID_5',\n 'Id_6',\n 'Name_6',\n 'Description_6',\n 'Rarity_6',\n 'QuestEventId_6',\n 'Category_6',\n 'SortId_6',\n 'Obtain_6',\n 'Uses_6',\n 'MoveQuest1_6',\n 'MoveQuest2_6',\n 'MoveQuest3_6',\n 'MoveQuest4_6',\n 'MoveQuest5_6',\n 'PouchRarity_6',\n 'Exp_6',\n 'MaterialType_6',\n '_pageName_6',\n '_pageTitle_6',\n '_pageNamespace_6',\n '_pageID_6',\n '_ID_6',\n 'Id_7',\n 'Name_7',\n 'Description_7',\n 'Rarity_7',\n 'QuestEventId_7',\n 'Category_7',\n 'SortId_7',\n 'Obtain_7',\n 'Uses_7',\n 'MoveQuest1_7',\n 'MoveQuest2_7',\n 'MoveQuest3_7',\n 'MoveQuest4_7',\n 'MoveQuest5_7',\n 'PouchRarity_7',\n 'Exp_7',\n 'MaterialType_7',\n '_pageName_7',\n '_pageTitle_7',\n '_pageNamespace_7',\n '_pageID_7',\n '_ID_7',\n 'Id_8',\n 'Name_8',\n 'Description_8',\n 'Rarity_8',\n 'QuestEventId_8',\n 'Category_8',\n 'SortId_8',\n 'Obtain_8',\n 'Uses_8',\n 'MoveQuest1_8',\n 'MoveQuest2_8',\n 'MoveQuest3_8',\n 'MoveQuest4_8',\n 'MoveQuest5_8',\n 'PouchRarity_8',\n 'Exp_8',\n 'MaterialType_8',\n '_pageName_8',\n '_pageTitle_8',\n '_pageNamespace_8',\n '_pageID_8',\n '_ID_8',\n 'Id_9',\n 'Name_9',\n 'Description_9',\n 'Rarity_9',\n 'QuestEventId_9',\n 'Category_9',\n 'SortId_9',\n 'Obtain_9',\n 'Uses_9',\n 'MoveQuest1_9',\n 'MoveQuest2_9',\n 'MoveQuest3_9',\n 'MoveQuest4_9',\n 'MoveQuest5_9',\n 'PouchRarity_9',\n 'Exp_9',\n 'MaterialType_9',\n '_pageName_9',\n '_pageTitle_9',\n '_pageNamespace_9',\n '_pageID_9',\n '_ID_9',\n 'Id_10',\n 'Name_10',\n 'Description_10',\n 'Rarity_10',\n 'QuestEventId_10',\n 'Category_10',\n 'SortId_10',\n 'Obtain_10',\n 'Uses_10',\n 'MoveQuest1_10',\n 'MoveQuest2_10',\n 'MoveQuest3_10',\n 'MoveQuest4_10',\n 'MoveQuest5_10',\n 'PouchRarity_10',\n 'Exp_10',\n 'MaterialType_10',\n '_pageName_10',\n '_pageTitle_10',\n '_pageNamespace_10',\n '_pageID_10',\n '_ID_10']"
     },
     "execution_count": 151,
     "metadata": {},
     "output_type": "execute_result"
    }
   ],
   "source": [
    "weapon_calc_df = df_weapons.merge(df_weaponCost, how=\"left\", left_on=\"WeaponBodyBuildupGroupId\", right_on=\"WeaponBodyBuildupGroupId\", suffixes=(\"\", \"_buildUp\"), copy=True)\n",
    "for col in [i for i in df_weaponCost.columns if \"MaterialId\" in i]:\n",
    "    num = col.split(\"Id\")[1]\n",
    "    weapon_calc_df = weapon_calc_df.merge(df_materials.add_suffix(f\"_{num}\"), how=\"left\", left_on=col, right_on=f\"Id_{num}\", suffixes=(\"\", \"\"), copy=True)\n",
    "weapon_calc_df.columns.tolist()"
   ]
  },
  {
   "cell_type": "code",
   "execution_count": 152,
   "metadata": {},
   "outputs": [
    {
     "data": {
      "text/html": "<div>\n<style scoped>\n    .dataframe tbody tr th:only-of-type {\n        vertical-align: middle;\n    }\n\n    .dataframe tbody tr th {\n        vertical-align: top;\n    }\n\n    .dataframe thead th {\n        text-align: right;\n    }\n</style>\n<table border=\"1\" class=\"dataframe\">\n  <thead>\n    <tr style=\"text-align: right;\">\n      <th></th>\n      <th>Name</th>\n      <th>WeaponSeries</th>\n      <th>WeaponType</th>\n      <th>Rarity</th>\n      <th>ElementalType</th>\n      <th>Step</th>\n      <th>BuildupPieceType</th>\n      <th>Name_1</th>\n      <th>BuildupMaterialQuantity1</th>\n      <th>Name_2</th>\n      <th>BuildupMaterialQuantity2</th>\n      <th>Name_3</th>\n      <th>BuildupMaterialQuantity3</th>\n      <th>Name_4</th>\n      <th>BuildupMaterialQuantity4</th>\n      <th>Name_5</th>\n      <th>BuildupMaterialQuantity5</th>\n    </tr>\n  </thead>\n  <tbody>\n    <tr>\n      <th>292</th>\n      <td>Nothung</td>\n      <td>Agito</td>\n      <td>Sword</td>\n      <td>6</td>\n      <td>Flame</td>\n      <td>1.0</td>\n      <td>Unbind</td>\n      <td>Destitute One's Mask Fragment</td>\n      <td>40.0</td>\n      <td>Plagued One's Mask Fragment</td>\n      <td>30.0</td>\n      <td>Twinkling Sand</td>\n      <td>1.0</td>\n      <td>NaN</td>\n      <td>NaN</td>\n      <td>NaN</td>\n      <td>NaN</td>\n    </tr>\n    <tr>\n      <th>301</th>\n      <td>Nothung</td>\n      <td>Agito</td>\n      <td>Sword</td>\n      <td>6</td>\n      <td>Flame</td>\n      <td>1.0</td>\n      <td>Refinement</td>\n      <td>Destitute One's Mask Fragment</td>\n      <td>16.0</td>\n      <td>Plagued One's Mask Fragment</td>\n      <td>10.0</td>\n      <td>Rebellious One's Insanity</td>\n      <td>7.0</td>\n      <td>Orichalcum</td>\n      <td>1.0</td>\n      <td>NaN</td>\n      <td>NaN</td>\n    </tr>\n    <tr>\n      <th>303</th>\n      <td>Nothung</td>\n      <td>Agito</td>\n      <td>Sword</td>\n      <td>6</td>\n      <td>Flame</td>\n      <td>1.0</td>\n      <td>Slots</td>\n      <td>Destitute One's Mask Fragment</td>\n      <td>16.0</td>\n      <td>Plagued One's Mask Fragment</td>\n      <td>10.0</td>\n      <td>Orichalcum</td>\n      <td>1.0</td>\n      <td>NaN</td>\n      <td>NaN</td>\n      <td>NaN</td>\n      <td>NaN</td>\n    </tr>\n    <tr>\n      <th>304</th>\n      <td>Nothung</td>\n      <td>Agito</td>\n      <td>Sword</td>\n      <td>6</td>\n      <td>Flame</td>\n      <td>1.0</td>\n      <td>Weapon Bonus</td>\n      <td>Destitute One's Mask Fragment</td>\n      <td>100.0</td>\n      <td>Plagued One's Mask Fragment</td>\n      <td>100.0</td>\n      <td>Rebellious One's Insanity</td>\n      <td>14.0</td>\n      <td>Orichalcum</td>\n      <td>30.0</td>\n      <td>NaN</td>\n      <td>NaN</td>\n    </tr>\n    <tr>\n      <th>293</th>\n      <td>Nothung</td>\n      <td>Agito</td>\n      <td>Sword</td>\n      <td>6</td>\n      <td>Flame</td>\n      <td>2.0</td>\n      <td>Unbind</td>\n      <td>Destitute One's Mask Fragment</td>\n      <td>40.0</td>\n      <td>Plagued One's Mask Fragment</td>\n      <td>30.0</td>\n      <td>Twinkling Sand</td>\n      <td>1.0</td>\n      <td>NaN</td>\n      <td>NaN</td>\n      <td>NaN</td>\n      <td>NaN</td>\n    </tr>\n    <tr>\n      <th>302</th>\n      <td>Nothung</td>\n      <td>Agito</td>\n      <td>Sword</td>\n      <td>6</td>\n      <td>Flame</td>\n      <td>2.0</td>\n      <td>Refinement</td>\n      <td>Destitute One's Mask Fragment</td>\n      <td>40.0</td>\n      <td>Plagued One's Mask Fragment</td>\n      <td>30.0</td>\n      <td>Rebellious One's Insanity</td>\n      <td>10.0</td>\n      <td>Rebellious Wolf's Gale</td>\n      <td>10.0</td>\n      <td>Orichalcum</td>\n      <td>10.0</td>\n    </tr>\n    <tr>\n      <th>305</th>\n      <td>Nothung</td>\n      <td>Agito</td>\n      <td>Sword</td>\n      <td>6</td>\n      <td>Flame</td>\n      <td>2.0</td>\n      <td>Copies</td>\n      <td>Destitute One's Mask Fragment</td>\n      <td>280.0</td>\n      <td>Plagued One's Mask Fragment</td>\n      <td>200.0</td>\n      <td>Rebellious One's Insanity</td>\n      <td>35.0</td>\n      <td>Twinkling Sand</td>\n      <td>5.0</td>\n      <td>Orichalcum</td>\n      <td>5.0</td>\n    </tr>\n    <tr>\n      <th>294</th>\n      <td>Nothung</td>\n      <td>Agito</td>\n      <td>Sword</td>\n      <td>6</td>\n      <td>Flame</td>\n      <td>3.0</td>\n      <td>Unbind</td>\n      <td>Destitute One's Mask Fragment</td>\n      <td>40.0</td>\n      <td>Plagued One's Mask Fragment</td>\n      <td>30.0</td>\n      <td>Twinkling Sand</td>\n      <td>1.0</td>\n      <td>NaN</td>\n      <td>NaN</td>\n      <td>NaN</td>\n      <td>NaN</td>\n    </tr>\n    <tr>\n      <th>306</th>\n      <td>Nothung</td>\n      <td>Agito</td>\n      <td>Sword</td>\n      <td>6</td>\n      <td>Flame</td>\n      <td>3.0</td>\n      <td>Copies</td>\n      <td>Destitute One's Mask Fragment</td>\n      <td>280.0</td>\n      <td>Plagued One's Mask Fragment</td>\n      <td>200.0</td>\n      <td>Rebellious One's Insanity</td>\n      <td>35.0</td>\n      <td>Twinkling Sand</td>\n      <td>5.0</td>\n      <td>Orichalcum</td>\n      <td>5.0</td>\n    </tr>\n    <tr>\n      <th>295</th>\n      <td>Nothung</td>\n      <td>Agito</td>\n      <td>Sword</td>\n      <td>6</td>\n      <td>Flame</td>\n      <td>4.0</td>\n      <td>Unbind</td>\n      <td>Destitute One's Mask Fragment</td>\n      <td>40.0</td>\n      <td>Plagued One's Mask Fragment</td>\n      <td>30.0</td>\n      <td>Twinkling Sand</td>\n      <td>1.0</td>\n      <td>NaN</td>\n      <td>NaN</td>\n      <td>NaN</td>\n      <td>NaN</td>\n    </tr>\n    <tr>\n      <th>307</th>\n      <td>Nothung</td>\n      <td>Agito</td>\n      <td>Sword</td>\n      <td>6</td>\n      <td>Flame</td>\n      <td>4.0</td>\n      <td>Copies</td>\n      <td>Destitute One's Mask Fragment</td>\n      <td>280.0</td>\n      <td>Plagued One's Mask Fragment</td>\n      <td>200.0</td>\n      <td>Rebellious One's Insanity</td>\n      <td>35.0</td>\n      <td>Twinkling Sand</td>\n      <td>5.0</td>\n      <td>Orichalcum</td>\n      <td>5.0</td>\n    </tr>\n    <tr>\n      <th>296</th>\n      <td>Nothung</td>\n      <td>Agito</td>\n      <td>Sword</td>\n      <td>6</td>\n      <td>Flame</td>\n      <td>5.0</td>\n      <td>Unbind</td>\n      <td>Destitute One's Mask Fragment</td>\n      <td>16.0</td>\n      <td>Plagued One's Mask Fragment</td>\n      <td>10.0</td>\n      <td>Rebellious One's Insanity</td>\n      <td>7.0</td>\n      <td>Orichalcum</td>\n      <td>1.0</td>\n      <td>NaN</td>\n      <td>NaN</td>\n    </tr>\n    <tr>\n      <th>297</th>\n      <td>Nothung</td>\n      <td>Agito</td>\n      <td>Sword</td>\n      <td>6</td>\n      <td>Flame</td>\n      <td>6.0</td>\n      <td>Unbind</td>\n      <td>Destitute One's Mask Fragment</td>\n      <td>16.0</td>\n      <td>Plagued One's Mask Fragment</td>\n      <td>10.0</td>\n      <td>Rebellious One's Insanity</td>\n      <td>7.0</td>\n      <td>Orichalcum</td>\n      <td>1.0</td>\n      <td>NaN</td>\n      <td>NaN</td>\n    </tr>\n    <tr>\n      <th>298</th>\n      <td>Nothung</td>\n      <td>Agito</td>\n      <td>Sword</td>\n      <td>6</td>\n      <td>Flame</td>\n      <td>7.0</td>\n      <td>Unbind</td>\n      <td>Destitute One's Mask Fragment</td>\n      <td>16.0</td>\n      <td>Plagued One's Mask Fragment</td>\n      <td>10.0</td>\n      <td>Rebellious One's Insanity</td>\n      <td>7.0</td>\n      <td>Orichalcum</td>\n      <td>1.0</td>\n      <td>NaN</td>\n      <td>NaN</td>\n    </tr>\n    <tr>\n      <th>299</th>\n      <td>Nothung</td>\n      <td>Agito</td>\n      <td>Sword</td>\n      <td>6</td>\n      <td>Flame</td>\n      <td>8.0</td>\n      <td>Unbind</td>\n      <td>Destitute One's Mask Fragment</td>\n      <td>16.0</td>\n      <td>Plagued One's Mask Fragment</td>\n      <td>10.0</td>\n      <td>Rebellious One's Insanity</td>\n      <td>7.0</td>\n      <td>Orichalcum</td>\n      <td>1.0</td>\n      <td>NaN</td>\n      <td>NaN</td>\n    </tr>\n    <tr>\n      <th>300</th>\n      <td>Nothung</td>\n      <td>Agito</td>\n      <td>Sword</td>\n      <td>6</td>\n      <td>Flame</td>\n      <td>9.0</td>\n      <td>Unbind</td>\n      <td>Destitute One's Mask Fragment</td>\n      <td>80.0</td>\n      <td>Plagued One's Mask Fragment</td>\n      <td>70.0</td>\n      <td>Rebellious One's Insanity</td>\n      <td>30.0</td>\n      <td>Rebellious Wolf's Gale</td>\n      <td>20.0</td>\n      <td>Orichalcum</td>\n      <td>20.0</td>\n    </tr>\n  </tbody>\n</table>\n</div>",
      "text/plain": "        Name WeaponSeries WeaponType  Rarity ElementalType  Step  \\\n292  Nothung        Agito      Sword       6         Flame   1.0   \n301  Nothung        Agito      Sword       6         Flame   1.0   \n303  Nothung        Agito      Sword       6         Flame   1.0   \n304  Nothung        Agito      Sword       6         Flame   1.0   \n293  Nothung        Agito      Sword       6         Flame   2.0   \n302  Nothung        Agito      Sword       6         Flame   2.0   \n305  Nothung        Agito      Sword       6         Flame   2.0   \n294  Nothung        Agito      Sword       6         Flame   3.0   \n306  Nothung        Agito      Sword       6         Flame   3.0   \n295  Nothung        Agito      Sword       6         Flame   4.0   \n307  Nothung        Agito      Sword       6         Flame   4.0   \n296  Nothung        Agito      Sword       6         Flame   5.0   \n297  Nothung        Agito      Sword       6         Flame   6.0   \n298  Nothung        Agito      Sword       6         Flame   7.0   \n299  Nothung        Agito      Sword       6         Flame   8.0   \n300  Nothung        Agito      Sword       6         Flame   9.0   \n\n    BuildupPieceType                         Name_1  BuildupMaterialQuantity1  \\\n292           Unbind  Destitute One's Mask Fragment                      40.0   \n301       Refinement  Destitute One's Mask Fragment                      16.0   \n303            Slots  Destitute One's Mask Fragment                      16.0   \n304     Weapon Bonus  Destitute One's Mask Fragment                     100.0   \n293           Unbind  Destitute One's Mask Fragment                      40.0   \n302       Refinement  Destitute One's Mask Fragment                      40.0   \n305           Copies  Destitute One's Mask Fragment                     280.0   \n294           Unbind  Destitute One's Mask Fragment                      40.0   \n306           Copies  Destitute One's Mask Fragment                     280.0   \n295           Unbind  Destitute One's Mask Fragment                      40.0   \n307           Copies  Destitute One's Mask Fragment                     280.0   \n296           Unbind  Destitute One's Mask Fragment                      16.0   \n297           Unbind  Destitute One's Mask Fragment                      16.0   \n298           Unbind  Destitute One's Mask Fragment                      16.0   \n299           Unbind  Destitute One's Mask Fragment                      16.0   \n300           Unbind  Destitute One's Mask Fragment                      80.0   \n\n                          Name_2  BuildupMaterialQuantity2  \\\n292  Plagued One's Mask Fragment                      30.0   \n301  Plagued One's Mask Fragment                      10.0   \n303  Plagued One's Mask Fragment                      10.0   \n304  Plagued One's Mask Fragment                     100.0   \n293  Plagued One's Mask Fragment                      30.0   \n302  Plagued One's Mask Fragment                      30.0   \n305  Plagued One's Mask Fragment                     200.0   \n294  Plagued One's Mask Fragment                      30.0   \n306  Plagued One's Mask Fragment                     200.0   \n295  Plagued One's Mask Fragment                      30.0   \n307  Plagued One's Mask Fragment                     200.0   \n296  Plagued One's Mask Fragment                      10.0   \n297  Plagued One's Mask Fragment                      10.0   \n298  Plagued One's Mask Fragment                      10.0   \n299  Plagued One's Mask Fragment                      10.0   \n300  Plagued One's Mask Fragment                      70.0   \n\n                        Name_3  BuildupMaterialQuantity3  \\\n292             Twinkling Sand                       1.0   \n301  Rebellious One's Insanity                       7.0   \n303                 Orichalcum                       1.0   \n304  Rebellious One's Insanity                      14.0   \n293             Twinkling Sand                       1.0   \n302  Rebellious One's Insanity                      10.0   \n305  Rebellious One's Insanity                      35.0   \n294             Twinkling Sand                       1.0   \n306  Rebellious One's Insanity                      35.0   \n295             Twinkling Sand                       1.0   \n307  Rebellious One's Insanity                      35.0   \n296  Rebellious One's Insanity                       7.0   \n297  Rebellious One's Insanity                       7.0   \n298  Rebellious One's Insanity                       7.0   \n299  Rebellious One's Insanity                       7.0   \n300  Rebellious One's Insanity                      30.0   \n\n                     Name_4  BuildupMaterialQuantity4      Name_5  \\\n292                     NaN                       NaN         NaN   \n301              Orichalcum                       1.0         NaN   \n303                     NaN                       NaN         NaN   \n304              Orichalcum                      30.0         NaN   \n293                     NaN                       NaN         NaN   \n302  Rebellious Wolf's Gale                      10.0  Orichalcum   \n305          Twinkling Sand                       5.0  Orichalcum   \n294                     NaN                       NaN         NaN   \n306          Twinkling Sand                       5.0  Orichalcum   \n295                     NaN                       NaN         NaN   \n307          Twinkling Sand                       5.0  Orichalcum   \n296              Orichalcum                       1.0         NaN   \n297              Orichalcum                       1.0         NaN   \n298              Orichalcum                       1.0         NaN   \n299              Orichalcum                       1.0         NaN   \n300  Rebellious Wolf's Gale                      20.0  Orichalcum   \n\n     BuildupMaterialQuantity5  \n292                       NaN  \n301                       NaN  \n303                       NaN  \n304                       NaN  \n293                       NaN  \n302                      10.0  \n305                       5.0  \n294                       NaN  \n306                       5.0  \n295                       NaN  \n307                       5.0  \n296                       NaN  \n297                       NaN  \n298                       NaN  \n299                       NaN  \n300                      20.0  "
     },
     "execution_count": 152,
     "metadata": {},
     "output_type": "execute_result"
    }
   ],
   "source": [
    "filt = weapon_calc_df.WeaponSeries == \"Agito\"\n",
    "agito_weapon_calc_df = weapon_calc_df[filt].sort_values([\"Id\", \"Step\"])[\n",
    "    [\"Name\", 'WeaponSeries', 'WeaponType','Rarity','ElementalType','Step','BuildupPieceType']+[j for i in range(1,11) for j in [f\"Name_{i}\", f\"BuildupMaterialQuantity{i}\"]]\n",
    "].replace(0, np.nan).dropna(axis=1, how=\"all\")\n",
    "agito_weapon_calc_df.head(16)"
   ]
  },
  {
   "cell_type": "markdown",
   "metadata": {},
   "source": [
    "# Extracting Data"
   ]
  },
  {
   "cell_type": "code",
   "execution_count": 153,
   "metadata": {},
   "outputs": [
    {
     "data": {
      "text/html": "<div>\n<style scoped>\n    .dataframe tbody tr th:only-of-type {\n        vertical-align: middle;\n    }\n\n    .dataframe tbody tr th {\n        vertical-align: top;\n    }\n\n    .dataframe thead th {\n        text-align: right;\n    }\n</style>\n<table border=\"1\" class=\"dataframe\">\n  <thead>\n    <tr style=\"text-align: right;\">\n      <th></th>\n      <th>ElementalType</th>\n      <th>Name</th>\n      <th>Quantity</th>\n    </tr>\n  </thead>\n  <tbody>\n    <tr>\n      <th>0</th>\n      <td>Flame</td>\n      <td>Destitute One's Mask Fragment</td>\n      <td>1316.0</td>\n    </tr>\n    <tr>\n      <th>1</th>\n      <td>Flame</td>\n      <td>Orichalcum</td>\n      <td>81.0</td>\n    </tr>\n    <tr>\n      <th>2</th>\n      <td>Flame</td>\n      <td>Plagued One's Mask Fragment</td>\n      <td>980.0</td>\n    </tr>\n    <tr>\n      <th>3</th>\n      <td>Flame</td>\n      <td>Rebellious One's Insanity</td>\n      <td>194.0</td>\n    </tr>\n    <tr>\n      <th>4</th>\n      <td>Flame</td>\n      <td>Rebellious Wolf's Gale</td>\n      <td>30.0</td>\n    </tr>\n    <tr>\n      <th>5</th>\n      <td>Flame</td>\n      <td>Twinkling Sand</td>\n      <td>19.0</td>\n    </tr>\n  </tbody>\n</table>\n</div>",
      "text/plain": "  ElementalType                           Name  Quantity\n0         Flame  Destitute One's Mask Fragment    1316.0\n1         Flame                     Orichalcum      81.0\n2         Flame    Plagued One's Mask Fragment     980.0\n3         Flame      Rebellious One's Insanity     194.0\n4         Flame         Rebellious Wolf's Gale      30.0\n5         Flame                 Twinkling Sand      19.0"
     },
     "execution_count": 153,
     "metadata": {},
     "output_type": "execute_result"
    }
   ],
   "source": [
    "test = agito_weapon_calc_df.head(16)\n",
    "def get_materials(df):\n",
    "    materials = pd.DataFrame(columns = [\"ElementalType\", \"Name\", \"Quantity\"])\n",
    "    materials_col = [i for i in agito_weapon_calc_df.columns if not i.isalpha()]\n",
    "    names_col = [i for i in materials_col if \"_\" in i]\n",
    "    paired_cols = [materials_col[i:i+2] for i in range(0,len(materials_col)-1, 2)]\n",
    "    materials = pd.concat([materials] + \n",
    "                          [df[[\"ElementalType\"] + cols].rename(\n",
    "                              columns={cols[0]:\"Name\", cols[1]: \"Quantity\"}) \n",
    "                           for cols in paired_cols]\n",
    "                         ).dropna()\n",
    "    return materials.groupby([\"ElementalType\",\"Name\"]).sum().reset_index()\n",
    "get_materials(test)"
   ]
  },
  {
   "cell_type": "markdown",
   "metadata": {},
   "source": [
    "# UI"
   ]
  },
  {
   "cell_type": "markdown",
   "metadata": {},
   "source": [
    "## Agito"
   ]
  },
  {
   "cell_type": "code",
   "execution_count": 154,
   "metadata": {
    "scrolled": true
   },
   "outputs": [
    {
     "data": {
      "text/html": "<div>\n<style scoped>\n    .dataframe tbody tr th:only-of-type {\n        vertical-align: middle;\n    }\n\n    .dataframe tbody tr th {\n        vertical-align: top;\n    }\n\n    .dataframe thead th {\n        text-align: right;\n    }\n</style>\n<table border=\"1\" class=\"dataframe\">\n  <thead>\n    <tr style=\"text-align: right;\">\n      <th></th>\n      <th>Tier</th>\n      <th>Refined</th>\n      <th>Bonus</th>\n      <th>Slots</th>\n    </tr>\n  </thead>\n  <tbody>\n    <tr>\n      <th>0</th>\n      <td>-1</td>\n      <td>False</td>\n      <td>False</td>\n      <td>False</td>\n    </tr>\n    <tr>\n      <th>1</th>\n      <td>-1</td>\n      <td>False</td>\n      <td>False</td>\n      <td>False</td>\n    </tr>\n    <tr>\n      <th>2</th>\n      <td>-1</td>\n      <td>False</td>\n      <td>False</td>\n      <td>False</td>\n    </tr>\n    <tr>\n      <th>3</th>\n      <td>-1</td>\n      <td>False</td>\n      <td>False</td>\n      <td>False</td>\n    </tr>\n    <tr>\n      <th>4</th>\n      <td>-1</td>\n      <td>False</td>\n      <td>False</td>\n      <td>False</td>\n    </tr>\n    <tr>\n      <th>5</th>\n      <td>-1</td>\n      <td>False</td>\n      <td>False</td>\n      <td>False</td>\n    </tr>\n    <tr>\n      <th>6</th>\n      <td>-1</td>\n      <td>False</td>\n      <td>False</td>\n      <td>False</td>\n    </tr>\n    <tr>\n      <th>7</th>\n      <td>-1</td>\n      <td>False</td>\n      <td>False</td>\n      <td>False</td>\n    </tr>\n    <tr>\n      <th>8</th>\n      <td>-1</td>\n      <td>False</td>\n      <td>False</td>\n      <td>False</td>\n    </tr>\n    <tr>\n      <th>9</th>\n      <td>-1</td>\n      <td>False</td>\n      <td>False</td>\n      <td>False</td>\n    </tr>\n    <tr>\n      <th>10</th>\n      <td>-1</td>\n      <td>False</td>\n      <td>False</td>\n      <td>False</td>\n    </tr>\n    <tr>\n      <th>11</th>\n      <td>-1</td>\n      <td>False</td>\n      <td>False</td>\n      <td>False</td>\n    </tr>\n    <tr>\n      <th>12</th>\n      <td>-1</td>\n      <td>False</td>\n      <td>False</td>\n      <td>False</td>\n    </tr>\n    <tr>\n      <th>13</th>\n      <td>-1</td>\n      <td>False</td>\n      <td>False</td>\n      <td>False</td>\n    </tr>\n    <tr>\n      <th>14</th>\n      <td>-1</td>\n      <td>False</td>\n      <td>False</td>\n      <td>False</td>\n    </tr>\n    <tr>\n      <th>15</th>\n      <td>-1</td>\n      <td>False</td>\n      <td>False</td>\n      <td>False</td>\n    </tr>\n    <tr>\n      <th>16</th>\n      <td>-1</td>\n      <td>False</td>\n      <td>False</td>\n      <td>False</td>\n    </tr>\n    <tr>\n      <th>17</th>\n      <td>-1</td>\n      <td>False</td>\n      <td>False</td>\n      <td>False</td>\n    </tr>\n    <tr>\n      <th>18</th>\n      <td>-1</td>\n      <td>False</td>\n      <td>False</td>\n      <td>False</td>\n    </tr>\n    <tr>\n      <th>19</th>\n      <td>-1</td>\n      <td>False</td>\n      <td>False</td>\n      <td>False</td>\n    </tr>\n    <tr>\n      <th>20</th>\n      <td>-1</td>\n      <td>False</td>\n      <td>False</td>\n      <td>False</td>\n    </tr>\n    <tr>\n      <th>21</th>\n      <td>-1</td>\n      <td>False</td>\n      <td>False</td>\n      <td>False</td>\n    </tr>\n    <tr>\n      <th>22</th>\n      <td>-1</td>\n      <td>False</td>\n      <td>False</td>\n      <td>False</td>\n    </tr>\n    <tr>\n      <th>23</th>\n      <td>-1</td>\n      <td>False</td>\n      <td>False</td>\n      <td>False</td>\n    </tr>\n    <tr>\n      <th>24</th>\n      <td>-1</td>\n      <td>False</td>\n      <td>False</td>\n      <td>False</td>\n    </tr>\n    <tr>\n      <th>25</th>\n      <td>-1</td>\n      <td>False</td>\n      <td>False</td>\n      <td>False</td>\n    </tr>\n    <tr>\n      <th>26</th>\n      <td>-1</td>\n      <td>False</td>\n      <td>False</td>\n      <td>False</td>\n    </tr>\n    <tr>\n      <th>27</th>\n      <td>-1</td>\n      <td>False</td>\n      <td>False</td>\n      <td>False</td>\n    </tr>\n    <tr>\n      <th>28</th>\n      <td>-1</td>\n      <td>False</td>\n      <td>False</td>\n      <td>False</td>\n    </tr>\n    <tr>\n      <th>29</th>\n      <td>-1</td>\n      <td>False</td>\n      <td>False</td>\n      <td>False</td>\n    </tr>\n    <tr>\n      <th>30</th>\n      <td>-1</td>\n      <td>False</td>\n      <td>False</td>\n      <td>False</td>\n    </tr>\n    <tr>\n      <th>31</th>\n      <td>-1</td>\n      <td>False</td>\n      <td>False</td>\n      <td>False</td>\n    </tr>\n    <tr>\n      <th>32</th>\n      <td>-1</td>\n      <td>False</td>\n      <td>False</td>\n      <td>False</td>\n    </tr>\n    <tr>\n      <th>33</th>\n      <td>-1</td>\n      <td>False</td>\n      <td>False</td>\n      <td>False</td>\n    </tr>\n    <tr>\n      <th>34</th>\n      <td>-1</td>\n      <td>False</td>\n      <td>False</td>\n      <td>False</td>\n    </tr>\n    <tr>\n      <th>35</th>\n      <td>-1</td>\n      <td>False</td>\n      <td>False</td>\n      <td>False</td>\n    </tr>\n    <tr>\n      <th>36</th>\n      <td>-1</td>\n      <td>False</td>\n      <td>False</td>\n      <td>False</td>\n    </tr>\n    <tr>\n      <th>37</th>\n      <td>-1</td>\n      <td>False</td>\n      <td>False</td>\n      <td>False</td>\n    </tr>\n    <tr>\n      <th>38</th>\n      <td>-1</td>\n      <td>False</td>\n      <td>False</td>\n      <td>False</td>\n    </tr>\n    <tr>\n      <th>39</th>\n      <td>-1</td>\n      <td>False</td>\n      <td>False</td>\n      <td>False</td>\n    </tr>\n    <tr>\n      <th>40</th>\n      <td>-1</td>\n      <td>False</td>\n      <td>False</td>\n      <td>False</td>\n    </tr>\n    <tr>\n      <th>41</th>\n      <td>-1</td>\n      <td>False</td>\n      <td>False</td>\n      <td>False</td>\n    </tr>\n    <tr>\n      <th>42</th>\n      <td>-1</td>\n      <td>False</td>\n      <td>False</td>\n      <td>False</td>\n    </tr>\n    <tr>\n      <th>43</th>\n      <td>-1</td>\n      <td>False</td>\n      <td>False</td>\n      <td>False</td>\n    </tr>\n    <tr>\n      <th>44</th>\n      <td>-1</td>\n      <td>False</td>\n      <td>False</td>\n      <td>False</td>\n    </tr>\n  </tbody>\n</table>\n</div>",
      "text/plain": "    Tier  Refined  Bonus  Slots\n0     -1    False  False  False\n1     -1    False  False  False\n2     -1    False  False  False\n3     -1    False  False  False\n4     -1    False  False  False\n5     -1    False  False  False\n6     -1    False  False  False\n7     -1    False  False  False\n8     -1    False  False  False\n9     -1    False  False  False\n10    -1    False  False  False\n11    -1    False  False  False\n12    -1    False  False  False\n13    -1    False  False  False\n14    -1    False  False  False\n15    -1    False  False  False\n16    -1    False  False  False\n17    -1    False  False  False\n18    -1    False  False  False\n19    -1    False  False  False\n20    -1    False  False  False\n21    -1    False  False  False\n22    -1    False  False  False\n23    -1    False  False  False\n24    -1    False  False  False\n25    -1    False  False  False\n26    -1    False  False  False\n27    -1    False  False  False\n28    -1    False  False  False\n29    -1    False  False  False\n30    -1    False  False  False\n31    -1    False  False  False\n32    -1    False  False  False\n33    -1    False  False  False\n34    -1    False  False  False\n35    -1    False  False  False\n36    -1    False  False  False\n37    -1    False  False  False\n38    -1    False  False  False\n39    -1    False  False  False\n40    -1    False  False  False\n41    -1    False  False  False\n42    -1    False  False  False\n43    -1    False  False  False\n44    -1    False  False  False"
     },
     "execution_count": 154,
     "metadata": {},
     "output_type": "execute_result"
    }
   ],
   "source": [
    "try:\n",
    "    indexed_df = pd.read_csv(\"my_agito_weapons_df.csv\")\n",
    "except Exception as e:\n",
    "    print(e)\n",
    "    elements = agito_weapon_calc_df.ElementalType.unique()\n",
    "    types = agito_weapon_calc_df.WeaponType.unique()\n",
    "    index = pd.MultiIndex.from_tuples([(wep_type, el) for wep_type in types for el in elements], names=[\"Weapon\", \"Element\"])\n",
    "    indexed_df = pd.DataFrame([{\"Tier\": -1, \"Refined\": False, \"Bonus\": False, \"Slots\": False} for i in index], index=index)\n",
    "indexed_df"
   ]
  },
  {
   "cell_type": "code",
   "execution_count": 155,
   "metadata": {},
   "outputs": [
    {
     "data": {
      "application/vnd.jupyter.widget-view+json": {
       "model_id": "cb009fb336a4499da7f25bd0118fa586",
       "version_major": 2,
       "version_minor": 0
      },
      "text/plain": "Sheet(cells=(Cell(column_end=0, column_start=0, numeric_format='0[.]0', row_end=44, row_start=0, squeeze_row=F…"
     },
     "metadata": {
      "transient": {}
     },
     "output_type": "display_data"
    }
   ],
   "source": [
    "sheet = from_dataframe(indexed_df)\n",
    "sheet"
   ]
  },
  {
   "cell_type": "markdown",
   "metadata": {},
   "source": [
    "### Save and Compute"
   ]
  },
  {
   "cell_type": "code",
   "execution_count": 156,
   "metadata": {},
   "outputs": [
    {
     "data": {
      "text/html": "<div>\n<style scoped>\n    .dataframe tbody tr th:only-of-type {\n        vertical-align: middle;\n    }\n\n    .dataframe tbody tr th {\n        vertical-align: top;\n    }\n\n    .dataframe thead th {\n        text-align: right;\n    }\n</style>\n<table border=\"1\" class=\"dataframe\">\n  <thead>\n    <tr style=\"text-align: right;\">\n      <th></th>\n      <th>Tier</th>\n      <th>Refined</th>\n      <th>Bonus</th>\n      <th>Slots</th>\n    </tr>\n  </thead>\n  <tbody>\n    <tr>\n      <th>0</th>\n      <td>-1</td>\n      <td>False</td>\n      <td>False</td>\n      <td>False</td>\n    </tr>\n    <tr>\n      <th>1</th>\n      <td>-1</td>\n      <td>False</td>\n      <td>False</td>\n      <td>False</td>\n    </tr>\n    <tr>\n      <th>2</th>\n      <td>-1</td>\n      <td>False</td>\n      <td>False</td>\n      <td>False</td>\n    </tr>\n    <tr>\n      <th>3</th>\n      <td>-1</td>\n      <td>False</td>\n      <td>False</td>\n      <td>False</td>\n    </tr>\n    <tr>\n      <th>4</th>\n      <td>-1</td>\n      <td>False</td>\n      <td>False</td>\n      <td>False</td>\n    </tr>\n  </tbody>\n</table>\n</div>",
      "text/plain": "   Tier  Refined  Bonus  Slots\n0    -1    False  False  False\n1    -1    False  False  False\n2    -1    False  False  False\n3    -1    False  False  False\n4    -1    False  False  False"
     },
     "execution_count": 156,
     "metadata": {},
     "output_type": "execute_result"
    }
   ],
   "source": [
    "my_weapons_df = to_dataframe(sheet)\n",
    "my_weapons_df.head()"
   ]
  },
  {
   "cell_type": "code",
   "execution_count": 157,
   "metadata": {},
   "outputs": [],
   "source": [
    "my_weapons_df.to_csv(\"my_agito_weapons_df.csv\")"
   ]
  },
  {
   "cell_type": "code",
   "execution_count": 158,
   "metadata": {},
   "outputs": [],
   "source": [
    "def get_type(df, weapon, element):\n",
    "    return (df[\"ElementalType\"] == element) & (df[\"WeaponType\"] == weapon)\n",
    "\n",
    "\n",
    "def get_remaining_tiers(df, tier):\n",
    "    return (\n",
    "        (df['BuildupPieceType'] != \"Unbind\") | \n",
    "        ((df[\"Step\"] > tier) & (df[\"BuildupPieceType\"] == \"Unbind\") & (df[\"Step\"] < 9))\n",
    "    )\n",
    "\n",
    "\n",
    "def get_refinements_remaining(df, refined):\n",
    "    other_steps = (df[\"BuildupPieceType\"] != \"Refinement\")\n",
    "    if refined:\n",
    "        return other_steps\n",
    "    return (other_steps | (df[\"BuildupPieceType\"] == \"Refinement\") & (df[\"Step\"] == 1))\n",
    "\n",
    "\n",
    "def get_weapon_bonus_remaining(df, bonused):\n",
    "    other_steps = (df[\"BuildupPieceType\"] != \"Weapon Bonus\")\n",
    "    if bonused:\n",
    "        return other_steps\n",
    "    return True\n",
    "\n",
    "def get_filt(row):\n",
    "    return (\n",
    "        get_type(agito_weapon_calc_df, row[0], row[1]) & \n",
    "        get_remaining_tiers(agito_weapon_calc_df, row.Tier) & \n",
    "        get_refinements_remaining(agito_weapon_calc_df, row.Refined) &\n",
    "        get_weapon_bonus_remaining(agito_weapon_calc_df, row.Bonus)\n",
    "    )\n",
    "\n",
    "def apply_my_weapons(row):\n",
    "    return (get_materials(agito_weapon_calc_df[get_filt(row)]))"
   ]
  },
  {
   "cell_type": "markdown",
   "metadata": {},
   "source": [
    "# Calculated Totals"
   ]
  },
  {
   "cell_type": "markdown",
   "metadata": {},
   "source": [
    "## Agito"
   ]
  },
  {
   "cell_type": "code",
   "execution_count": 159,
   "metadata": {},
   "outputs": [
    {
     "ename": "KeyError",
     "evalue": "'Name'",
     "output_type": "error",
     "traceback": [
      "\u001b[0;31m---------------------------------------------------------------------------\u001b[0m",
      "\u001b[0;31mKeyError\u001b[0m                                  Traceback (most recent call last)",
      "\u001b[0;32m<ipython-input-159-c556a3aaa93d>\u001b[0m in \u001b[0;36m<module>\u001b[0;34m\u001b[0m\n\u001b[0;32m----> 1\u001b[0;31m pd.concat(my_weapons_df.apply(apply_my_weapons, axis=1).values).groupby(\n\u001b[0m\u001b[1;32m      2\u001b[0m     [\"Name\"]).sum().reset_index().sort_values(\"Quantity\", ascending=False)\n",
      "\u001b[0;32m~/Developer/dl-weapon-calculator/.direnv/python-3.9.0/lib/python3.9/site-packages/pandas/core/frame.py\u001b[0m in \u001b[0;36mgroupby\u001b[0;34m(self, by, axis, level, as_index, sort, group_keys, squeeze, observed, dropna)\u001b[0m\n\u001b[1;32m   6712\u001b[0m         \u001b[0maxis\u001b[0m \u001b[0;34m=\u001b[0m \u001b[0mself\u001b[0m\u001b[0;34m.\u001b[0m\u001b[0m_get_axis_number\u001b[0m\u001b[0;34m(\u001b[0m\u001b[0maxis\u001b[0m\u001b[0;34m)\u001b[0m\u001b[0;34m\u001b[0m\u001b[0;34m\u001b[0m\u001b[0m\n\u001b[1;32m   6713\u001b[0m \u001b[0;34m\u001b[0m\u001b[0m\n\u001b[0;32m-> 6714\u001b[0;31m         return DataFrameGroupBy(\n\u001b[0m\u001b[1;32m   6715\u001b[0m             \u001b[0mobj\u001b[0m\u001b[0;34m=\u001b[0m\u001b[0mself\u001b[0m\u001b[0;34m,\u001b[0m\u001b[0;34m\u001b[0m\u001b[0;34m\u001b[0m\u001b[0m\n\u001b[1;32m   6716\u001b[0m             \u001b[0mkeys\u001b[0m\u001b[0;34m=\u001b[0m\u001b[0mby\u001b[0m\u001b[0;34m,\u001b[0m\u001b[0;34m\u001b[0m\u001b[0;34m\u001b[0m\u001b[0m\n",
      "\u001b[0;32m~/Developer/dl-weapon-calculator/.direnv/python-3.9.0/lib/python3.9/site-packages/pandas/core/groupby/groupby.py\u001b[0m in \u001b[0;36m__init__\u001b[0;34m(self, obj, keys, axis, level, grouper, exclusions, selection, as_index, sort, group_keys, squeeze, observed, mutated, dropna)\u001b[0m\n\u001b[1;32m    558\u001b[0m             \u001b[0;32mfrom\u001b[0m \u001b[0mpandas\u001b[0m\u001b[0;34m.\u001b[0m\u001b[0mcore\u001b[0m\u001b[0;34m.\u001b[0m\u001b[0mgroupby\u001b[0m\u001b[0;34m.\u001b[0m\u001b[0mgrouper\u001b[0m \u001b[0;32mimport\u001b[0m \u001b[0mget_grouper\u001b[0m\u001b[0;34m\u001b[0m\u001b[0;34m\u001b[0m\u001b[0m\n\u001b[1;32m    559\u001b[0m \u001b[0;34m\u001b[0m\u001b[0m\n\u001b[0;32m--> 560\u001b[0;31m             grouper, exclusions, obj = get_grouper(\n\u001b[0m\u001b[1;32m    561\u001b[0m                 \u001b[0mobj\u001b[0m\u001b[0;34m,\u001b[0m\u001b[0;34m\u001b[0m\u001b[0;34m\u001b[0m\u001b[0m\n\u001b[1;32m    562\u001b[0m                 \u001b[0mkeys\u001b[0m\u001b[0;34m,\u001b[0m\u001b[0;34m\u001b[0m\u001b[0;34m\u001b[0m\u001b[0m\n",
      "\u001b[0;32m~/Developer/dl-weapon-calculator/.direnv/python-3.9.0/lib/python3.9/site-packages/pandas/core/groupby/grouper.py\u001b[0m in \u001b[0;36mget_grouper\u001b[0;34m(obj, key, axis, level, sort, observed, mutated, validate, dropna)\u001b[0m\n\u001b[1;32m    814\u001b[0m                 \u001b[0min_axis\u001b[0m\u001b[0;34m,\u001b[0m \u001b[0mname\u001b[0m\u001b[0;34m,\u001b[0m \u001b[0mlevel\u001b[0m\u001b[0;34m,\u001b[0m \u001b[0mgpr\u001b[0m \u001b[0;34m=\u001b[0m \u001b[0;32mFalse\u001b[0m\u001b[0;34m,\u001b[0m \u001b[0;32mNone\u001b[0m\u001b[0;34m,\u001b[0m \u001b[0mgpr\u001b[0m\u001b[0;34m,\u001b[0m \u001b[0;32mNone\u001b[0m\u001b[0;34m\u001b[0m\u001b[0;34m\u001b[0m\u001b[0m\n\u001b[1;32m    815\u001b[0m             \u001b[0;32melse\u001b[0m\u001b[0;34m:\u001b[0m\u001b[0;34m\u001b[0m\u001b[0;34m\u001b[0m\u001b[0m\n\u001b[0;32m--> 816\u001b[0;31m                 \u001b[0;32mraise\u001b[0m \u001b[0mKeyError\u001b[0m\u001b[0;34m(\u001b[0m\u001b[0mgpr\u001b[0m\u001b[0;34m)\u001b[0m\u001b[0;34m\u001b[0m\u001b[0;34m\u001b[0m\u001b[0m\n\u001b[0m\u001b[1;32m    817\u001b[0m         \u001b[0;32melif\u001b[0m \u001b[0misinstance\u001b[0m\u001b[0;34m(\u001b[0m\u001b[0mgpr\u001b[0m\u001b[0;34m,\u001b[0m \u001b[0mGrouper\u001b[0m\u001b[0;34m)\u001b[0m \u001b[0;32mand\u001b[0m \u001b[0mgpr\u001b[0m\u001b[0;34m.\u001b[0m\u001b[0mkey\u001b[0m \u001b[0;32mis\u001b[0m \u001b[0;32mnot\u001b[0m \u001b[0;32mNone\u001b[0m\u001b[0;34m:\u001b[0m\u001b[0;34m\u001b[0m\u001b[0;34m\u001b[0m\u001b[0m\n\u001b[1;32m    818\u001b[0m             \u001b[0;31m# Add key to exclusions\u001b[0m\u001b[0;34m\u001b[0m\u001b[0;34m\u001b[0m\u001b[0;34m\u001b[0m\u001b[0m\n",
      "\u001b[0;31mKeyError\u001b[0m: 'Name'"
     ]
    }
   ],
   "source": [
    "pd.concat(my_weapons_df.apply(apply_my_weapons, axis=1).values).groupby(\n",
    "    [\"Name\"]).sum().reset_index().sort_values(\"Quantity\", ascending=False)"
   ]
  },
  {
   "cell_type": "markdown",
   "metadata": {},
   "source": [
    "### Compare to Total Needed"
   ]
  },
  {
   "cell_type": "markdown",
   "metadata": {},
   "source": [
    "#### Explore"
   ]
  },
  {
   "cell_type": "code",
   "execution_count": 135,
   "metadata": {},
   "outputs": [
    {
     "data": {
      "text/html": [
       "<div>\n",
       "<style scoped>\n",
       "    .dataframe tbody tr th:only-of-type {\n",
       "        vertical-align: middle;\n",
       "    }\n",
       "\n",
       "    .dataframe tbody tr th {\n",
       "        vertical-align: top;\n",
       "    }\n",
       "\n",
       "    .dataframe thead th {\n",
       "        text-align: right;\n",
       "    }\n",
       "</style>\n",
       "<table border=\"1\" class=\"dataframe\">\n",
       "  <thead>\n",
       "    <tr style=\"text-align: right;\">\n",
       "      <th></th>\n",
       "      <th>Name</th>\n",
       "      <th>WeaponSeries</th>\n",
       "      <th>WeaponType</th>\n",
       "      <th>Rarity</th>\n",
       "      <th>ElementalType</th>\n",
       "      <th>Step</th>\n",
       "      <th>BuildupPieceType</th>\n",
       "      <th>Name_1</th>\n",
       "      <th>BuildupMaterialQuantity1</th>\n",
       "      <th>Name_2</th>\n",
       "      <th>BuildupMaterialQuantity2</th>\n",
       "      <th>Name_3</th>\n",
       "      <th>BuildupMaterialQuantity3</th>\n",
       "      <th>Name_4</th>\n",
       "      <th>BuildupMaterialQuantity4</th>\n",
       "      <th>Name_5</th>\n",
       "      <th>BuildupMaterialQuantity5</th>\n",
       "    </tr>\n",
       "  </thead>\n",
       "  <tbody>\n",
       "    <tr>\n",
       "      <th>303</th>\n",
       "      <td>Nothung</td>\n",
       "      <td>Agito</td>\n",
       "      <td>Sword</td>\n",
       "      <td>6</td>\n",
       "      <td>Flame</td>\n",
       "      <td>1.0</td>\n",
       "      <td>Slots</td>\n",
       "      <td>Destitute One's Mask Fragment</td>\n",
       "      <td>16.0</td>\n",
       "      <td>Plagued One's Mask Fragment</td>\n",
       "      <td>10.0</td>\n",
       "      <td>Orichalcum</td>\n",
       "      <td>1.0</td>\n",
       "      <td>NaN</td>\n",
       "      <td>NaN</td>\n",
       "      <td>NaN</td>\n",
       "      <td>NaN</td>\n",
       "    </tr>\n",
       "    <tr>\n",
       "      <th>304</th>\n",
       "      <td>Nothung</td>\n",
       "      <td>Agito</td>\n",
       "      <td>Sword</td>\n",
       "      <td>6</td>\n",
       "      <td>Flame</td>\n",
       "      <td>1.0</td>\n",
       "      <td>Weapon Bonus</td>\n",
       "      <td>Destitute One's Mask Fragment</td>\n",
       "      <td>100.0</td>\n",
       "      <td>Plagued One's Mask Fragment</td>\n",
       "      <td>100.0</td>\n",
       "      <td>Rebellious One's Insanity</td>\n",
       "      <td>14.0</td>\n",
       "      <td>Orichalcum</td>\n",
       "      <td>30.0</td>\n",
       "      <td>NaN</td>\n",
       "      <td>NaN</td>\n",
       "    </tr>\n",
       "    <tr>\n",
       "      <th>305</th>\n",
       "      <td>Nothung</td>\n",
       "      <td>Agito</td>\n",
       "      <td>Sword</td>\n",
       "      <td>6</td>\n",
       "      <td>Flame</td>\n",
       "      <td>2.0</td>\n",
       "      <td>Copies</td>\n",
       "      <td>Destitute One's Mask Fragment</td>\n",
       "      <td>280.0</td>\n",
       "      <td>Plagued One's Mask Fragment</td>\n",
       "      <td>200.0</td>\n",
       "      <td>Rebellious One's Insanity</td>\n",
       "      <td>35.0</td>\n",
       "      <td>Twinkling Sand</td>\n",
       "      <td>5.0</td>\n",
       "      <td>Orichalcum</td>\n",
       "      <td>5.0</td>\n",
       "    </tr>\n",
       "    <tr>\n",
       "      <th>306</th>\n",
       "      <td>Nothung</td>\n",
       "      <td>Agito</td>\n",
       "      <td>Sword</td>\n",
       "      <td>6</td>\n",
       "      <td>Flame</td>\n",
       "      <td>3.0</td>\n",
       "      <td>Copies</td>\n",
       "      <td>Destitute One's Mask Fragment</td>\n",
       "      <td>280.0</td>\n",
       "      <td>Plagued One's Mask Fragment</td>\n",
       "      <td>200.0</td>\n",
       "      <td>Rebellious One's Insanity</td>\n",
       "      <td>35.0</td>\n",
       "      <td>Twinkling Sand</td>\n",
       "      <td>5.0</td>\n",
       "      <td>Orichalcum</td>\n",
       "      <td>5.0</td>\n",
       "    </tr>\n",
       "    <tr>\n",
       "      <th>307</th>\n",
       "      <td>Nothung</td>\n",
       "      <td>Agito</td>\n",
       "      <td>Sword</td>\n",
       "      <td>6</td>\n",
       "      <td>Flame</td>\n",
       "      <td>4.0</td>\n",
       "      <td>Copies</td>\n",
       "      <td>Destitute One's Mask Fragment</td>\n",
       "      <td>280.0</td>\n",
       "      <td>Plagued One's Mask Fragment</td>\n",
       "      <td>200.0</td>\n",
       "      <td>Rebellious One's Insanity</td>\n",
       "      <td>35.0</td>\n",
       "      <td>Twinkling Sand</td>\n",
       "      <td>5.0</td>\n",
       "      <td>Orichalcum</td>\n",
       "      <td>5.0</td>\n",
       "    </tr>\n",
       "    <tr>\n",
       "      <th>300</th>\n",
       "      <td>Nothung</td>\n",
       "      <td>Agito</td>\n",
       "      <td>Sword</td>\n",
       "      <td>6</td>\n",
       "      <td>Flame</td>\n",
       "      <td>9.0</td>\n",
       "      <td>Unbind</td>\n",
       "      <td>Destitute One's Mask Fragment</td>\n",
       "      <td>80.0</td>\n",
       "      <td>Plagued One's Mask Fragment</td>\n",
       "      <td>70.0</td>\n",
       "      <td>Rebellious One's Insanity</td>\n",
       "      <td>30.0</td>\n",
       "      <td>Rebellious Wolf's Gale</td>\n",
       "      <td>20.0</td>\n",
       "      <td>Orichalcum</td>\n",
       "      <td>20.0</td>\n",
       "    </tr>\n",
       "  </tbody>\n",
       "</table>\n",
       "</div>"
      ],
      "text/plain": [
       "        Name WeaponSeries WeaponType  Rarity ElementalType  Step  \\\n",
       "303  Nothung        Agito      Sword       6         Flame   1.0   \n",
       "304  Nothung        Agito      Sword       6         Flame   1.0   \n",
       "305  Nothung        Agito      Sword       6         Flame   2.0   \n",
       "306  Nothung        Agito      Sword       6         Flame   3.0   \n",
       "307  Nothung        Agito      Sword       6         Flame   4.0   \n",
       "300  Nothung        Agito      Sword       6         Flame   9.0   \n",
       "\n",
       "    BuildupPieceType                         Name_1  BuildupMaterialQuantity1  \\\n",
       "303            Slots  Destitute One's Mask Fragment                      16.0   \n",
       "304     Weapon Bonus  Destitute One's Mask Fragment                     100.0   \n",
       "305           Copies  Destitute One's Mask Fragment                     280.0   \n",
       "306           Copies  Destitute One's Mask Fragment                     280.0   \n",
       "307           Copies  Destitute One's Mask Fragment                     280.0   \n",
       "300           Unbind  Destitute One's Mask Fragment                      80.0   \n",
       "\n",
       "                          Name_2  BuildupMaterialQuantity2  \\\n",
       "303  Plagued One's Mask Fragment                      10.0   \n",
       "304  Plagued One's Mask Fragment                     100.0   \n",
       "305  Plagued One's Mask Fragment                     200.0   \n",
       "306  Plagued One's Mask Fragment                     200.0   \n",
       "307  Plagued One's Mask Fragment                     200.0   \n",
       "300  Plagued One's Mask Fragment                      70.0   \n",
       "\n",
       "                        Name_3  BuildupMaterialQuantity3  \\\n",
       "303                 Orichalcum                       1.0   \n",
       "304  Rebellious One's Insanity                      14.0   \n",
       "305  Rebellious One's Insanity                      35.0   \n",
       "306  Rebellious One's Insanity                      35.0   \n",
       "307  Rebellious One's Insanity                      35.0   \n",
       "300  Rebellious One's Insanity                      30.0   \n",
       "\n",
       "                     Name_4  BuildupMaterialQuantity4      Name_5  \\\n",
       "303                     NaN                       NaN         NaN   \n",
       "304              Orichalcum                      30.0         NaN   \n",
       "305          Twinkling Sand                       5.0  Orichalcum   \n",
       "306          Twinkling Sand                       5.0  Orichalcum   \n",
       "307          Twinkling Sand                       5.0  Orichalcum   \n",
       "300  Rebellious Wolf's Gale                      20.0  Orichalcum   \n",
       "\n",
       "     BuildupMaterialQuantity5  \n",
       "303                       NaN  \n",
       "304                       NaN  \n",
       "305                       5.0  \n",
       "306                       5.0  \n",
       "307                       5.0  \n",
       "300                      20.0  "
      ]
     },
     "execution_count": 135,
     "metadata": {},
     "output_type": "execute_result"
    }
   ],
   "source": [
    "agito_weapon_calc_df[get_filt(pd.Series({\n",
    "    \"Weapon\":\"Sword\", \n",
    "    \"Element\":\"Flame\", \n",
    "    \"Tier\": 8, \n",
    "    \"Refined\": True, \n",
    "    \"Bonus\": False, \n",
    "    \"Slots\": False}))]"
   ]
  },
  {
   "cell_type": "markdown",
   "metadata": {},
   "source": [
    "#### Output"
   ]
  },
  {
   "cell_type": "code",
   "execution_count": 127,
   "metadata": {},
   "outputs": [
    {
     "data": {
      "text/html": [
       "<div>\n",
       "<style scoped>\n",
       "    .dataframe tbody tr th:only-of-type {\n",
       "        vertical-align: middle;\n",
       "    }\n",
       "\n",
       "    .dataframe tbody tr th {\n",
       "        vertical-align: top;\n",
       "    }\n",
       "\n",
       "    .dataframe thead th {\n",
       "        text-align: right;\n",
       "    }\n",
       "</style>\n",
       "<table border=\"1\" class=\"dataframe\">\n",
       "  <thead>\n",
       "    <tr style=\"text-align: right;\">\n",
       "      <th></th>\n",
       "      <th>ElementalType</th>\n",
       "      <th>Name</th>\n",
       "      <th>Quantity</th>\n",
       "    </tr>\n",
       "  </thead>\n",
       "  <tbody>\n",
       "    <tr>\n",
       "      <th>0</th>\n",
       "      <td>Flame</td>\n",
       "      <td>Destitute One's Mask Fragment</td>\n",
       "      <td>11844.0</td>\n",
       "    </tr>\n",
       "    <tr>\n",
       "      <th>22</th>\n",
       "      <td>Wind</td>\n",
       "      <td>Eliminating One's Mask Fragment</td>\n",
       "      <td>10764.0</td>\n",
       "    </tr>\n",
       "    <tr>\n",
       "      <th>8</th>\n",
       "      <td>Light</td>\n",
       "      <td>Remaining One's Mask Fragment</td>\n",
       "      <td>10764.0</td>\n",
       "    </tr>\n",
       "    <tr>\n",
       "      <th>19</th>\n",
       "      <td>Water</td>\n",
       "      <td>Soaring Ones' Mask Fragment</td>\n",
       "      <td>10764.0</td>\n",
       "    </tr>\n",
       "    <tr>\n",
       "      <th>11</th>\n",
       "      <td>Shadow</td>\n",
       "      <td>Almighty One's Mask Fragment</td>\n",
       "      <td>9568.0</td>\n",
       "    </tr>\n",
       "    <tr>\n",
       "      <th>2</th>\n",
       "      <td>Flame</td>\n",
       "      <td>Plagued One's Mask Fragment</td>\n",
       "      <td>8820.0</td>\n",
       "    </tr>\n",
       "    <tr>\n",
       "      <th>21</th>\n",
       "      <td>Wind</td>\n",
       "      <td>Despairing One's Mask Fragment</td>\n",
       "      <td>7920.0</td>\n",
       "    </tr>\n",
       "    <tr>\n",
       "      <th>10</th>\n",
       "      <td>Light</td>\n",
       "      <td>Vengeful One's Mask Fragment</td>\n",
       "      <td>7920.0</td>\n",
       "    </tr>\n",
       "    <tr>\n",
       "      <th>16</th>\n",
       "      <td>Water</td>\n",
       "      <td>Liberated One's Mask Fragment</td>\n",
       "      <td>7920.0</td>\n",
       "    </tr>\n",
       "    <tr>\n",
       "      <th>15</th>\n",
       "      <td>Shadow</td>\n",
       "      <td>Uprooting One's Mask Fragment</td>\n",
       "      <td>7040.0</td>\n",
       "    </tr>\n",
       "    <tr>\n",
       "      <th>3</th>\n",
       "      <td>Flame</td>\n",
       "      <td>Rebellious One's Insanity</td>\n",
       "      <td>1746.0</td>\n",
       "    </tr>\n",
       "    <tr>\n",
       "      <th>24</th>\n",
       "      <td>Wind</td>\n",
       "      <td>Rebellious One's Desperation</td>\n",
       "      <td>1386.0</td>\n",
       "    </tr>\n",
       "    <tr>\n",
       "      <th>7</th>\n",
       "      <td>Light</td>\n",
       "      <td>Rebellious One's Loyalty</td>\n",
       "      <td>1386.0</td>\n",
       "    </tr>\n",
       "    <tr>\n",
       "      <th>18</th>\n",
       "      <td>Water</td>\n",
       "      <td>Rebellious One's Cruelty</td>\n",
       "      <td>1386.0</td>\n",
       "    </tr>\n",
       "    <tr>\n",
       "      <th>13</th>\n",
       "      <td>Shadow</td>\n",
       "      <td>Rebellious One's Arrogance</td>\n",
       "      <td>1232.0</td>\n",
       "    </tr>\n",
       "    <tr>\n",
       "      <th>1</th>\n",
       "      <td>Flame</td>\n",
       "      <td>Orichalcum</td>\n",
       "      <td>729.0</td>\n",
       "    </tr>\n",
       "    <tr>\n",
       "      <th>17</th>\n",
       "      <td>Water</td>\n",
       "      <td>Orichalcum</td>\n",
       "      <td>459.0</td>\n",
       "    </tr>\n",
       "    <tr>\n",
       "      <th>6</th>\n",
       "      <td>Light</td>\n",
       "      <td>Orichalcum</td>\n",
       "      <td>459.0</td>\n",
       "    </tr>\n",
       "    <tr>\n",
       "      <th>23</th>\n",
       "      <td>Wind</td>\n",
       "      <td>Orichalcum</td>\n",
       "      <td>459.0</td>\n",
       "    </tr>\n",
       "    <tr>\n",
       "      <th>12</th>\n",
       "      <td>Shadow</td>\n",
       "      <td>Orichalcum</td>\n",
       "      <td>408.0</td>\n",
       "    </tr>\n",
       "    <tr>\n",
       "      <th>4</th>\n",
       "      <td>Flame</td>\n",
       "      <td>Rebellious Wolf's Gale</td>\n",
       "      <td>270.0</td>\n",
       "    </tr>\n",
       "    <tr>\n",
       "      <th>9</th>\n",
       "      <td>Light</td>\n",
       "      <td>Twinkling Sand</td>\n",
       "      <td>171.0</td>\n",
       "    </tr>\n",
       "    <tr>\n",
       "      <th>20</th>\n",
       "      <td>Water</td>\n",
       "      <td>Twinkling Sand</td>\n",
       "      <td>171.0</td>\n",
       "    </tr>\n",
       "    <tr>\n",
       "      <th>5</th>\n",
       "      <td>Flame</td>\n",
       "      <td>Twinkling Sand</td>\n",
       "      <td>171.0</td>\n",
       "    </tr>\n",
       "    <tr>\n",
       "      <th>25</th>\n",
       "      <td>Wind</td>\n",
       "      <td>Twinkling Sand</td>\n",
       "      <td>171.0</td>\n",
       "    </tr>\n",
       "    <tr>\n",
       "      <th>14</th>\n",
       "      <td>Shadow</td>\n",
       "      <td>Twinkling Sand</td>\n",
       "      <td>152.0</td>\n",
       "    </tr>\n",
       "  </tbody>\n",
       "</table>\n",
       "</div>"
      ],
      "text/plain": [
       "   ElementalType                             Name  Quantity\n",
       "0          Flame    Destitute One's Mask Fragment   11844.0\n",
       "22          Wind  Eliminating One's Mask Fragment   10764.0\n",
       "8          Light    Remaining One's Mask Fragment   10764.0\n",
       "19         Water      Soaring Ones' Mask Fragment   10764.0\n",
       "11        Shadow     Almighty One's Mask Fragment    9568.0\n",
       "2          Flame      Plagued One's Mask Fragment    8820.0\n",
       "21          Wind   Despairing One's Mask Fragment    7920.0\n",
       "10         Light     Vengeful One's Mask Fragment    7920.0\n",
       "16         Water    Liberated One's Mask Fragment    7920.0\n",
       "15        Shadow    Uprooting One's Mask Fragment    7040.0\n",
       "3          Flame        Rebellious One's Insanity    1746.0\n",
       "24          Wind     Rebellious One's Desperation    1386.0\n",
       "7          Light         Rebellious One's Loyalty    1386.0\n",
       "18         Water         Rebellious One's Cruelty    1386.0\n",
       "13        Shadow       Rebellious One's Arrogance    1232.0\n",
       "1          Flame                       Orichalcum     729.0\n",
       "17         Water                       Orichalcum     459.0\n",
       "6          Light                       Orichalcum     459.0\n",
       "23          Wind                       Orichalcum     459.0\n",
       "12        Shadow                       Orichalcum     408.0\n",
       "4          Flame           Rebellious Wolf's Gale     270.0\n",
       "9          Light                   Twinkling Sand     171.0\n",
       "20         Water                   Twinkling Sand     171.0\n",
       "5          Flame                   Twinkling Sand     171.0\n",
       "25          Wind                   Twinkling Sand     171.0\n",
       "14        Shadow                   Twinkling Sand     152.0"
      ]
     },
     "execution_count": 127,
     "metadata": {},
     "output_type": "execute_result"
    }
   ],
   "source": [
    "get_materials(agito_weapon_calc_df).groupby(\n",
    "    [\"ElementalType\", \"Name\"]).sum().reset_index().sort_values(\"Quantity\", ascending=False)"
   ]
  },
  {
   "cell_type": "code",
   "execution_count": null,
   "metadata": {},
   "outputs": [],
   "source": []
  }
 ],
 "metadata": {
  "kernelspec": {
   "display_name": "Python 3",
   "language": "python",
   "name": "python3"
  },
  "language_info": {
   "codemirror_mode": {
    "name": "ipython",
    "version": 3
   },
   "file_extension": ".py",
   "mimetype": "text/x-python",
   "name": "python",
   "nbconvert_exporter": "python",
   "pygments_lexer": "ipython3",
   "version": "3.9.0"
  }
 },
 "nbformat": 4,
 "nbformat_minor": 2
}