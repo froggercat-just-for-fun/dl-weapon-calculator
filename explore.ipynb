{
 "cells": [
  {
   "cell_type": "code",
   "execution_count": 1,
   "metadata": {},
   "outputs": [],
   "source": [
    "import pandas as pd\n",
    "import os\n",
    "import concurrent.futures\n",
    "\n",
    "pd.set_option('display.max_rows', 1000)"
   ]
  },
  {
   "cell_type": "markdown",
   "metadata": {},
   "source": [
    "# Load Metadata"
   ]
  },
  {
   "cell_type": "code",
   "execution_count": 2,
   "metadata": {},
   "outputs": [],
   "source": [
    "summary_file = os.path.join(\"data\", \"summary\")\n",
    "summary = pd.read_csv(summary_file)"
   ]
  },
  {
   "cell_type": "code",
   "execution_count": 3,
   "metadata": {},
   "outputs": [
    {
     "data": {
      "text/plain": "0               ABRCharacter\n1                  ABRDragon\n2                  Abilities\n3               AbilityGroup\n4        AbilityLimitedGroup\n5                Adventurers\n6              AffinityBonus\n7                        Art\n8       CampaignQuestHeaders\n9                  CargoTest\n10             CastleStories\n11          ChainCoAbilities\n12           CharaLimitBreak\n13               CoAbilities\n14                    Comics\n15                Conditions\n16               Consumables\n17          DailyRewardChest\n18                   Dragons\n19               DropRewards\n20              EndeavorSets\n21           EndeavorSetsRow\n22          EndeavorSetsTest\n23               EnemiesTest\n24            EnemyPageLinks\n25         EventQuestHeaders\n26                    Events\n27                Facilities\n28                     Gifts\n29               LoadingTips\n30               MCMaterials\n31                MCNodeType\n32                   MCNodes\n33        MaintenanceNotices\n34           ManaCircleNodes\n35          ManaPieceElement\n36                 Materials\n37                      NPCs\n38                      News\n39                    Quests\n40           SecondaryEvents\n41                    Skills\n42                   Stories\n43                StoryLines\n44            SummonShowcase\n45              TestingTable\n46         VersionChangelogs\n47    WeaponBodyBuildupGroup\n48    WeaponBodyBuildupLevel\n49          WeaponBodyRarity\n50      WeaponPassiveAbility\n51                WeaponSkin\n52                   Weapons\n53                 Weaponsv1\n54     WyrmprintBuildupGroup\n55     WyrmprintBuildupLevel\n56           WyrmprintRarity\n57            WyrmprintTrade\n58                Wyrmprints\n59              Wyrmprintsv1\n60                 _pageData\nName: name, dtype: object"
     },
     "execution_count": 3,
     "metadata": {},
     "output_type": "execute_result"
    }
   ],
   "source": [
    "summary.name"
   ]
  },
  {
   "cell_type": "markdown",
   "metadata": {},
   "source": [
    "# Weapon Calculations"
   ]
  },
  {
   "cell_type": "code",
   "execution_count": 4,
   "metadata": {},
   "outputs": [
    {
     "data": {
      "text/html": "<div>\n<style scoped>\n    .dataframe tbody tr th:only-of-type {\n        vertical-align: middle;\n    }\n\n    .dataframe tbody tr th {\n        vertical-align: top;\n    }\n\n    .dataframe thead th {\n        text-align: right;\n    }\n</style>\n<table border=\"1\" class=\"dataframe\">\n  <thead>\n    <tr style=\"text-align: right;\">\n      <th></th>\n      <th>name</th>\n      <th>records_pulled</th>\n      <th>start_time</th>\n      <th>end_time</th>\n      <th>duration</th>\n      <th>url</th>\n      <th>errors</th>\n    </tr>\n  </thead>\n  <tbody>\n    <tr>\n      <th>53</th>\n      <td>Weaponsv1</td>\n      <td>1139</td>\n      <td>1.609973e+09</td>\n      <td>1.609973e+09</td>\n      <td>0.848851</td>\n      <td>https://dragalialost.gamepedia.com/Special:Car...</td>\n      <td>NaN</td>\n    </tr>\n    <tr>\n      <th>47</th>\n      <td>WeaponBodyBuildupGroup</td>\n      <td>1085</td>\n      <td>1.609973e+09</td>\n      <td>1.609973e+09</td>\n      <td>0.392264</td>\n      <td>https://dragalialost.gamepedia.com/Special:Car...</td>\n      <td>NaN</td>\n    </tr>\n    <tr>\n      <th>51</th>\n      <td>WeaponSkin</td>\n      <td>695</td>\n      <td>1.609973e+09</td>\n      <td>1.609973e+09</td>\n      <td>0.498649</td>\n      <td>https://dragalialost.gamepedia.com/Special:Car...</td>\n      <td>NaN</td>\n    </tr>\n    <tr>\n      <th>50</th>\n      <td>WeaponPassiveAbility</td>\n      <td>415</td>\n      <td>1.609973e+09</td>\n      <td>1.609973e+09</td>\n      <td>0.335351</td>\n      <td>https://dragalialost.gamepedia.com/Special:Car...</td>\n      <td>NaN</td>\n    </tr>\n    <tr>\n      <th>36</th>\n      <td>Materials</td>\n      <td>354</td>\n      <td>1.609973e+09</td>\n      <td>1.609973e+09</td>\n      <td>0.295614</td>\n      <td>https://dragalialost.gamepedia.com/Special:Car...</td>\n      <td>NaN</td>\n    </tr>\n    <tr>\n      <th>52</th>\n      <td>Weapons</td>\n      <td>262</td>\n      <td>1.609973e+09</td>\n      <td>1.609973e+09</td>\n      <td>0.605974</td>\n      <td>https://dragalialost.gamepedia.com/Special:Car...</td>\n      <td>NaN</td>\n    </tr>\n    <tr>\n      <th>48</th>\n      <td>WeaponBodyBuildupLevel</td>\n      <td>220</td>\n      <td>1.609973e+09</td>\n      <td>1.609973e+09</td>\n      <td>0.217645</td>\n      <td>https://dragalialost.gamepedia.com/Special:Car...</td>\n      <td>NaN</td>\n    </tr>\n    <tr>\n      <th>49</th>\n      <td>WeaponBodyRarity</td>\n      <td>6</td>\n      <td>1.609973e+09</td>\n      <td>1.609973e+09</td>\n      <td>0.229509</td>\n      <td>https://dragalialost.gamepedia.com/Special:Car...</td>\n      <td>NaN</td>\n    </tr>\n  </tbody>\n</table>\n</div>",
      "text/plain": "                      name  records_pulled    start_time      end_time  \\\n53               Weaponsv1            1139  1.609973e+09  1.609973e+09   \n47  WeaponBodyBuildupGroup            1085  1.609973e+09  1.609973e+09   \n51              WeaponSkin             695  1.609973e+09  1.609973e+09   \n50    WeaponPassiveAbility             415  1.609973e+09  1.609973e+09   \n36               Materials             354  1.609973e+09  1.609973e+09   \n52                 Weapons             262  1.609973e+09  1.609973e+09   \n48  WeaponBodyBuildupLevel             220  1.609973e+09  1.609973e+09   \n49        WeaponBodyRarity               6  1.609973e+09  1.609973e+09   \n\n    duration                                                url  errors  \n53  0.848851  https://dragalialost.gamepedia.com/Special:Car...     NaN  \n47  0.392264  https://dragalialost.gamepedia.com/Special:Car...     NaN  \n51  0.498649  https://dragalialost.gamepedia.com/Special:Car...     NaN  \n50  0.335351  https://dragalialost.gamepedia.com/Special:Car...     NaN  \n36  0.295614  https://dragalialost.gamepedia.com/Special:Car...     NaN  \n52  0.605974  https://dragalialost.gamepedia.com/Special:Car...     NaN  \n48  0.217645  https://dragalialost.gamepedia.com/Special:Car...     NaN  \n49  0.229509  https://dragalialost.gamepedia.com/Special:Car...     NaN  "
     },
     "execution_count": 4,
     "metadata": {},
     "output_type": "execute_result"
    }
   ],
   "source": [
    "weapon_tables = summary[(summary.name.str.contains(\"Weapon\")) | (summary.name == \"Materials\")].sort_values(\"records_pulled\",ascending=False)\n",
    "weapon_tables"
   ]
  },
  {
   "cell_type": "code",
   "execution_count": 5,
   "metadata": {},
   "outputs": [
    {
     "data": {
      "text/plain": "dict_keys(['Weaponsv1', 'WeaponBodyBuildupGroup', 'WeaponSkin', 'WeaponPassiveAbility', 'Materials', 'Weapons', 'WeaponBodyBuildupLevel', 'WeaponBodyRarity'])"
     },
     "execution_count": 5,
     "metadata": {},
     "output_type": "execute_result"
    }
   ],
   "source": [
    "wep_table_list = weapon_tables.name.to_list()\n",
    "\n",
    "def get_file(table):\n",
    "    filename = os.path.join(\"data\", f\"{table}.csv\")\n",
    "    return {table: pd.read_csv(filename)}\n",
    "\n",
    "with concurrent.futures.ThreadPoolExecutor() as executor:\n",
    "    futures = [executor.submit(get_file, table) for table in wep_table_list]\n",
    "    weapon_dfs = [f.result() for f in futures]\n",
    "    weapon_dfs = {k: v for d in weapon_dfs for k,v in d.items()}\n",
    "\n",
    "weapon_dfs.keys()"
   ]
  },
  {
   "cell_type": "code",
   "execution_count": 6,
   "metadata": {},
   "outputs": [
    {
     "name": "stdout",
     "output_type": "stream",
     "text": [
      "Weaponsv1:\n",
      "['Id', 'BaseId', 'FormId', 'TypeId', 'ElementalTypeId', 'VariationId', 'CraftNodeId', 'ParentCraftNodeId', 'CraftGroupId', 'MainWeaponId', 'AcquiredWeaponId1', 'AcquiredWeaponId2', 'AvailabilityId']\n",
      "\n",
      "WeaponBodyBuildupGroup:\n",
      "['Id', 'WeaponBodyBuildupGroupId', 'BuildupPieceTypeId', 'BuildupMaterialId1', 'BuildupMaterialId2', 'BuildupMaterialId3', 'BuildupMaterialId4', 'BuildupMaterialId5', 'BuildupMaterialId6', 'BuildupMaterialId7', 'BuildupMaterialId8', 'BuildupMaterialId9', 'BuildupMaterialId10']\n",
      "\n",
      "WeaponSkin:\n",
      "['Id', 'WeaponTypeId', 'ElementalTypeId', 'BaseId', 'VariationId', 'FormId', 'DecBaseId', 'DecVariationId', 'BulletBaseId', 'BulletVariationId']\n",
      "\n",
      "WeaponPassiveAbility:\n",
      "['Id', 'WeaponPassiveAbilityGroupId', 'WeaponTypeId', 'ElementalTypeId', 'SortId', 'AbilityId', 'RewardWeaponSkinId1', 'RewardWeaponSkinId2', 'UnlockMaterialId1', 'UnlockMaterialId2', 'UnlockMaterialId3', 'UnlockMaterialId4', 'UnlockMaterialId5']\n",
      "\n",
      "Materials:\n",
      "['Id', 'QuestEventId', 'SortId']\n",
      "\n",
      "Weapons:\n",
      "['Id', 'WeaponSeriesId', 'WeaponSkinId', 'WeaponTypeId', 'ElementalTypeId', 'ChangeSkillId1', 'ChangeSkillId2', 'ChangeSkillId3', 'NeedCreateWeaponBodyId1', 'NeedCreateWeaponBodyId2', 'NeedAllUnlockWeaponBodyId1', 'WeaponPassiveAbilityGroupId', 'WeaponBodyBuildupGroupId', 'RewardWeaponSkinId1', 'RewardWeaponSkinId2', 'RewardWeaponSkinId3', 'RewardWeaponSkinId4', 'RewardWeaponSkinId5']\n",
      "\n",
      "WeaponBodyBuildupLevel:\n",
      "['Id', 'BuildupMaterialId1', 'BuildupMaterialId2', 'BuildupMaterialId3']\n",
      "\n",
      "WeaponBodyRarity:\n",
      "['Id']\n",
      "\n"
     ]
    }
   ],
   "source": [
    "for table, df in weapon_dfs.items():\n",
    "    print(f\"{table}:\\n{[i for i in df.columns if 'Id' in i]}\\n\")"
   ]
  },
  {
   "cell_type": "code",
   "execution_count": 7,
   "metadata": {},
   "outputs": [
    {
     "name": "stdout",
     "output_type": "stream",
     "text": [
      "Index(['Abilities11', 'Abilities12', 'Abilities13', 'Abilities21',\n",
      "       'Abilities22', 'Abilities23', 'BaseAtk', 'BaseHp', 'ChangeSkillId1',\n",
      "       'ChangeSkillId2', 'ChangeSkillId3', 'CreateCoin', 'CreateEntity1',\n",
      "       'CreateEntity2', 'CreateEntity3', 'CreateEntity4', 'CreateEntity5',\n",
      "       'CreateEntityQuantity1', 'CreateEntityQuantity2',\n",
      "       'CreateEntityQuantity3', 'CreateEntityQuantity4',\n",
      "       'CreateEntityQuantity5', 'CreateStartDate',\n",
      "       'CreateStartDate__precision', 'CrestSlotType1BaseCount',\n",
      "       'CrestSlotType1MaxCount', 'CrestSlotType2BaseCount',\n",
      "       'CrestSlotType2MaxCount', 'DuplicateEntity', 'DuplicateEntityQuantity',\n",
      "       'ElementalType', 'ElementalTypeId', 'Id', 'IsPlayable',\n",
      "       'LimitOverCountPartyPower1', 'LimitOverCountPartyPower2', 'MaxAtk1',\n",
      "       'MaxAtk2', 'MaxAtk3', 'MaxHp1', 'MaxHp2', 'MaxHp3', 'MaxLimitOverCount',\n",
      "       'MaxWeaponPassiveCharaCount', 'Name', 'NameJP',\n",
      "       'NeedAllUnlockWeaponBodyId1', 'NeedCreateWeaponBodyId1',\n",
      "       'NeedCreateWeaponBodyId2', 'NeedFortCraftLevel', 'Obtain', 'Rarity',\n",
      "       'RewardWeaponSkinId1', 'RewardWeaponSkinId2', 'RewardWeaponSkinId3',\n",
      "       'RewardWeaponSkinId4', 'RewardWeaponSkinId5', 'Text',\n",
      "       'WeaponBodyBuildupGroupId', 'WeaponPassiveAbilityGroupId',\n",
      "       'WeaponPassiveEffAtk', 'WeaponPassiveEffHp', 'WeaponSeries',\n",
      "       'WeaponSeriesId', 'WeaponSkinId', 'WeaponType', 'WeaponTypeId', '_ID',\n",
      "       '_pageID', '_pageName', '_pageNamespace', '_pageTitle'],\n",
      "      dtype='object')\n"
     ]
    },
    {
     "data": {
      "text/html": "<div>\n<style scoped>\n    .dataframe tbody tr th:only-of-type {\n        vertical-align: middle;\n    }\n\n    .dataframe tbody tr th {\n        vertical-align: top;\n    }\n\n    .dataframe thead th {\n        text-align: right;\n    }\n</style>\n<table border=\"1\" class=\"dataframe\">\n  <thead>\n    <tr style=\"text-align: right;\">\n      <th></th>\n      <th>Id</th>\n      <th>Name</th>\n      <th>NameJP</th>\n      <th>WeaponSeries</th>\n      <th>WeaponSeriesId</th>\n      <th>WeaponSkinId</th>\n      <th>WeaponType</th>\n      <th>WeaponTypeId</th>\n      <th>Rarity</th>\n      <th>ElementalType</th>\n      <th>...</th>\n      <th>RewardWeaponSkinId2</th>\n      <th>RewardWeaponSkinId3</th>\n      <th>RewardWeaponSkinId4</th>\n      <th>RewardWeaponSkinId5</th>\n      <th>_pageName</th>\n      <th>_pageTitle</th>\n      <th>_pageNamespace</th>\n      <th>_pageID</th>\n      <th>_ID</th>\n      <th>CreateStartDate__precision</th>\n    </tr>\n  </thead>\n  <tbody>\n    <tr>\n      <th>117</th>\n      <td>30460101</td>\n      <td>Mjölnir</td>\n      <td>ミョルニル</td>\n      <td>Agito</td>\n      <td>4</td>\n      <td>30460101</td>\n      <td>Axe</td>\n      <td>4</td>\n      <td>6</td>\n      <td>Flame</td>\n      <td>...</td>\n      <td>0</td>\n      <td>0</td>\n      <td>0</td>\n      <td>0</td>\n      <td>Mjölnir</td>\n      <td>Mjölnir</td>\n      <td>0</td>\n      <td>15249</td>\n      <td>172</td>\n      <td>0</td>\n    </tr>\n    <tr>\n      <th>120</th>\n      <td>30460401</td>\n      <td>Rog Mol</td>\n      <td>ローグ・モル</td>\n      <td>Agito</td>\n      <td>4</td>\n      <td>30460401</td>\n      <td>Axe</td>\n      <td>4</td>\n      <td>6</td>\n      <td>Light</td>\n      <td>...</td>\n      <td>0</td>\n      <td>0</td>\n      <td>0</td>\n      <td>0</td>\n      <td>Rog Mol</td>\n      <td>Rog Mol</td>\n      <td>0</td>\n      <td>22392</td>\n      <td>238</td>\n      <td>0</td>\n    </tr>\n    <tr>\n      <th>121</th>\n      <td>30460501</td>\n      <td>Fangtian Huaji</td>\n      <td>方天画戟</td>\n      <td>Agito</td>\n      <td>4</td>\n      <td>30460501</td>\n      <td>Axe</td>\n      <td>4</td>\n      <td>6</td>\n      <td>Shadow</td>\n      <td>...</td>\n      <td>0</td>\n      <td>0</td>\n      <td>0</td>\n      <td>0</td>\n      <td>Fangtian Huaji</td>\n      <td>Fangtian Huaji</td>\n      <td>0</td>\n      <td>17005</td>\n      <td>198</td>\n      <td>0</td>\n    </tr>\n    <tr>\n      <th>118</th>\n      <td>30460201</td>\n      <td>Ohohagari</td>\n      <td>大葉刈</td>\n      <td>Agito</td>\n      <td>4</td>\n      <td>30460201</td>\n      <td>Axe</td>\n      <td>4</td>\n      <td>6</td>\n      <td>Water</td>\n      <td>...</td>\n      <td>0</td>\n      <td>0</td>\n      <td>0</td>\n      <td>0</td>\n      <td>Ohohagari</td>\n      <td>Ohohagari</td>\n      <td>0</td>\n      <td>20310</td>\n      <td>221</td>\n      <td>0</td>\n    </tr>\n    <tr>\n      <th>119</th>\n      <td>30460301</td>\n      <td>Marmyadose</td>\n      <td>マルミアドワーズ</td>\n      <td>Agito</td>\n      <td>4</td>\n      <td>30460301</td>\n      <td>Axe</td>\n      <td>4</td>\n      <td>6</td>\n      <td>Wind</td>\n      <td>...</td>\n      <td>0</td>\n      <td>0</td>\n      <td>0</td>\n      <td>0</td>\n      <td>Marmyadose</td>\n      <td>Marmyadose</td>\n      <td>0</td>\n      <td>18628</td>\n      <td>209</td>\n      <td>0</td>\n    </tr>\n  </tbody>\n</table>\n<p>5 rows × 72 columns</p>\n</div>",
      "text/plain": "           Id            Name    NameJP WeaponSeries  WeaponSeriesId  \\\n117  30460101         Mjölnir     ミョルニル        Agito               4   \n120  30460401         Rog Mol    ローグ・モル        Agito               4   \n121  30460501  Fangtian Huaji      方天画戟        Agito               4   \n118  30460201       Ohohagari       大葉刈        Agito               4   \n119  30460301      Marmyadose  マルミアドワーズ        Agito               4   \n\n     WeaponSkinId WeaponType  WeaponTypeId  Rarity ElementalType  ...  \\\n117      30460101        Axe             4       6         Flame  ...   \n120      30460401        Axe             4       6         Light  ...   \n121      30460501        Axe             4       6        Shadow  ...   \n118      30460201        Axe             4       6         Water  ...   \n119      30460301        Axe             4       6          Wind  ...   \n\n     RewardWeaponSkinId2 RewardWeaponSkinId3  RewardWeaponSkinId4  \\\n117                    0                   0                    0   \n120                    0                   0                    0   \n121                    0                   0                    0   \n118                    0                   0                    0   \n119                    0                   0                    0   \n\n     RewardWeaponSkinId5       _pageName      _pageTitle  _pageNamespace  \\\n117                    0         Mjölnir         Mjölnir               0   \n120                    0         Rog Mol         Rog Mol               0   \n121                    0  Fangtian Huaji  Fangtian Huaji               0   \n118                    0       Ohohagari       Ohohagari               0   \n119                    0      Marmyadose      Marmyadose               0   \n\n     _pageID  _ID  CreateStartDate__precision  \n117    15249  172                           0  \n120    22392  238                           0  \n121    17005  198                           0  \n118    20310  221                           0  \n119    18628  209                           0  \n\n[5 rows x 72 columns]"
     },
     "execution_count": 7,
     "metadata": {},
     "output_type": "execute_result"
    }
   ],
   "source": [
    "df_weapons = weapon_dfs[\"Weapons\"]\n",
    "print(df_weapons.columns.sort_values())\n",
    "df_weapons[df_weapons.WeaponSeries=='Agito'].sort_values([\"WeaponType\", \"ElementalType\"]).head()"
   ]
  },
  {
   "cell_type": "code",
   "execution_count": 10,
   "metadata": {},
   "outputs": [
    {
     "name": "stdout",
     "output_type": "stream",
     "text": [
      "Index(['Id', 'WeaponBodyBuildupGroupId', 'BuildupPieceTypeId',\n",
      "       'BuildupPieceType', 'Step', 'UnlockConditionLevel',\n",
      "       'UnlockConditionLimitBreakCount', 'UnlockConditionLimitOverCount',\n",
      "       'RewardWeaponSkinNo', 'BuildupCoin', 'BuildupMaterialId1',\n",
      "       'BuildupMaterialQuantity1', 'BuildupMaterialId2',\n",
      "       'BuildupMaterialQuantity2', 'BuildupMaterialId3',\n",
      "       'BuildupMaterialQuantity3', 'BuildupMaterialId4',\n",
      "       'BuildupMaterialQuantity4', 'BuildupMaterialId5',\n",
      "       'BuildupMaterialQuantity5', 'BuildupMaterialId6',\n",
      "       'BuildupMaterialQuantity6', 'BuildupMaterialId7',\n",
      "       'BuildupMaterialQuantity7', 'BuildupMaterialId8',\n",
      "       'BuildupMaterialQuantity8', 'BuildupMaterialId9',\n",
      "       'BuildupMaterialQuantity9', 'BuildupMaterialId10',\n",
      "       'BuildupMaterialQuantity10', '_pageName', '_pageTitle',\n",
      "       '_pageNamespace', '_pageID', '_ID'],\n",
      "      dtype='object')\n"
     ]
    },
    {
     "data": {
      "text/html": "<div>\n<style scoped>\n    .dataframe tbody tr th:only-of-type {\n        vertical-align: middle;\n    }\n\n    .dataframe tbody tr th {\n        vertical-align: top;\n    }\n\n    .dataframe thead th {\n        text-align: right;\n    }\n</style>\n<table border=\"1\" class=\"dataframe\">\n  <thead>\n    <tr style=\"text-align: right;\">\n      <th></th>\n      <th>Id</th>\n      <th>WeaponBodyBuildupGroupId</th>\n      <th>BuildupPieceTypeId</th>\n      <th>BuildupPieceType</th>\n      <th>Step</th>\n      <th>UnlockConditionLevel</th>\n      <th>UnlockConditionLimitBreakCount</th>\n      <th>UnlockConditionLimitOverCount</th>\n      <th>RewardWeaponSkinNo</th>\n      <th>BuildupCoin</th>\n      <th>...</th>\n      <th>BuildupMaterialQuantity8</th>\n      <th>BuildupMaterialId9</th>\n      <th>BuildupMaterialQuantity9</th>\n      <th>BuildupMaterialId10</th>\n      <th>BuildupMaterialQuantity10</th>\n      <th>_pageName</th>\n      <th>_pageTitle</th>\n      <th>_pageNamespace</th>\n      <th>_pageID</th>\n      <th>_ID</th>\n    </tr>\n  </thead>\n  <tbody>\n    <tr>\n      <th>0</th>\n      <td>10000101</td>\n      <td>1000</td>\n      <td>1</td>\n      <td>Unbind</td>\n      <td>1</td>\n      <td>0</td>\n      <td>0</td>\n      <td>0</td>\n      <td>0</td>\n      <td>1000</td>\n      <td>...</td>\n      <td>0</td>\n      <td>0</td>\n      <td>0</td>\n      <td>0</td>\n      <td>0</td>\n      <td>Template:WeaponBodyBuildupGroup/Data</td>\n      <td>WeaponBodyBuildupGroup/Data</td>\n      <td>10</td>\n      <td>24278</td>\n      <td>7387</td>\n    </tr>\n    <tr>\n      <th>1</th>\n      <td>10000102</td>\n      <td>1000</td>\n      <td>1</td>\n      <td>Unbind</td>\n      <td>2</td>\n      <td>0</td>\n      <td>0</td>\n      <td>0</td>\n      <td>0</td>\n      <td>2000</td>\n      <td>...</td>\n      <td>0</td>\n      <td>0</td>\n      <td>0</td>\n      <td>0</td>\n      <td>0</td>\n      <td>Template:WeaponBodyBuildupGroup/Data</td>\n      <td>WeaponBodyBuildupGroup/Data</td>\n      <td>10</td>\n      <td>24278</td>\n      <td>7388</td>\n    </tr>\n    <tr>\n      <th>2</th>\n      <td>10000103</td>\n      <td>1000</td>\n      <td>1</td>\n      <td>Unbind</td>\n      <td>3</td>\n      <td>0</td>\n      <td>0</td>\n      <td>0</td>\n      <td>0</td>\n      <td>3000</td>\n      <td>...</td>\n      <td>0</td>\n      <td>0</td>\n      <td>0</td>\n      <td>0</td>\n      <td>0</td>\n      <td>Template:WeaponBodyBuildupGroup/Data</td>\n      <td>WeaponBodyBuildupGroup/Data</td>\n      <td>10</td>\n      <td>24278</td>\n      <td>7389</td>\n    </tr>\n    <tr>\n      <th>3</th>\n      <td>10000104</td>\n      <td>1000</td>\n      <td>1</td>\n      <td>Unbind</td>\n      <td>4</td>\n      <td>0</td>\n      <td>0</td>\n      <td>0</td>\n      <td>0</td>\n      <td>4000</td>\n      <td>...</td>\n      <td>0</td>\n      <td>0</td>\n      <td>0</td>\n      <td>0</td>\n      <td>0</td>\n      <td>Template:WeaponBodyBuildupGroup/Data</td>\n      <td>WeaponBodyBuildupGroup/Data</td>\n      <td>10</td>\n      <td>24278</td>\n      <td>7390</td>\n    </tr>\n    <tr>\n      <th>4</th>\n      <td>11000101</td>\n      <td>1100</td>\n      <td>1</td>\n      <td>Unbind</td>\n      <td>1</td>\n      <td>0</td>\n      <td>0</td>\n      <td>0</td>\n      <td>0</td>\n      <td>1000</td>\n      <td>...</td>\n      <td>0</td>\n      <td>0</td>\n      <td>0</td>\n      <td>0</td>\n      <td>0</td>\n      <td>Template:WeaponBodyBuildupGroup/Data</td>\n      <td>WeaponBodyBuildupGroup/Data</td>\n      <td>10</td>\n      <td>24278</td>\n      <td>7391</td>\n    </tr>\n  </tbody>\n</table>\n<p>5 rows × 35 columns</p>\n</div>",
      "text/plain": "         Id  WeaponBodyBuildupGroupId  BuildupPieceTypeId BuildupPieceType  \\\n0  10000101                      1000                   1           Unbind   \n1  10000102                      1000                   1           Unbind   \n2  10000103                      1000                   1           Unbind   \n3  10000104                      1000                   1           Unbind   \n4  11000101                      1100                   1           Unbind   \n\n   Step  UnlockConditionLevel  UnlockConditionLimitBreakCount  \\\n0     1                     0                               0   \n1     2                     0                               0   \n2     3                     0                               0   \n3     4                     0                               0   \n4     1                     0                               0   \n\n   UnlockConditionLimitOverCount  RewardWeaponSkinNo  BuildupCoin  ...  \\\n0                              0                   0         1000  ...   \n1                              0                   0         2000  ...   \n2                              0                   0         3000  ...   \n3                              0                   0         4000  ...   \n4                              0                   0         1000  ...   \n\n   BuildupMaterialQuantity8  BuildupMaterialId9  BuildupMaterialQuantity9  \\\n0                         0                   0                         0   \n1                         0                   0                         0   \n2                         0                   0                         0   \n3                         0                   0                         0   \n4                         0                   0                         0   \n\n   BuildupMaterialId10  BuildupMaterialQuantity10  \\\n0                    0                          0   \n1                    0                          0   \n2                    0                          0   \n3                    0                          0   \n4                    0                          0   \n\n                              _pageName                   _pageTitle  \\\n0  Template:WeaponBodyBuildupGroup/Data  WeaponBodyBuildupGroup/Data   \n1  Template:WeaponBodyBuildupGroup/Data  WeaponBodyBuildupGroup/Data   \n2  Template:WeaponBodyBuildupGroup/Data  WeaponBodyBuildupGroup/Data   \n3  Template:WeaponBodyBuildupGroup/Data  WeaponBodyBuildupGroup/Data   \n4  Template:WeaponBodyBuildupGroup/Data  WeaponBodyBuildupGroup/Data   \n\n   _pageNamespace  _pageID   _ID  \n0              10    24278  7387  \n1              10    24278  7388  \n2              10    24278  7389  \n3              10    24278  7390  \n4              10    24278  7391  \n\n[5 rows x 35 columns]"
     },
     "execution_count": 10,
     "metadata": {},
     "output_type": "execute_result"
    }
   ],
   "source": [
    "df_weaponCost = weapon_dfs[\"WeaponBodyBuildupGroup\"]\n",
    "print(df_weaponCost.columns)\n",
    "df_weaponCost.head()"
   ]
  },
  {
   "cell_type": "code",
   "execution_count": null,
   "metadata": {},
   "outputs": [],
   "source": []
  }
 ],
 "metadata": {
  "kernelspec": {
   "display_name": "Python 3",
   "language": "python",
   "name": "python3"
  },
  "language_info": {
   "codemirror_mode": {
    "name": "ipython",
    "version": 3
   },
   "file_extension": ".py",
   "mimetype": "text/x-python",
   "name": "python",
   "nbconvert_exporter": "python",
   "pygments_lexer": "ipython3",
   "version": "3.9.0-final"
  },
  "orig_nbformat": 2
 },
 "nbformat": 4,
 "nbformat_minor": 2
}