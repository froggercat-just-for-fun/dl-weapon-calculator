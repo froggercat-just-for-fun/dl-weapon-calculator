{
 "cells": [
  {
   "cell_type": "code",
   "execution_count": 2,
   "metadata": {},
   "outputs": [],
   "source": [
    "import requests\n",
    "import pandas as pd"
   ]
  },
  {
   "cell_type": "markdown",
   "metadata": {},
   "source": [
    "# Get Metadata"
   ]
  },
  {
   "cell_type": "markdown",
   "metadata": {},
   "source": [
    "## Tables"
   ]
  },
  {
   "cell_type": "code",
   "execution_count": 7,
   "metadata": {},
   "outputs": [
    {
     "data": {
      "text/html": "<div>\n<style scoped>\n    .dataframe tbody tr th:only-of-type {\n        vertical-align: middle;\n    }\n\n    .dataframe tbody tr th {\n        vertical-align: top;\n    }\n\n    .dataframe thead th {\n        text-align: right;\n    }\n</style>\n<table border=\"1\" class=\"dataframe\">\n  <thead>\n    <tr style=\"text-align: right;\">\n      <th></th>\n      <th>main_table</th>\n    </tr>\n  </thead>\n  <tbody>\n    <tr>\n      <th>0</th>\n      <td>ABRCharacter</td>\n    </tr>\n    <tr>\n      <th>1</th>\n      <td>ABRDragon</td>\n    </tr>\n    <tr>\n      <th>2</th>\n      <td>Abilities</td>\n    </tr>\n    <tr>\n      <th>3</th>\n      <td>AbilityGroup</td>\n    </tr>\n    <tr>\n      <th>4</th>\n      <td>AbilityLimitedGroup</td>\n    </tr>\n    <tr>\n      <th>...</th>\n      <td>...</td>\n    </tr>\n    <tr>\n      <th>56</th>\n      <td>WyrmprintRarity</td>\n    </tr>\n    <tr>\n      <th>57</th>\n      <td>WyrmprintTrade</td>\n    </tr>\n    <tr>\n      <th>58</th>\n      <td>Wyrmprints</td>\n    </tr>\n    <tr>\n      <th>59</th>\n      <td>Wyrmprintsv1</td>\n    </tr>\n    <tr>\n      <th>60</th>\n      <td>_pageData</td>\n    </tr>\n  </tbody>\n</table>\n<p>61 rows × 1 columns</p>\n</div>",
      "text/plain": "             main_table\n0          ABRCharacter\n1             ABRDragon\n2             Abilities\n3          AbilityGroup\n4   AbilityLimitedGroup\n..                  ...\n56      WyrmprintRarity\n57       WyrmprintTrade\n58           Wyrmprints\n59         Wyrmprintsv1\n60            _pageData\n\n[61 rows x 1 columns]"
     },
     "execution_count": 7,
     "metadata": {},
     "output_type": "execute_result"
    }
   ],
   "source": [
    "tables = requests.get(\"https://dragalialost.gamepedia.com/api.php?action=cargoqueryautocomplete&format=json&search=\").json()['cargoqueryautocomplete']\n",
    "pd.DataFrame(tables)"
   ]
  },
  {
   "cell_type": "code",
   "execution_count": null,
   "metadata": {},
   "outputs": [],
   "source": []
  }
 ],
 "metadata": {
  "kernelspec": {
   "display_name": "Python 3",
   "language": "python",
   "name": "python3"
  },
  "language_info": {
   "codemirror_mode": {
    "name": "ipython",
    "version": 3
   },
   "file_extension": ".py",
   "mimetype": "text/x-python",
   "name": "python",
   "nbconvert_exporter": "python",
   "pygments_lexer": "ipython3",
   "version": "3.9.0"
  },
  "orig_nbformat": 2
 },
 "nbformat": 4,
 "nbformat_minor": 2
}