{
 "cells": [
  {
   "cell_type": "code",
   "execution_count": 3,
   "metadata": {},
   "outputs": [],
   "source": [
    "import requests\n",
    "import pandas as pd"
   ]
  },
  {
   "cell_type": "markdown",
   "metadata": {},
   "source": [
    "# Get Metadata"
   ]
  },
  {
   "cell_type": "markdown",
   "metadata": {},
   "source": [
    "We can use the autocomplete API to get the list of available tables and fields to build our CSV exports."
   ]
  },
  {
   "cell_type": "code",
   "execution_count": 17,
   "metadata": {},
   "outputs": [],
   "source": [
    "autocomplete_url = \"https://dragalialost.gamepedia.com/api.php?action=cargoqueryautocomplete&format=json&search=\"\n",
    "result_key = \"cargoqueryautocomplete\""
   ]
  },
  {
   "cell_type": "markdown",
   "metadata": {},
   "source": [
    "## Tables"
   ]
  },
  {
   "cell_type": "code",
   "execution_count": 25,
   "metadata": {},
   "outputs": [
    {
     "data": {
      "text/html": "<div>\n<style scoped>\n    .dataframe tbody tr th:only-of-type {\n        vertical-align: middle;\n    }\n\n    .dataframe tbody tr th {\n        vertical-align: top;\n    }\n\n    .dataframe thead th {\n        text-align: right;\n    }\n</style>\n<table border=\"1\" class=\"dataframe\">\n  <thead>\n    <tr style=\"text-align: right;\">\n      <th></th>\n      <th>main_table</th>\n    </tr>\n  </thead>\n  <tbody>\n    <tr>\n      <th>0</th>\n      <td>ABRCharacter</td>\n    </tr>\n    <tr>\n      <th>1</th>\n      <td>ABRDragon</td>\n    </tr>\n    <tr>\n      <th>2</th>\n      <td>Abilities</td>\n    </tr>\n    <tr>\n      <th>3</th>\n      <td>AbilityGroup</td>\n    </tr>\n    <tr>\n      <th>4</th>\n      <td>AbilityLimitedGroup</td>\n    </tr>\n    <tr>\n      <th>...</th>\n      <td>...</td>\n    </tr>\n    <tr>\n      <th>56</th>\n      <td>WyrmprintRarity</td>\n    </tr>\n    <tr>\n      <th>57</th>\n      <td>WyrmprintTrade</td>\n    </tr>\n    <tr>\n      <th>58</th>\n      <td>Wyrmprints</td>\n    </tr>\n    <tr>\n      <th>59</th>\n      <td>Wyrmprintsv1</td>\n    </tr>\n    <tr>\n      <th>60</th>\n      <td>_pageData</td>\n    </tr>\n  </tbody>\n</table>\n<p>61 rows × 1 columns</p>\n</div>",
      "text/plain": "             main_table\n0          ABRCharacter\n1             ABRDragon\n2             Abilities\n3          AbilityGroup\n4   AbilityLimitedGroup\n..                  ...\n56      WyrmprintRarity\n57       WyrmprintTrade\n58           Wyrmprints\n59         Wyrmprintsv1\n60            _pageData\n\n[61 rows x 1 columns]"
     },
     "execution_count": 25,
     "metadata": {},
     "output_type": "execute_result"
    }
   ],
   "source": [
    "tables = requests.get(autocomplete_url).json()[result_key]\n",
    "pd.DataFrame(tables)"
   ]
  },
  {
   "cell_type": "markdown",
   "metadata": {},
   "source": [
    "## Fields"
   ]
  },
  {
   "cell_type": "code",
   "execution_count": 51,
   "metadata": {},
   "outputs": [],
   "source": [
    "def get_fields(table):\n",
    "    table_name = table[\"main_table\"]\n",
    "    fields = requests.get(autocomplete_url, params={\"tables\": table_name}).json()[result_key]\n",
    "    return {**table, **{\"fields\": fields}}"
   ]
  },
  {
   "cell_type": "code",
   "execution_count": 60,
   "metadata": {},
   "outputs": [
    {
     "name": "stdout",
     "output_type": "stream",
     "text": [
      "Elapsed Time:0.8138711452484131\n"
     ]
    }
   ],
   "source": [
    "import concurrent.futures\n",
    "import time\n",
    "\n",
    "start = time.time()\n",
    "\n",
    "with concurrent.futures.ThreadPoolExecutor() as executor:\n",
    "    futures = [executor.submit(get_fields, table) for table in tables]\n",
    "    tables_and_fields = [f.result() for f in futures]\n",
    "    \n",
    "print(f\"Elapsed Time:{time.time() - start}\")"
   ]
  },
  {
   "cell_type": "code",
   "execution_count": 61,
   "metadata": {},
   "outputs": [
    {
     "data": {
      "text/html": "<div>\n<style scoped>\n    .dataframe tbody tr th:only-of-type {\n        vertical-align: middle;\n    }\n\n    .dataframe tbody tr th {\n        vertical-align: top;\n    }\n\n    .dataframe thead th {\n        text-align: right;\n    }\n</style>\n<table border=\"1\" class=\"dataframe\">\n  <thead>\n    <tr style=\"text-align: right;\">\n      <th></th>\n      <th>main_table</th>\n      <th>fields</th>\n    </tr>\n  </thead>\n  <tbody>\n    <tr>\n      <th>0</th>\n      <td>ABRCharacter</td>\n      <td>[ABRCharacter.Id, ABRCharacter.Portrait, ABRCh...</td>\n    </tr>\n    <tr>\n      <th>1</th>\n      <td>ABRDragon</td>\n      <td>[ABRDragon.Id, ABRDragon.Portrait, ABRDragon.N...</td>\n    </tr>\n    <tr>\n      <th>2</th>\n      <td>Abilities</td>\n      <td>[Abilities.Id, Abilities.GenericName, Abilitie...</td>\n    </tr>\n    <tr>\n      <th>3</th>\n      <td>AbilityGroup</td>\n      <td>[AbilityGroup.Id, AbilityGroup.GroupName, Abil...</td>\n    </tr>\n    <tr>\n      <th>4</th>\n      <td>AbilityLimitedGroup</td>\n      <td>[AbilityLimitedGroup.Id, AbilityLimitedGroup.I...</td>\n    </tr>\n    <tr>\n      <th>...</th>\n      <td>...</td>\n      <td>...</td>\n    </tr>\n    <tr>\n      <th>56</th>\n      <td>WyrmprintRarity</td>\n      <td>[WyrmprintRarity.Id, WyrmprintRarity.MaxLimitL...</td>\n    </tr>\n    <tr>\n      <th>57</th>\n      <td>WyrmprintTrade</td>\n      <td>[WyrmprintTrade.Id, WyrmprintTrade.AbilityCres...</td>\n    </tr>\n    <tr>\n      <th>58</th>\n      <td>Wyrmprints</td>\n      <td>[Wyrmprints.Id, Wyrmprints.BaseId, Wyrmprints....</td>\n    </tr>\n    <tr>\n      <th>59</th>\n      <td>Wyrmprintsv1</td>\n      <td>[Wyrmprintsv1.Id, Wyrmprintsv1.BaseId, Wyrmpri...</td>\n    </tr>\n    <tr>\n      <th>60</th>\n      <td>_pageData</td>\n      <td>[_pageData._creationDate, _pageData._modificat...</td>\n    </tr>\n  </tbody>\n</table>\n<p>61 rows × 2 columns</p>\n</div>",
      "text/plain": "             main_table                                             fields\n0          ABRCharacter  [ABRCharacter.Id, ABRCharacter.Portrait, ABRCh...\n1             ABRDragon  [ABRDragon.Id, ABRDragon.Portrait, ABRDragon.N...\n2             Abilities  [Abilities.Id, Abilities.GenericName, Abilitie...\n3          AbilityGroup  [AbilityGroup.Id, AbilityGroup.GroupName, Abil...\n4   AbilityLimitedGroup  [AbilityLimitedGroup.Id, AbilityLimitedGroup.I...\n..                  ...                                                ...\n56      WyrmprintRarity  [WyrmprintRarity.Id, WyrmprintRarity.MaxLimitL...\n57       WyrmprintTrade  [WyrmprintTrade.Id, WyrmprintTrade.AbilityCres...\n58           Wyrmprints  [Wyrmprints.Id, Wyrmprints.BaseId, Wyrmprints....\n59         Wyrmprintsv1  [Wyrmprintsv1.Id, Wyrmprintsv1.BaseId, Wyrmpri...\n60            _pageData  [_pageData._creationDate, _pageData._modificat...\n\n[61 rows x 2 columns]"
     },
     "execution_count": 61,
     "metadata": {},
     "output_type": "execute_result"
    }
   ],
   "source": [
    "pd.DataFrame(tables_and_fields)"
   ]
  },
  {
   "cell_type": "markdown",
   "metadata": {},
   "source": [
    "# Get CSVs"
   ]
  },
  {
   "cell_type": "markdown",
   "metadata": {},
   "source": [
    "Now that we have the metadata, let's just grab all the data so we can mess around with it."
   ]
  },
  {
   "cell_type": "code",
   "execution_count": null,
   "metadata": {},
   "outputs": [],
   "source": []
  }
 ],
 "metadata": {
  "kernelspec": {
   "display_name": "Python 3",
   "language": "python",
   "name": "python3"
  },
  "language_info": {
   "codemirror_mode": {
    "name": "ipython",
    "version": 3
   },
   "file_extension": ".py",
   "mimetype": "text/x-python",
   "name": "python",
   "nbconvert_exporter": "python",
   "pygments_lexer": "ipython3",
   "version": "3.9.0"
  },
  "orig_nbformat": 2
 },
 "nbformat": 4,
 "nbformat_minor": 2
}