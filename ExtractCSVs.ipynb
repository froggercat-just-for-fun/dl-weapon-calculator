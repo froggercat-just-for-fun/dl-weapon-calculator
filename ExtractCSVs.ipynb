{
 "cells": [
  {
   "cell_type": "code",
   "execution_count": 99,
   "metadata": {},
   "outputs": [],
   "source": [
    "import requests\n",
    "import pandas as pd"
   ]
  },
  {
   "cell_type": "markdown",
   "metadata": {},
   "source": [
    "# Get Metadata"
   ]
  },
  {
   "cell_type": "markdown",
   "metadata": {},
   "source": [
    "We can use the autocomplete API to get the list of available tables and fields to build our CSV exports."
   ]
  },
  {
   "cell_type": "code",
   "execution_count": 100,
   "metadata": {},
   "outputs": [],
   "source": [
    "autocomplete_url = \"https://dragalialost.gamepedia.com/api.php?action=cargoqueryautocomplete&format=json&search=\"\n",
    "result_key = \"cargoqueryautocomplete\""
   ]
  },
  {
   "cell_type": "markdown",
   "metadata": {},
   "source": [
    "## Tables"
   ]
  },
  {
   "cell_type": "code",
   "execution_count": 101,
   "metadata": {},
   "outputs": [
    {
     "output_type": "execute_result",
     "data": {
      "text/plain": [
       "             main_table\n",
       "0          ABRCharacter\n",
       "1             ABRDragon\n",
       "2             Abilities\n",
       "3          AbilityGroup\n",
       "4   AbilityLimitedGroup\n",
       "..                  ...\n",
       "56      WyrmprintRarity\n",
       "57       WyrmprintTrade\n",
       "58           Wyrmprints\n",
       "59         Wyrmprintsv1\n",
       "60            _pageData\n",
       "\n",
       "[61 rows x 1 columns]"
      ],
      "text/html": "<div>\n<style scoped>\n    .dataframe tbody tr th:only-of-type {\n        vertical-align: middle;\n    }\n\n    .dataframe tbody tr th {\n        vertical-align: top;\n    }\n\n    .dataframe thead th {\n        text-align: right;\n    }\n</style>\n<table border=\"1\" class=\"dataframe\">\n  <thead>\n    <tr style=\"text-align: right;\">\n      <th></th>\n      <th>main_table</th>\n    </tr>\n  </thead>\n  <tbody>\n    <tr>\n      <th>0</th>\n      <td>ABRCharacter</td>\n    </tr>\n    <tr>\n      <th>1</th>\n      <td>ABRDragon</td>\n    </tr>\n    <tr>\n      <th>2</th>\n      <td>Abilities</td>\n    </tr>\n    <tr>\n      <th>3</th>\n      <td>AbilityGroup</td>\n    </tr>\n    <tr>\n      <th>4</th>\n      <td>AbilityLimitedGroup</td>\n    </tr>\n    <tr>\n      <th>...</th>\n      <td>...</td>\n    </tr>\n    <tr>\n      <th>56</th>\n      <td>WyrmprintRarity</td>\n    </tr>\n    <tr>\n      <th>57</th>\n      <td>WyrmprintTrade</td>\n    </tr>\n    <tr>\n      <th>58</th>\n      <td>Wyrmprints</td>\n    </tr>\n    <tr>\n      <th>59</th>\n      <td>Wyrmprintsv1</td>\n    </tr>\n    <tr>\n      <th>60</th>\n      <td>_pageData</td>\n    </tr>\n  </tbody>\n</table>\n<p>61 rows × 1 columns</p>\n</div>"
     },
     "metadata": {},
     "execution_count": 101
    }
   ],
   "source": [
    "tables = requests.get(autocomplete_url).json()[result_key]\n",
    "pd.DataFrame(tables)"
   ]
  },
  {
   "cell_type": "markdown",
   "metadata": {},
   "source": [
    "## Fields"
   ]
  },
  {
   "cell_type": "code",
   "execution_count": 102,
   "metadata": {},
   "outputs": [],
   "source": [
    "def get_fields(table):\n",
    "    table_name = table[\"main_table\"]\n",
    "    fields = requests.get(autocomplete_url, params={\"tables\": table_name}).json()[result_key]\n",
    "    return {**table, **{\"fields\": fields}}"
   ]
  },
  {
   "cell_type": "code",
   "execution_count": 103,
   "metadata": {},
   "outputs": [
    {
     "output_type": "stream",
     "name": "stdout",
     "text": [
      "Elapsed Time: 1.1237387657165527\n"
     ]
    }
   ],
   "source": [
    "import concurrent.futures\n",
    "import time\n",
    "\n",
    "start = time.time()\n",
    "\n",
    "with concurrent.futures.ThreadPoolExecutor() as executor:\n",
    "    futures = [executor.submit(get_fields, table) for table in tables]\n",
    "    tables_and_fields = [f.result() for f in futures]\n",
    "    \n",
    "print(f\"Elapsed Time: {time.time() - start}\")"
   ]
  },
  {
   "cell_type": "code",
   "execution_count": 104,
   "metadata": {},
   "outputs": [
    {
     "output_type": "execute_result",
     "data": {
      "text/plain": [
       "             main_table                                             fields\n",
       "0          ABRCharacter  [ABRCharacter.Id, ABRCharacter.Portrait, ABRCh...\n",
       "1             ABRDragon  [ABRDragon.Id, ABRDragon.Portrait, ABRDragon.N...\n",
       "2             Abilities  [Abilities.Id, Abilities.GenericName, Abilitie...\n",
       "3          AbilityGroup  [AbilityGroup.Id, AbilityGroup.GroupName, Abil...\n",
       "4   AbilityLimitedGroup  [AbilityLimitedGroup.Id, AbilityLimitedGroup.I...\n",
       "..                  ...                                                ...\n",
       "56      WyrmprintRarity  [WyrmprintRarity.Id, WyrmprintRarity.MaxLimitL...\n",
       "57       WyrmprintTrade  [WyrmprintTrade.Id, WyrmprintTrade.AbilityCres...\n",
       "58           Wyrmprints  [Wyrmprints.Id, Wyrmprints.BaseId, Wyrmprints....\n",
       "59         Wyrmprintsv1  [Wyrmprintsv1.Id, Wyrmprintsv1.BaseId, Wyrmpri...\n",
       "60            _pageData  [_pageData._creationDate, _pageData._modificat...\n",
       "\n",
       "[61 rows x 2 columns]"
      ],
      "text/html": "<div>\n<style scoped>\n    .dataframe tbody tr th:only-of-type {\n        vertical-align: middle;\n    }\n\n    .dataframe tbody tr th {\n        vertical-align: top;\n    }\n\n    .dataframe thead th {\n        text-align: right;\n    }\n</style>\n<table border=\"1\" class=\"dataframe\">\n  <thead>\n    <tr style=\"text-align: right;\">\n      <th></th>\n      <th>main_table</th>\n      <th>fields</th>\n    </tr>\n  </thead>\n  <tbody>\n    <tr>\n      <th>0</th>\n      <td>ABRCharacter</td>\n      <td>[ABRCharacter.Id, ABRCharacter.Portrait, ABRCh...</td>\n    </tr>\n    <tr>\n      <th>1</th>\n      <td>ABRDragon</td>\n      <td>[ABRDragon.Id, ABRDragon.Portrait, ABRDragon.N...</td>\n    </tr>\n    <tr>\n      <th>2</th>\n      <td>Abilities</td>\n      <td>[Abilities.Id, Abilities.GenericName, Abilitie...</td>\n    </tr>\n    <tr>\n      <th>3</th>\n      <td>AbilityGroup</td>\n      <td>[AbilityGroup.Id, AbilityGroup.GroupName, Abil...</td>\n    </tr>\n    <tr>\n      <th>4</th>\n      <td>AbilityLimitedGroup</td>\n      <td>[AbilityLimitedGroup.Id, AbilityLimitedGroup.I...</td>\n    </tr>\n    <tr>\n      <th>...</th>\n      <td>...</td>\n      <td>...</td>\n    </tr>\n    <tr>\n      <th>56</th>\n      <td>WyrmprintRarity</td>\n      <td>[WyrmprintRarity.Id, WyrmprintRarity.MaxLimitL...</td>\n    </tr>\n    <tr>\n      <th>57</th>\n      <td>WyrmprintTrade</td>\n      <td>[WyrmprintTrade.Id, WyrmprintTrade.AbilityCres...</td>\n    </tr>\n    <tr>\n      <th>58</th>\n      <td>Wyrmprints</td>\n      <td>[Wyrmprints.Id, Wyrmprints.BaseId, Wyrmprints....</td>\n    </tr>\n    <tr>\n      <th>59</th>\n      <td>Wyrmprintsv1</td>\n      <td>[Wyrmprintsv1.Id, Wyrmprintsv1.BaseId, Wyrmpri...</td>\n    </tr>\n    <tr>\n      <th>60</th>\n      <td>_pageData</td>\n      <td>[_pageData._creationDate, _pageData._modificat...</td>\n    </tr>\n  </tbody>\n</table>\n<p>61 rows × 2 columns</p>\n</div>"
     },
     "metadata": {},
     "execution_count": 104
    }
   ],
   "source": [
    "pd.DataFrame(tables_and_fields)"
   ]
  },
  {
   "cell_type": "markdown",
   "metadata": {},
   "source": [
    "# Get CSVs"
   ]
  },
  {
   "cell_type": "markdown",
   "metadata": {},
   "source": [
    "Now that we have the metadata, let's just grab all the data so we can mess around with it."
   ]
  },
  {
   "cell_type": "markdown",
   "metadata": {},
   "source": [
    "Here's an example query:\n",
    "\n",
    "```\n",
    "https://dragalialost.gamepedia.com/Special:CargoExport?tables=Abilities%2C&&fields=Abilities.Id%2C+Abilities.GenericName%2C&&order+by=%60cargo__Abilities%60.%60Id%60%2C%60cargo__Abilities%60.%60GenericName%60&limit=100&format=json\n",
    "```"
   ]
  },
  {
   "cell_type": "markdown",
   "metadata": {},
   "source": [
    "Transliterated into stuff you'd type:\n",
    "\n",
    "```\n",
    "https://dragalialost.gamepedia.com/Special:CargoExport?tables=Abilities, &fields=Abilities.Id, Abilities.GenericName,&&order by=`cargo__Abilities`.`Id`,`cargo__Abilities`.`GenericName`&limit=100&format=json\n",
    "```"
   ]
  },
  {
   "cell_type": "markdown",
   "metadata": {},
   "source": [
    "Finally, we'll separate the whole thing into the param dictionary:\n",
    "\n",
    "```python\n",
    "url=\"https://dragalialost.gamepedia.com/Special:CargoExport\"\n",
    "formatting_params = {\n",
    "    \"format\": \"json\",\n",
    "    \"limit\": \"100\" # We'll take this out later\n",
    "}\n",
    "data_params = {\n",
    "    \"tables\": \"Abilities\" # our main_table column\n",
    "    \"fields\": \"Abilities.Id,Abilities.GenericName\" # Comma separated list of our fields column. We can probably leave out the table names; we're not doing a join. btw spaces are optional\n",
    "    \"order by\": \"`cargo__Abilities`.`id`,`cargo__Abilities`.`GenericName`\" # We can ask the server to order the fields for us though I'm unsure if the server can really handle that\n",
    "}\n",
    "params = {**formatting_params, **data_params}\n",
    "```"
   ]
  },
  {
   "cell_type": "markdown",
   "metadata": {},
   "source": [
    "Let's see about our order_by fields ... I'll be committing these files to github so we'll _really_ appreciate ordering when we do a diff. May as well ask the server to do it for us."
   ]
  },
  {
   "cell_type": "markdown",
   "metadata": {},
   "source": [
    "## Create OrderBy Fields"
   ]
  },
  {
   "cell_type": "code",
   "execution_count": 105,
   "metadata": {},
   "outputs": [],
   "source": [
    "for table in tables_and_fields:\n",
    "    default_ids = [i for i in table['fields'] if 'Id' in i and not 'Ids' in i] # Skills has SkillId and SkillIds, adding both to orderby breaks API\n",
    "    backup_ids = [i for i in table['fields'] if 'ID' in i] # I suspect these are psuedo ID fields for pagination, not sure we can trust them not to change\n",
    "    order_by = default_ids if default_ids else backup_ids\n",
    "    table[\"order_by\"] = order_by"
   ]
  },
  {
   "cell_type": "code",
   "execution_count": 106,
   "metadata": {},
   "outputs": [
    {
     "output_type": "execute_result",
     "data": {
      "text/plain": [
       "             main_table                                             fields  \\\n",
       "0          ABRCharacter  [ABRCharacter.Id, ABRCharacter.Portrait, ABRCh...   \n",
       "1             ABRDragon  [ABRDragon.Id, ABRDragon.Portrait, ABRDragon.N...   \n",
       "2             Abilities  [Abilities.Id, Abilities.GenericName, Abilitie...   \n",
       "3          AbilityGroup  [AbilityGroup.Id, AbilityGroup.GroupName, Abil...   \n",
       "4   AbilityLimitedGroup  [AbilityLimitedGroup.Id, AbilityLimitedGroup.I...   \n",
       "..                  ...                                                ...   \n",
       "56      WyrmprintRarity  [WyrmprintRarity.Id, WyrmprintRarity.MaxLimitL...   \n",
       "57       WyrmprintTrade  [WyrmprintTrade.Id, WyrmprintTrade.AbilityCres...   \n",
       "58           Wyrmprints  [Wyrmprints.Id, Wyrmprints.BaseId, Wyrmprints....   \n",
       "59         Wyrmprintsv1  [Wyrmprintsv1.Id, Wyrmprintsv1.BaseId, Wyrmpri...   \n",
       "60            _pageData  [_pageData._creationDate, _pageData._modificat...   \n",
       "\n",
       "                                             order_by  \n",
       "0        [ABRCharacter.Id, ABRCharacter.WeaponTypeId]  \n",
       "1                                      [ABRDragon.Id]  \n",
       "2   [Abilities.Id, Abilities.AbilityLimitedGroupId...  \n",
       "3                                   [AbilityGroup.Id]  \n",
       "4                            [AbilityLimitedGroup.Id]  \n",
       "..                                                ...  \n",
       "56                               [WyrmprintRarity.Id]  \n",
       "57  [WyrmprintTrade.Id, WyrmprintTrade.AbilityCres...  \n",
       "58  [Wyrmprints.Id, Wyrmprints.BaseId, Wyrmprints....  \n",
       "59  [Wyrmprintsv1.Id, Wyrmprintsv1.BaseId, Wyrmpri...  \n",
       "60                 [_pageData._pageID, _pageData._ID]  \n",
       "\n",
       "[61 rows x 3 columns]"
      ],
      "text/html": "<div>\n<style scoped>\n    .dataframe tbody tr th:only-of-type {\n        vertical-align: middle;\n    }\n\n    .dataframe tbody tr th {\n        vertical-align: top;\n    }\n\n    .dataframe thead th {\n        text-align: right;\n    }\n</style>\n<table border=\"1\" class=\"dataframe\">\n  <thead>\n    <tr style=\"text-align: right;\">\n      <th></th>\n      <th>main_table</th>\n      <th>fields</th>\n      <th>order_by</th>\n    </tr>\n  </thead>\n  <tbody>\n    <tr>\n      <th>0</th>\n      <td>ABRCharacter</td>\n      <td>[ABRCharacter.Id, ABRCharacter.Portrait, ABRCh...</td>\n      <td>[ABRCharacter.Id, ABRCharacter.WeaponTypeId]</td>\n    </tr>\n    <tr>\n      <th>1</th>\n      <td>ABRDragon</td>\n      <td>[ABRDragon.Id, ABRDragon.Portrait, ABRDragon.N...</td>\n      <td>[ABRDragon.Id]</td>\n    </tr>\n    <tr>\n      <th>2</th>\n      <td>Abilities</td>\n      <td>[Abilities.Id, Abilities.GenericName, Abilitie...</td>\n      <td>[Abilities.Id, Abilities.AbilityLimitedGroupId...</td>\n    </tr>\n    <tr>\n      <th>3</th>\n      <td>AbilityGroup</td>\n      <td>[AbilityGroup.Id, AbilityGroup.GroupName, Abil...</td>\n      <td>[AbilityGroup.Id]</td>\n    </tr>\n    <tr>\n      <th>4</th>\n      <td>AbilityLimitedGroup</td>\n      <td>[AbilityLimitedGroup.Id, AbilityLimitedGroup.I...</td>\n      <td>[AbilityLimitedGroup.Id]</td>\n    </tr>\n    <tr>\n      <th>...</th>\n      <td>...</td>\n      <td>...</td>\n      <td>...</td>\n    </tr>\n    <tr>\n      <th>56</th>\n      <td>WyrmprintRarity</td>\n      <td>[WyrmprintRarity.Id, WyrmprintRarity.MaxLimitL...</td>\n      <td>[WyrmprintRarity.Id]</td>\n    </tr>\n    <tr>\n      <th>57</th>\n      <td>WyrmprintTrade</td>\n      <td>[WyrmprintTrade.Id, WyrmprintTrade.AbilityCres...</td>\n      <td>[WyrmprintTrade.Id, WyrmprintTrade.AbilityCres...</td>\n    </tr>\n    <tr>\n      <th>58</th>\n      <td>Wyrmprints</td>\n      <td>[Wyrmprints.Id, Wyrmprints.BaseId, Wyrmprints....</td>\n      <td>[Wyrmprints.Id, Wyrmprints.BaseId, Wyrmprints....</td>\n    </tr>\n    <tr>\n      <th>59</th>\n      <td>Wyrmprintsv1</td>\n      <td>[Wyrmprintsv1.Id, Wyrmprintsv1.BaseId, Wyrmpri...</td>\n      <td>[Wyrmprintsv1.Id, Wyrmprintsv1.BaseId, Wyrmpri...</td>\n    </tr>\n    <tr>\n      <th>60</th>\n      <td>_pageData</td>\n      <td>[_pageData._creationDate, _pageData._modificat...</td>\n      <td>[_pageData._pageID, _pageData._ID]</td>\n    </tr>\n  </tbody>\n</table>\n<p>61 rows × 3 columns</p>\n</div>"
     },
     "metadata": {},
     "execution_count": 106
    }
   ],
   "source": [
    "pd.DataFrame(tables_and_fields)"
   ]
  },
  {
   "source": [
    "## Create a Data Folder"
   ],
   "cell_type": "markdown",
   "metadata": {}
  },
  {
   "cell_type": "code",
   "execution_count": 107,
   "metadata": {},
   "outputs": [
    {
     "output_type": "stream",
     "name": "stdout",
     "text": [
      "[Errno 17] File exists: 'data'\n"
     ]
    }
   ],
   "source": [
    "import os\n",
    "from datetime import datetime\n",
    "\n",
    "data_dir=\"data\"\n",
    "\n",
    "try:\n",
    "    os.mkdir(data_dir)\n",
    "except OSError as error:\n",
    "    print(error)\n",
    "    pass\n",
    "with open(os.path.join(data_dir, \"last_updated\"), \"w\") as last_update_file:\n",
    "    last_update_file.write(datetime.now().strftime(\"%Y-%m-%d %H:%M:%S\"))"
   ]
  },
  {
   "source": [
    "## Retrieve Data"
   ],
   "cell_type": "markdown",
   "metadata": {}
  },
  {
   "cell_type": "code",
   "execution_count": 108,
   "metadata": {},
   "outputs": [],
   "source": [
    "def get_data(table):\n",
    "    start = time.time()\n",
    "    url = \"https://dragalialost.gamepedia.com/Special:CargoExport\"\n",
    "    table_name = table[\"main_table\"]\n",
    "    table_fields = table[\"fields\"]\n",
    "    order_by = table[\"order_by\"]\n",
    "    formatting_params  = {\n",
    "        \"format\": \"json\",\n",
    "        \"limit\": \"100000\" # Needed or it limits to 100\n",
    "    }\n",
    "    data_params = {\n",
    "        \"tables\": table_name, # our main_table column\n",
    "        \"fields\": \",\".join(table_fields),\n",
    "        \"order by\": \",\".join([f\"`cargo__{field.split('.')[0]}`.`{field.split('.')[1]}`\" for field in order_by])\n",
    "        # \"order by\": \"`cargo__Abilities`.`id`,`cargo__Abilities`.`GenericName`\" # We can ask the server to order the fields for us though I'm unsure if the server can really handle that\n",
    "    }\n",
    "    params = {**formatting_params, **data_params}\n",
    "    errors = None\n",
    "    result = []\n",
    "    response = requests.get(url, params=params)\n",
    "    try:\n",
    "        result = response.json()\n",
    "        pd.DataFrame(result).to_csv(os.path.join(data_dir, f\"{table_name}.csv\"), index=False, chunksize=1000)\n",
    "    except Exception as e:\n",
    "        errors = e\n",
    "    end = time.time()\n",
    "    return {\n",
    "        \"name\": table_name,\n",
    "        \"records_pulled\": len(result),\n",
    "        \"start_time\": start,\n",
    "        \"end_time\": end,\n",
    "        \"duration\": end - start,\n",
    "        \"url\": response.url,\n",
    "        \"errors\": errors\n",
    "    }"
   ]
  },
  {
   "cell_type": "code",
   "execution_count": 109,
   "metadata": {},
   "outputs": [
    {
     "output_type": "stream",
     "name": "stdout",
     "text": [
      "Elapsed Time: 2.2394890785217285\n"
     ]
    },
    {
     "output_type": "execute_result",
     "data": {
      "text/plain": [
       "                   name  records_pulled    start_time      end_time  duration  \\\n",
       "0          ABRCharacter              10  1.609973e+09  1.609973e+09  0.252192   \n",
       "1             ABRDragon               3  1.609973e+09  1.609973e+09  0.285397   \n",
       "2             Abilities            1980  1.609973e+09  1.609973e+09  0.532327   \n",
       "3          AbilityGroup              23  1.609973e+09  1.609973e+09  0.276250   \n",
       "4   AbilityLimitedGroup             174  1.609973e+09  1.609973e+09  0.330788   \n",
       "..                  ...             ...           ...           ...       ...   \n",
       "56      WyrmprintRarity               5  1.609973e+09  1.609973e+09  0.321758   \n",
       "57       WyrmprintTrade             181  1.609973e+09  1.609973e+09  0.376904   \n",
       "58           Wyrmprints             256  1.609973e+09  1.609973e+09  0.623990   \n",
       "59         Wyrmprintsv1             239  1.609973e+09  1.609973e+09  0.638331   \n",
       "60            _pageData            5000  1.609973e+09  1.609973e+09  0.706216   \n",
       "\n",
       "                                                  url errors  \n",
       "0   https://dragalialost.gamepedia.com/Special:Car...   None  \n",
       "1   https://dragalialost.gamepedia.com/Special:Car...   None  \n",
       "2   https://dragalialost.gamepedia.com/Special:Car...   None  \n",
       "3   https://dragalialost.gamepedia.com/Special:Car...   None  \n",
       "4   https://dragalialost.gamepedia.com/Special:Car...   None  \n",
       "..                                                ...    ...  \n",
       "56  https://dragalialost.gamepedia.com/Special:Car...   None  \n",
       "57  https://dragalialost.gamepedia.com/Special:Car...   None  \n",
       "58  https://dragalialost.gamepedia.com/Special:Car...   None  \n",
       "59  https://dragalialost.gamepedia.com/Special:Car...   None  \n",
       "60  https://dragalialost.gamepedia.com/Special:Car...   None  \n",
       "\n",
       "[61 rows x 7 columns]"
      ],
      "text/html": "<div>\n<style scoped>\n    .dataframe tbody tr th:only-of-type {\n        vertical-align: middle;\n    }\n\n    .dataframe tbody tr th {\n        vertical-align: top;\n    }\n\n    .dataframe thead th {\n        text-align: right;\n    }\n</style>\n<table border=\"1\" class=\"dataframe\">\n  <thead>\n    <tr style=\"text-align: right;\">\n      <th></th>\n      <th>name</th>\n      <th>records_pulled</th>\n      <th>start_time</th>\n      <th>end_time</th>\n      <th>duration</th>\n      <th>url</th>\n      <th>errors</th>\n    </tr>\n  </thead>\n  <tbody>\n    <tr>\n      <th>0</th>\n      <td>ABRCharacter</td>\n      <td>10</td>\n      <td>1.609973e+09</td>\n      <td>1.609973e+09</td>\n      <td>0.252192</td>\n      <td>https://dragalialost.gamepedia.com/Special:Car...</td>\n      <td>None</td>\n    </tr>\n    <tr>\n      <th>1</th>\n      <td>ABRDragon</td>\n      <td>3</td>\n      <td>1.609973e+09</td>\n      <td>1.609973e+09</td>\n      <td>0.285397</td>\n      <td>https://dragalialost.gamepedia.com/Special:Car...</td>\n      <td>None</td>\n    </tr>\n    <tr>\n      <th>2</th>\n      <td>Abilities</td>\n      <td>1980</td>\n      <td>1.609973e+09</td>\n      <td>1.609973e+09</td>\n      <td>0.532327</td>\n      <td>https://dragalialost.gamepedia.com/Special:Car...</td>\n      <td>None</td>\n    </tr>\n    <tr>\n      <th>3</th>\n      <td>AbilityGroup</td>\n      <td>23</td>\n      <td>1.609973e+09</td>\n      <td>1.609973e+09</td>\n      <td>0.276250</td>\n      <td>https://dragalialost.gamepedia.com/Special:Car...</td>\n      <td>None</td>\n    </tr>\n    <tr>\n      <th>4</th>\n      <td>AbilityLimitedGroup</td>\n      <td>174</td>\n      <td>1.609973e+09</td>\n      <td>1.609973e+09</td>\n      <td>0.330788</td>\n      <td>https://dragalialost.gamepedia.com/Special:Car...</td>\n      <td>None</td>\n    </tr>\n    <tr>\n      <th>...</th>\n      <td>...</td>\n      <td>...</td>\n      <td>...</td>\n      <td>...</td>\n      <td>...</td>\n      <td>...</td>\n      <td>...</td>\n    </tr>\n    <tr>\n      <th>56</th>\n      <td>WyrmprintRarity</td>\n      <td>5</td>\n      <td>1.609973e+09</td>\n      <td>1.609973e+09</td>\n      <td>0.321758</td>\n      <td>https://dragalialost.gamepedia.com/Special:Car...</td>\n      <td>None</td>\n    </tr>\n    <tr>\n      <th>57</th>\n      <td>WyrmprintTrade</td>\n      <td>181</td>\n      <td>1.609973e+09</td>\n      <td>1.609973e+09</td>\n      <td>0.376904</td>\n      <td>https://dragalialost.gamepedia.com/Special:Car...</td>\n      <td>None</td>\n    </tr>\n    <tr>\n      <th>58</th>\n      <td>Wyrmprints</td>\n      <td>256</td>\n      <td>1.609973e+09</td>\n      <td>1.609973e+09</td>\n      <td>0.623990</td>\n      <td>https://dragalialost.gamepedia.com/Special:Car...</td>\n      <td>None</td>\n    </tr>\n    <tr>\n      <th>59</th>\n      <td>Wyrmprintsv1</td>\n      <td>239</td>\n      <td>1.609973e+09</td>\n      <td>1.609973e+09</td>\n      <td>0.638331</td>\n      <td>https://dragalialost.gamepedia.com/Special:Car...</td>\n      <td>None</td>\n    </tr>\n    <tr>\n      <th>60</th>\n      <td>_pageData</td>\n      <td>5000</td>\n      <td>1.609973e+09</td>\n      <td>1.609973e+09</td>\n      <td>0.706216</td>\n      <td>https://dragalialost.gamepedia.com/Special:Car...</td>\n      <td>None</td>\n    </tr>\n  </tbody>\n</table>\n<p>61 rows × 7 columns</p>\n</div>"
     },
     "metadata": {},
     "execution_count": 109
    }
   ],
   "source": [
    "start = time.time()\n",
    "\n",
    "with concurrent.futures.ThreadPoolExecutor() as executor:\n",
    "    futures = [executor.submit(get_data, table) for table in tables_and_fields]\n",
    "    summary = [f.result() for f in futures]\n",
    "    \n",
    "print(f\"Elapsed Time: {time.time() - start}\")\n",
    "\n",
    "output = pd.DataFrame(summary)\n",
    "output.to_csv(os.path.join(data_dir, \"summary\"), index=False)\n",
    "output"
   ]
  }
 ],
 "metadata": {
  "kernelspec": {
   "display_name": "Python 3",
   "language": "python",
   "name": "python3"
  },
  "language_info": {
   "codemirror_mode": {
    "name": "ipython",
    "version": 3
   },
   "file_extension": ".py",
   "mimetype": "text/x-python",
   "name": "python",
   "nbconvert_exporter": "python",
   "pygments_lexer": "ipython3",
   "version": "3.9.0-final"
  },
  "orig_nbformat": 2
 },
 "nbformat": 4,
 "nbformat_minor": 2
}