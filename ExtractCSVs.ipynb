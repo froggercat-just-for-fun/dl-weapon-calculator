{
 "cells": [
  {
   "cell_type": "code",
   "execution_count": 3,
   "metadata": {},
   "outputs": [],
   "source": [
    "import requests\n",
    "import pandas as pd"
   ]
  },
  {
   "cell_type": "markdown",
   "metadata": {},
   "source": [
    "# Get Metadata"
   ]
  },
  {
   "cell_type": "markdown",
   "metadata": {},
   "source": [
    "We can use the autocomplete API to get the list of available tables and fields to build our CSV exports."
   ]
  },
  {
   "cell_type": "code",
   "execution_count": 17,
   "metadata": {},
   "outputs": [],
   "source": [
    "autocomplete_url = \"https://dragalialost.gamepedia.com/api.php?action=cargoqueryautocomplete&format=json&search=\"\n",
    "result_key = \"cargoqueryautocomplete\""
   ]
  },
  {
   "cell_type": "markdown",
   "metadata": {},
   "source": [
    "## Tables"
   ]
  },
  {
   "cell_type": "code",
   "execution_count": 25,
   "metadata": {},
   "outputs": [
    {
     "data": {
      "text/html": "<div>\n<style scoped>\n    .dataframe tbody tr th:only-of-type {\n        vertical-align: middle;\n    }\n\n    .dataframe tbody tr th {\n        vertical-align: top;\n    }\n\n    .dataframe thead th {\n        text-align: right;\n    }\n</style>\n<table border=\"1\" class=\"dataframe\">\n  <thead>\n    <tr style=\"text-align: right;\">\n      <th></th>\n      <th>main_table</th>\n    </tr>\n  </thead>\n  <tbody>\n    <tr>\n      <th>0</th>\n      <td>ABRCharacter</td>\n    </tr>\n    <tr>\n      <th>1</th>\n      <td>ABRDragon</td>\n    </tr>\n    <tr>\n      <th>2</th>\n      <td>Abilities</td>\n    </tr>\n    <tr>\n      <th>3</th>\n      <td>AbilityGroup</td>\n    </tr>\n    <tr>\n      <th>4</th>\n      <td>AbilityLimitedGroup</td>\n    </tr>\n    <tr>\n      <th>...</th>\n      <td>...</td>\n    </tr>\n    <tr>\n      <th>56</th>\n      <td>WyrmprintRarity</td>\n    </tr>\n    <tr>\n      <th>57</th>\n      <td>WyrmprintTrade</td>\n    </tr>\n    <tr>\n      <th>58</th>\n      <td>Wyrmprints</td>\n    </tr>\n    <tr>\n      <th>59</th>\n      <td>Wyrmprintsv1</td>\n    </tr>\n    <tr>\n      <th>60</th>\n      <td>_pageData</td>\n    </tr>\n  </tbody>\n</table>\n<p>61 rows × 1 columns</p>\n</div>",
      "text/plain": "             main_table\n0          ABRCharacter\n1             ABRDragon\n2             Abilities\n3          AbilityGroup\n4   AbilityLimitedGroup\n..                  ...\n56      WyrmprintRarity\n57       WyrmprintTrade\n58           Wyrmprints\n59         Wyrmprintsv1\n60            _pageData\n\n[61 rows x 1 columns]"
     },
     "execution_count": 25,
     "metadata": {},
     "output_type": "execute_result"
    }
   ],
   "source": [
    "tables = requests.get(autocomplete_url).json()[result_key]\n",
    "pd.DataFrame(tables)"
   ]
  },
  {
   "cell_type": "markdown",
   "metadata": {},
   "source": [
    "## Fields"
   ]
  },
  {
   "cell_type": "code",
   "execution_count": 51,
   "metadata": {},
   "outputs": [],
   "source": [
    "def get_fields(table):\n",
    "    table_name = table[\"main_table\"]\n",
    "    fields = requests.get(autocomplete_url, params={\"tables\": table_name}).json()[result_key]\n",
    "    return {**table, **{\"fields\": fields}}"
   ]
  },
  {
   "cell_type": "code",
   "execution_count": 60,
   "metadata": {},
   "outputs": [
    {
     "name": "stdout",
     "output_type": "stream",
     "text": [
      "Elapsed Time:0.8138711452484131\n"
     ]
    }
   ],
   "source": [
    "import concurrent.futures\n",
    "import time\n",
    "\n",
    "start = time.time()\n",
    "\n",
    "with concurrent.futures.ThreadPoolExecutor() as executor:\n",
    "    futures = [executor.submit(get_fields, table) for table in tables]\n",
    "    tables_and_fields = [f.result() for f in futures]\n",
    "    \n",
    "print(f\"Elapsed Time:{time.time() - start}\")"
   ]
  },
  {
   "cell_type": "code",
   "execution_count": 61,
   "metadata": {},
   "outputs": [
    {
     "data": {
      "text/html": "<div>\n<style scoped>\n    .dataframe tbody tr th:only-of-type {\n        vertical-align: middle;\n    }\n\n    .dataframe tbody tr th {\n        vertical-align: top;\n    }\n\n    .dataframe thead th {\n        text-align: right;\n    }\n</style>\n<table border=\"1\" class=\"dataframe\">\n  <thead>\n    <tr style=\"text-align: right;\">\n      <th></th>\n      <th>main_table</th>\n      <th>fields</th>\n    </tr>\n  </thead>\n  <tbody>\n    <tr>\n      <th>0</th>\n      <td>ABRCharacter</td>\n      <td>[ABRCharacter.Id, ABRCharacter.Portrait, ABRCh...</td>\n    </tr>\n    <tr>\n      <th>1</th>\n      <td>ABRDragon</td>\n      <td>[ABRDragon.Id, ABRDragon.Portrait, ABRDragon.N...</td>\n    </tr>\n    <tr>\n      <th>2</th>\n      <td>Abilities</td>\n      <td>[Abilities.Id, Abilities.GenericName, Abilitie...</td>\n    </tr>\n    <tr>\n      <th>3</th>\n      <td>AbilityGroup</td>\n      <td>[AbilityGroup.Id, AbilityGroup.GroupName, Abil...</td>\n    </tr>\n    <tr>\n      <th>4</th>\n      <td>AbilityLimitedGroup</td>\n      <td>[AbilityLimitedGroup.Id, AbilityLimitedGroup.I...</td>\n    </tr>\n    <tr>\n      <th>...</th>\n      <td>...</td>\n      <td>...</td>\n    </tr>\n    <tr>\n      <th>56</th>\n      <td>WyrmprintRarity</td>\n      <td>[WyrmprintRarity.Id, WyrmprintRarity.MaxLimitL...</td>\n    </tr>\n    <tr>\n      <th>57</th>\n      <td>WyrmprintTrade</td>\n      <td>[WyrmprintTrade.Id, WyrmprintTrade.AbilityCres...</td>\n    </tr>\n    <tr>\n      <th>58</th>\n      <td>Wyrmprints</td>\n      <td>[Wyrmprints.Id, Wyrmprints.BaseId, Wyrmprints....</td>\n    </tr>\n    <tr>\n      <th>59</th>\n      <td>Wyrmprintsv1</td>\n      <td>[Wyrmprintsv1.Id, Wyrmprintsv1.BaseId, Wyrmpri...</td>\n    </tr>\n    <tr>\n      <th>60</th>\n      <td>_pageData</td>\n      <td>[_pageData._creationDate, _pageData._modificat...</td>\n    </tr>\n  </tbody>\n</table>\n<p>61 rows × 2 columns</p>\n</div>",
      "text/plain": "             main_table                                             fields\n0          ABRCharacter  [ABRCharacter.Id, ABRCharacter.Portrait, ABRCh...\n1             ABRDragon  [ABRDragon.Id, ABRDragon.Portrait, ABRDragon.N...\n2             Abilities  [Abilities.Id, Abilities.GenericName, Abilitie...\n3          AbilityGroup  [AbilityGroup.Id, AbilityGroup.GroupName, Abil...\n4   AbilityLimitedGroup  [AbilityLimitedGroup.Id, AbilityLimitedGroup.I...\n..                  ...                                                ...\n56      WyrmprintRarity  [WyrmprintRarity.Id, WyrmprintRarity.MaxLimitL...\n57       WyrmprintTrade  [WyrmprintTrade.Id, WyrmprintTrade.AbilityCres...\n58           Wyrmprints  [Wyrmprints.Id, Wyrmprints.BaseId, Wyrmprints....\n59         Wyrmprintsv1  [Wyrmprintsv1.Id, Wyrmprintsv1.BaseId, Wyrmpri...\n60            _pageData  [_pageData._creationDate, _pageData._modificat...\n\n[61 rows x 2 columns]"
     },
     "execution_count": 61,
     "metadata": {},
     "output_type": "execute_result"
    }
   ],
   "source": [
    "pd.DataFrame(tables_and_fields)"
   ]
  },
  {
   "cell_type": "markdown",
   "metadata": {},
   "source": [
    "# Get CSVs"
   ]
  },
  {
   "cell_type": "markdown",
   "metadata": {},
   "source": [
    "Now that we have the metadata, let's just grab all the data so we can mess around with it."
   ]
  },
  {
   "cell_type": "markdown",
   "metadata": {},
   "source": [
    "Here's an example query:\n",
    "\n",
    "```\n",
    "https://dragalialost.gamepedia.com/Special:CargoExport?tables=Abilities%2C&&fields=Abilities.Id%2C+Abilities.GenericName%2C&&order+by=%60cargo__Abilities%60.%60Id%60%2C%60cargo__Abilities%60.%60GenericName%60&limit=100&format=json\n",
    "```"
   ]
  },
  {
   "cell_type": "markdown",
   "metadata": {},
   "source": [
    "Transliterated into stuff you'd type:\n",
    "\n",
    "```\n",
    "https://dragalialost.gamepedia.com/Special:CargoExport?tables=Abilities, &fields=Abilities.Id, Abilities.GenericName,&&order by=`cargo__Abilities`.`Id`,`cargo__Abilities`.`GenericName`&limit=100&format=json\n",
    "```"
   ]
  },
  {
   "cell_type": "markdown",
   "metadata": {},
   "source": [
    "Finally, we'll separate the whole thing into the param dictionary:\n",
    "\n",
    "```python\n",
    "url=\"https://dragalialost.gamepedia.com/Special:CargoExport\"\n",
    "formatting_params = {\n",
    "    \"format\": \"json\",\n",
    "    \"limit\": \"100\" # We'll take this out later\n",
    "}\n",
    "data_params = {\n",
    "    \"tables\": \"Abilities\" # our main_table column\n",
    "    \"fields\": \"Abilities.Id,Abilities.GenericName\" # Comma separated list of our fields column. We can probably leave out the table names; we're not doing a join. btw spaces are optional\n",
    "    \"order by\": \"`cargo__Abilities`.`id`,`cargo__Abilities`.`GenericName`\" # We can ask the server to order the fields for us though I'm unsure if the server can really handle that\n",
    "}\n",
    "params = {**formatting_params, **data_params}\n",
    "```"
   ]
  },
  {
   "cell_type": "markdown",
   "metadata": {},
   "source": [
    "Let's see about our order_by fields ... I'll be committing these files to github so we'll _really_ appreciate ordering when we do a diff. May as well ask the server to do it for us."
   ]
  },
  {
   "cell_type": "markdown",
   "metadata": {},
   "source": [
    "## Create OrderBy Fields"
   ]
  },
  {
   "cell_type": "code",
   "execution_count": 69,
   "metadata": {},
   "outputs": [],
   "source": [
    "for table in tables_and_fields:\n",
    "    default_ids = [i for i in table['fields'] if 'Id' in i]\n",
    "    backup_ids = [i for i in table['fields'] if 'ID' in i] # I suspect these are psuedo ID fields for pagination, not sure we can trust them not to change\n",
    "    order_by = default_ids if default_ids else backup_ids\n",
    "    table[\"order_by\"] = order_by"
   ]
  },
  {
   "cell_type": "code",
   "execution_count": 70,
   "metadata": {},
   "outputs": [
    {
     "data": {
      "text/html": "<div>\n<style scoped>\n    .dataframe tbody tr th:only-of-type {\n        vertical-align: middle;\n    }\n\n    .dataframe tbody tr th {\n        vertical-align: top;\n    }\n\n    .dataframe thead th {\n        text-align: right;\n    }\n</style>\n<table border=\"1\" class=\"dataframe\">\n  <thead>\n    <tr style=\"text-align: right;\">\n      <th></th>\n      <th>main_table</th>\n      <th>fields</th>\n      <th>order_by</th>\n    </tr>\n  </thead>\n  <tbody>\n    <tr>\n      <th>0</th>\n      <td>ABRCharacter</td>\n      <td>[ABRCharacter.Id, ABRCharacter.Portrait, ABRCh...</td>\n      <td>[ABRCharacter.Id, ABRCharacter.WeaponTypeId]</td>\n    </tr>\n    <tr>\n      <th>1</th>\n      <td>ABRDragon</td>\n      <td>[ABRDragon.Id, ABRDragon.Portrait, ABRDragon.N...</td>\n      <td>[ABRDragon.Id]</td>\n    </tr>\n    <tr>\n      <th>2</th>\n      <td>Abilities</td>\n      <td>[Abilities.Id, Abilities.GenericName, Abilitie...</td>\n      <td>[Abilities.Id, Abilities.AbilityLimitedGroupId...</td>\n    </tr>\n    <tr>\n      <th>3</th>\n      <td>AbilityGroup</td>\n      <td>[AbilityGroup.Id, AbilityGroup.GroupName, Abil...</td>\n      <td>[AbilityGroup.Id]</td>\n    </tr>\n    <tr>\n      <th>4</th>\n      <td>AbilityLimitedGroup</td>\n      <td>[AbilityLimitedGroup.Id, AbilityLimitedGroup.I...</td>\n      <td>[AbilityLimitedGroup.Id]</td>\n    </tr>\n    <tr>\n      <th>...</th>\n      <td>...</td>\n      <td>...</td>\n      <td>...</td>\n    </tr>\n    <tr>\n      <th>56</th>\n      <td>WyrmprintRarity</td>\n      <td>[WyrmprintRarity.Id, WyrmprintRarity.MaxLimitL...</td>\n      <td>[WyrmprintRarity.Id]</td>\n    </tr>\n    <tr>\n      <th>57</th>\n      <td>WyrmprintTrade</td>\n      <td>[WyrmprintTrade.Id, WyrmprintTrade.AbilityCres...</td>\n      <td>[WyrmprintTrade.Id, WyrmprintTrade.AbilityCres...</td>\n    </tr>\n    <tr>\n      <th>58</th>\n      <td>Wyrmprints</td>\n      <td>[Wyrmprints.Id, Wyrmprints.BaseId, Wyrmprints....</td>\n      <td>[Wyrmprints.Id, Wyrmprints.BaseId, Wyrmprints....</td>\n    </tr>\n    <tr>\n      <th>59</th>\n      <td>Wyrmprintsv1</td>\n      <td>[Wyrmprintsv1.Id, Wyrmprintsv1.BaseId, Wyrmpri...</td>\n      <td>[Wyrmprintsv1.Id, Wyrmprintsv1.BaseId, Wyrmpri...</td>\n    </tr>\n    <tr>\n      <th>60</th>\n      <td>_pageData</td>\n      <td>[_pageData._creationDate, _pageData._modificat...</td>\n      <td>[_pageData._pageID, _pageData._ID]</td>\n    </tr>\n  </tbody>\n</table>\n<p>61 rows × 3 columns</p>\n</div>",
      "text/plain": "             main_table                                             fields  \\\n0          ABRCharacter  [ABRCharacter.Id, ABRCharacter.Portrait, ABRCh...   \n1             ABRDragon  [ABRDragon.Id, ABRDragon.Portrait, ABRDragon.N...   \n2             Abilities  [Abilities.Id, Abilities.GenericName, Abilitie...   \n3          AbilityGroup  [AbilityGroup.Id, AbilityGroup.GroupName, Abil...   \n4   AbilityLimitedGroup  [AbilityLimitedGroup.Id, AbilityLimitedGroup.I...   \n..                  ...                                                ...   \n56      WyrmprintRarity  [WyrmprintRarity.Id, WyrmprintRarity.MaxLimitL...   \n57       WyrmprintTrade  [WyrmprintTrade.Id, WyrmprintTrade.AbilityCres...   \n58           Wyrmprints  [Wyrmprints.Id, Wyrmprints.BaseId, Wyrmprints....   \n59         Wyrmprintsv1  [Wyrmprintsv1.Id, Wyrmprintsv1.BaseId, Wyrmpri...   \n60            _pageData  [_pageData._creationDate, _pageData._modificat...   \n\n                                             order_by  \n0        [ABRCharacter.Id, ABRCharacter.WeaponTypeId]  \n1                                      [ABRDragon.Id]  \n2   [Abilities.Id, Abilities.AbilityLimitedGroupId...  \n3                                   [AbilityGroup.Id]  \n4                            [AbilityLimitedGroup.Id]  \n..                                                ...  \n56                               [WyrmprintRarity.Id]  \n57  [WyrmprintTrade.Id, WyrmprintTrade.AbilityCres...  \n58  [Wyrmprints.Id, Wyrmprints.BaseId, Wyrmprints....  \n59  [Wyrmprintsv1.Id, Wyrmprintsv1.BaseId, Wyrmpri...  \n60                 [_pageData._pageID, _pageData._ID]  \n\n[61 rows x 3 columns]"
     },
     "execution_count": 70,
     "metadata": {},
     "output_type": "execute_result"
    }
   ],
   "source": [
    "pd.DataFrame(tables_and_fields)"
   ]
  },
  {
   "cell_type": "code",
   "execution_count": null,
   "metadata": {},
   "outputs": [],
   "source": []
  }
 ],
 "metadata": {
  "kernelspec": {
   "display_name": "Python 3",
   "language": "python",
   "name": "python3"
  },
  "language_info": {
   "codemirror_mode": {
    "name": "ipython",
    "version": 3
   },
   "file_extension": ".py",
   "mimetype": "text/x-python",
   "name": "python",
   "nbconvert_exporter": "python",
   "pygments_lexer": "ipython3",
   "version": "3.9.0"
  },
  "orig_nbformat": 2
 },
 "nbformat": 4,
 "nbformat_minor": 2
}